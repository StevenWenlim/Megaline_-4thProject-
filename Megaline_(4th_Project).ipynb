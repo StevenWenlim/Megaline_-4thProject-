{
  "cells": [
    {
      "cell_type": "markdown",
      "metadata": {
        "id": "apmLRh-OZwxW"
      },
      "source": [
        "# Paket Prabayar yang mendatangkan lebih banyak keuntungan?<a id='title'></a>"
      ]
    },
    {
      "cell_type": "markdown",
      "metadata": {
        "id": "uTguH91eZwxW"
      },
      "source": [
        "# Konten <a id='contents'></a>\n",
        "\n",
        "* [1 Gambaran Besar](#big_picture)\n",
        "    * [1.1 Pendahuluan](#intro)\n",
        "    * [1.2 Deskripsi Data](#data_description)\n",
        "    * [1.3 Tujuan dan Langkah-Langkah Pengerjaan Projek](#goals_and_step)\n",
        "\n",
        "* [2 Prapemrosesan Data](#data_preprocessing)\n",
        "    * [2.1 Memuat Data](#load_data)\n",
        "    * [2.2 Eksplorasi Data Awal](#initial_data_exploration)\n",
        "        * [2.2.1 Eksplorasi Data Awal Tabel Users](#initial_users_data_exploration)\n",
        "        * [2.2.2 Eksplorasi Data Awal Tabel Calls](#initial_plans_data_exploration)\n",
        "        * [2.2.3 Eksplorasi Data Awal Tabel Messages](#initial_messages_data_exploration)\n",
        "        * [2.2.4 Eksplorasi Data Awal Tabel Internet](#initial_internet_data_exploration)\n",
        "        * [2.2.5 Eksplorasi Data Awal Tabel Plans](#initial_plans_data_exploration)\n",
        "    * [2.3 Kesimpulan dan Langkah-Langkah Selanjutnya](#initial_summary)\n",
        "    \n",
        "* [3 Menanggulangi Data yang Bermasalah](#deal_with_wrong_data)\n",
        "\n",
        "* [4 Memperbaiki Tipe Data](#fix_data_type)\n",
        "\n",
        "* [5 Memperbaiki Kualitas Data](#improve_data_quality)\n",
        "\n",
        "* [6 Menjumlahkan Jumlah Penggunaan per Pelanggan](#sum_data_per_user) \n",
        "    * [6.1 Menjumlahkan Jumlah Panggilan per Pelanggan](#sum_calls_data_per_user)\n",
        "    * [6.2 Menjumlahkan Jumlah Pesan per Pelanggan](#sum_messages_data_per_user)\n",
        "    * [6.3 Menjumlahkan Jumlah Pemakaian Kuota per Pelanggan](#sum_internet_usage_per_user)\n",
        "\n",
        "* [7 Menggabungkan Data](#merge_data) \n",
        "\n",
        "* [8 Mencari Pendapatan Bulanan dari Setiap Pengguna](#monthly_revenue) \n",
        "\n",
        "* [9 Analisa Data](#data_analysis)\n",
        "    * [9.1 Analisa karakteristik pengguna plan 'Surf](#surf_plan_analysis)\n",
        "    * [9.2 Analisa karakteristik pengguna plan 'Ultimate](#ultimate_plan_analysis)\n",
        "    \n",
        "* [10 Menguji Hipotesis](#)\n",
        "    * [10.1 Rata-rata pendapatan dari pengguna paket telepon Ultimate dan Surf berbeda](#surf_ultimate_revenue)\n",
        "    * [10.2 Rata-rata pendapatan dari pengguna di wilayah NY-NJ berbeda dengan pendapatan pengguna dari wilayah lain](#ny_nj_revenue)\n",
        "\n",
        "* [11 Kesimpulan](#summary)"
      ]
    },
    {
      "cell_type": "markdown",
      "metadata": {
        "id": "dOhZju9mZwxX"
      },
      "source": [
        "## Gambaran Besar <a id='big_picture'></a>"
      ]
    },
    {
      "cell_type": "markdown",
      "metadata": {
        "id": "MT0aVrJFZwxX"
      },
      "source": [
        "### Pendahuluan <a id='intro'></a>"
      ]
    },
    {
      "cell_type": "markdown",
      "metadata": {
        "id": "bRlCKvXxZwxX"
      },
      "source": [
        "Perusahaan Megaline menawarkan kliennya dua paket prabayar, Surf dan Ultimate. Saya diminta untuk mencari tahu paket prabayar mana yang menghasilkan lebih banyak pendapatan untuk menyesuaikan anggaran iklan. Disini saya akan melakukan analisis awal untuk paket-paket prabayar tersebut berdasarkan sampel klien yang berukuran relatif kecil."
      ]
    },
    {
      "cell_type": "markdown",
      "metadata": {
        "id": "TFVtOQ14ZwxY"
      },
      "source": [
        "**Catatan:** \n",
        "\n",
        "Megaline membulatkan detik ke menit, serta membulatkan megabita ke gigabita. Untuk panggilan, setiap panggilan individual dibulatkan ke atas: bahkan jika panggilan tersebut berlangsung hanya satu detik, ia akan dihitung sebagai satu menit. Untuk lalu lintas web, setiap sesi web tidak dibulatkan ke atas. Akan tetapi, total untuk sebulan dibulatkan ke atas. Jika seorang pengguna menghabiskan 1025 megabita bulan ini, maka ia akan dikenai biaya untuk 2 gigabita.\n",
        "\n",
        "**Surf**\n",
        "\n",
        "Biaya bulanan: $20\n",
        "\n",
        "500 menit durasi panggilan per bulan, 50 SMS, dan 15 GB data\n",
        "\n",
        "Setelah melebihi batas paket, akan dikenakan:\n",
        " - 1 menit: 3 sen\n",
        " \n",
        " - 1 SMS: 3 sen\n",
        " \n",
        " - 1 GB data: $10\n",
        "\n",
        "**Ultimate**\n",
        "\n",
        "Biaya bulanan: $70\n",
        "\n",
        "3000 menit durasi panggilan per bulan, 1000 SMS, dan 30 GB data\n",
        "\n",
        "Setelah melebihi batas paket, akan dikenakan:\n",
        " - 1 menit: 1 sen\n",
        " \n",
        " - 1 SMS: 1 sen\n",
        " \n",
        " - 1 GB data: $7"
      ]
    },
    {
      "cell_type": "markdown",
      "metadata": {
        "id": "d6g9danKZwxY"
      },
      "source": [
        "### Deskripsi Data <a id='data_description'></a>"
      ]
    },
    {
      "cell_type": "markdown",
      "metadata": {
        "id": "43tKxlMzZwxY"
      },
      "source": [
        "Tabel **users** (data pengguna):\n",
        "- user_id — ID pengguna\n",
        "\n",
        "- first_name — nama depan pengguna\n",
        "- last_name — nama belakang pengguna\n",
        "- age — usia pengguna (tahun)\n",
        "- reg_date — tanggal mulai berlangganan (dd, mm, yy)\n",
        "- churn_date — tanggal pengguna berhenti menggunakan layanan (jika nilainya hilang atau tidak ada, berarti paket layanan sedang digunakan saat data ini dibuat)\n",
        "- city — kota tempat tinggal pengguna\n",
        "- plan — nama paket telepon\n",
        "\n",
        "Tabel **calls** (data panggilan):\n",
        "- id — ID sesi web unik\n",
        "- call_date — tanggal panggilan\n",
        "- duration — durasi panggilan (dalam menit)\n",
        "- user_id — ID pengguna yang melakukan panggilan\n",
        "\n",
        "Tabel **messages** (data SMS):\n",
        "- id — ID SMS unik\n",
        "- message_date — tanggal SMS dikirim\n",
        "- user_id — ID pengguna yang mengirim SMS\n",
        "\n",
        "Tabel **internet** (data sesi web):\n",
        "- id — ID sesi web unik\n",
        "- mb_used — volume data yang dihabiskan selama sesi (dalam megabita)\n",
        "- session_date — tanggal sesi web\n",
        "- user_id — ID pengguna\n",
        "\n",
        "Tabel **plans** (data paket telepon):\n",
        "- plan_name — nama paket telepon\n",
        "- usd_monthly_fee — biaya bulanan dalam dolar AS\n",
        "- minutes_included — alokasi menit panggilan bulanan\n",
        "- messages_included — alokasi SMS bulanan\n",
        "- mb_per_month_included — alokasi volume data bulanan (dalam megabita)\n",
        "- usd_per_minute — harga per menit jika telah melebihi batas alokasi paket (misalnya, jika paket memiliki alokasi 100 menit, maka penggunaan mulai dari menit ke-101 akan dikenakan biaya)\n",
        "- usd_per_message — harga per SMS jika telah melebihi batas alokasi paket\n",
        "- usd_per_gb — harga per ekstra gigabita data jika telah melebihi batas alokasi paket (1 GB = 1024 megabita)"
      ]
    },
    {
      "cell_type": "markdown",
      "metadata": {
        "id": "H_ptAemyZwxZ"
      },
      "source": [
        "### Tujuan dan Langkah-Langkah Pengerjaan Projek <a id='goals_and_step'></a>"
      ]
    },
    {
      "cell_type": "markdown",
      "metadata": {
        "id": "V6oCRMjXZwxZ"
      },
      "source": [
        "**Tujuan dari proyek ini adalah melihat pola/karakteristik perilaku klien dan menentukan paket yang mendatangkan keuntungan lebih besar**\n",
        "\n",
        "**Langkah yang akan saya lakukan**\n",
        "1. Mempelajari data dari tiap tabel \n",
        "2. Melakukan perbaikan pada data (baik perubahan format, pengisian nilai yang hilang, maupun eliminasi data)\n",
        "3. Melakukan analisis data eksploratif\n",
        "4. Melakukan pengujian hipotesis\n",
        "5. Membuat kesimpulan terkait dari analisis data yang dilakukan"
      ]
    },
    {
      "cell_type": "markdown",
      "metadata": {
        "id": "58s7ucSUZwxa"
      },
      "source": [
        "## Pra Pemrosesan Data <a id='data_preprocessing'></a>"
      ]
    },
    {
      "cell_type": "code",
      "execution_count": null,
      "metadata": {
        "id": "BEajYq7kZwxa"
      },
      "outputs": [],
      "source": [
        "# Muat semua library\n",
        "import pandas as pd\n",
        "import matplotlib.pyplot as plt\n",
        "import seaborn as sns\n",
        "from scipy import stats as st \n",
        "import numpy as np"
      ]
    },
    {
      "cell_type": "markdown",
      "metadata": {
        "id": "jKAEukS9Zwxb"
      },
      "source": [
        "### Memuat Data <a id='load_data'></a>"
      ]
    },
    {
      "cell_type": "code",
      "execution_count": null,
      "metadata": {
        "id": "hk9m5aYHZwxb"
      },
      "outputs": [],
      "source": [
        "# Muat file data menjadi DataFrame\n",
        "df_calls = pd.read_csv('/datasets/megaline_calls.csv')\n",
        "df_internet = pd.read_csv('/datasets/megaline_internet.csv')\n",
        "df_messages = pd.read_csv('/datasets/megaline_messages.csv')\n",
        "df_plans = pd.read_csv('/datasets/megaline_plans.csv')\n",
        "df_users = pd.read_csv('/datasets/megaline_users.csv')"
      ]
    },
    {
      "cell_type": "markdown",
      "metadata": {
        "id": "Oa2HlQ89Zwxc"
      },
      "source": [
        "### Eksplorasi Data Awal <a id='initial_data_exploration'></a>"
      ]
    },
    {
      "cell_type": "markdown",
      "metadata": {
        "id": "U0VU6dZrZwxc"
      },
      "source": [
        "#### Eksplorasi Data Awal Tabel Users <a id='initial_users_data_exploration'></a>"
      ]
    },
    {
      "cell_type": "markdown",
      "metadata": {
        "id": "pchBmMKyZwxc"
      },
      "source": [
        "Tabel **users** (data pengguna):\n",
        "- user_id — ID pengguna\n",
        "- first_name — nama depan pengguna\n",
        "- last_name — nama belakang pengguna\n",
        "- age — usia pengguna (tahun)\n",
        "- city — kota tempat tinggal pengguna\n",
        "- reg_date — tanggal mulai berlangganan (dd, mm, yy)\n",
        "- plan — nama paket telepon\n",
        "- churn_date — tanggal pengguna berhenti menggunakan layanan (jika nilainya hilang atau tidak ada, berarti paket layanan sedang digunakan saat data ini dibuat)"
      ]
    },
    {
      "cell_type": "code",
      "execution_count": null,
      "metadata": {
        "id": "IfoIM1MUZwxc",
        "outputId": "2d91de55-88c5-4db3-caad-cf913f6c1a6a"
      },
      "outputs": [
        {
          "name": "stdout",
          "output_type": "stream",
          "text": [
            "<class 'pandas.core.frame.DataFrame'>\n",
            "RangeIndex: 500 entries, 0 to 499\n",
            "Data columns (total 8 columns):\n",
            " #   Column      Non-Null Count  Dtype \n",
            "---  ------      --------------  ----- \n",
            " 0   user_id     500 non-null    int64 \n",
            " 1   first_name  500 non-null    object\n",
            " 2   last_name   500 non-null    object\n",
            " 3   age         500 non-null    int64 \n",
            " 4   city        500 non-null    object\n",
            " 5   reg_date    500 non-null    object\n",
            " 6   plan        500 non-null    object\n",
            " 7   churn_date  34 non-null     object\n",
            "dtypes: int64(2), object(6)\n",
            "memory usage: 31.4+ KB\n"
          ]
        }
      ],
      "source": [
        "# Menampilkan informasi/rangkuman umum tentang DataFrame\n",
        "df_users.info()"
      ]
    },
    {
      "cell_type": "code",
      "execution_count": null,
      "metadata": {
        "id": "rKNyYE5CZwxd",
        "outputId": "f555f5e8-df03-41ca-ec48-90a6e3632ca1"
      },
      "outputs": [
        {
          "data": {
            "text/html": [
              "<div>\n",
              "<style scoped>\n",
              "    .dataframe tbody tr th:only-of-type {\n",
              "        vertical-align: middle;\n",
              "    }\n",
              "\n",
              "    .dataframe tbody tr th {\n",
              "        vertical-align: top;\n",
              "    }\n",
              "\n",
              "    .dataframe thead th {\n",
              "        text-align: right;\n",
              "    }\n",
              "</style>\n",
              "<table border=\"1\" class=\"dataframe\">\n",
              "  <thead>\n",
              "    <tr style=\"text-align: right;\">\n",
              "      <th></th>\n",
              "      <th>user_id</th>\n",
              "      <th>first_name</th>\n",
              "      <th>last_name</th>\n",
              "      <th>age</th>\n",
              "      <th>city</th>\n",
              "      <th>reg_date</th>\n",
              "      <th>plan</th>\n",
              "      <th>churn_date</th>\n",
              "    </tr>\n",
              "  </thead>\n",
              "  <tbody>\n",
              "    <tr>\n",
              "      <th>124</th>\n",
              "      <td>1124</td>\n",
              "      <td>Jenell</td>\n",
              "      <td>Navarro</td>\n",
              "      <td>48</td>\n",
              "      <td>New Haven-Milford, CT MSA</td>\n",
              "      <td>2018-02-19</td>\n",
              "      <td>ultimate</td>\n",
              "      <td>NaN</td>\n",
              "    </tr>\n",
              "    <tr>\n",
              "      <th>352</th>\n",
              "      <td>1352</td>\n",
              "      <td>Gavin</td>\n",
              "      <td>Galloway</td>\n",
              "      <td>48</td>\n",
              "      <td>Seattle-Tacoma-Bellevue, WA MSA</td>\n",
              "      <td>2018-09-08</td>\n",
              "      <td>ultimate</td>\n",
              "      <td>NaN</td>\n",
              "    </tr>\n",
              "    <tr>\n",
              "      <th>39</th>\n",
              "      <td>1039</td>\n",
              "      <td>Flo</td>\n",
              "      <td>Hicks</td>\n",
              "      <td>56</td>\n",
              "      <td>Columbus, OH MSA</td>\n",
              "      <td>2018-05-30</td>\n",
              "      <td>ultimate</td>\n",
              "      <td>NaN</td>\n",
              "    </tr>\n",
              "    <tr>\n",
              "      <th>211</th>\n",
              "      <td>1211</td>\n",
              "      <td>Vito</td>\n",
              "      <td>Cameron</td>\n",
              "      <td>60</td>\n",
              "      <td>New York-Newark-Jersey City, NY-NJ-PA MSA</td>\n",
              "      <td>2018-06-30</td>\n",
              "      <td>ultimate</td>\n",
              "      <td>NaN</td>\n",
              "    </tr>\n",
              "    <tr>\n",
              "      <th>69</th>\n",
              "      <td>1069</td>\n",
              "      <td>Dino</td>\n",
              "      <td>Fry</td>\n",
              "      <td>31</td>\n",
              "      <td>Houston-The Woodlands-Sugar Land, TX MSA</td>\n",
              "      <td>2018-09-17</td>\n",
              "      <td>ultimate</td>\n",
              "      <td>NaN</td>\n",
              "    </tr>\n",
              "  </tbody>\n",
              "</table>\n",
              "</div>"
            ],
            "text/plain": [
              "     user_id first_name last_name  age  \\\n",
              "124     1124     Jenell   Navarro   48   \n",
              "352     1352      Gavin  Galloway   48   \n",
              "39      1039        Flo     Hicks   56   \n",
              "211     1211       Vito   Cameron   60   \n",
              "69      1069       Dino       Fry   31   \n",
              "\n",
              "                                          city    reg_date      plan  \\\n",
              "124                  New Haven-Milford, CT MSA  2018-02-19  ultimate   \n",
              "352            Seattle-Tacoma-Bellevue, WA MSA  2018-09-08  ultimate   \n",
              "39                            Columbus, OH MSA  2018-05-30  ultimate   \n",
              "211  New York-Newark-Jersey City, NY-NJ-PA MSA  2018-06-30  ultimate   \n",
              "69    Houston-The Woodlands-Sugar Land, TX MSA  2018-09-17  ultimate   \n",
              "\n",
              "    churn_date  \n",
              "124        NaN  \n",
              "352        NaN  \n",
              "39         NaN  \n",
              "211        NaN  \n",
              "69         NaN  "
            ]
          },
          "execution_count": 4,
          "metadata": {},
          "output_type": "execute_result"
        }
      ],
      "source": [
        "# Menampilkan sample DataFrame\n",
        "df_users.sample(5)"
      ]
    },
    {
      "cell_type": "code",
      "execution_count": null,
      "metadata": {
        "id": "pShnLJI9Zwxd",
        "outputId": "e6726007-9d9b-464e-d68e-69d293385f47"
      },
      "outputs": [
        {
          "data": {
            "text/plain": [
              "New York-Newark-Jersey City, NY-NJ-PA MSA          80\n",
              "Los Angeles-Long Beach-Anaheim, CA MSA             29\n",
              "Dallas-Fort Worth-Arlington, TX MSA                21\n",
              "Chicago-Naperville-Elgin, IL-IN-WI MSA             19\n",
              "Philadelphia-Camden-Wilmington, PA-NJ-DE-MD MSA    17\n",
              "                                                   ..\n",
              "El Paso, TX MSA                                     1\n",
              "Raleigh-Cary, NC MSA                                1\n",
              "Albany-Schenectady-Troy, NY MSA                     1\n",
              "Stockton, CA MSA                                    1\n",
              "Oxnard-Thousand Oaks-Ventura, CA MSA                1\n",
              "Name: city, Length: 73, dtype: int64"
            ]
          },
          "execution_count": 5,
          "metadata": {},
          "output_type": "execute_result"
        }
      ],
      "source": [
        "# Menampilkan jumlah unik dari kolom city\n",
        "df_users['city'].value_counts()"
      ]
    },
    {
      "cell_type": "code",
      "execution_count": null,
      "metadata": {
        "id": "uS6cugkvZwxd",
        "outputId": "b3dc4db0-dae5-4228-fdf0-a495efdbc198"
      },
      "outputs": [
        {
          "data": {
            "text/plain": [
              "user_id       500\n",
              "first_name    458\n",
              "last_name     399\n",
              "age            58\n",
              "city           73\n",
              "reg_date      266\n",
              "plan            2\n",
              "churn_date     29\n",
              "dtype: int64"
            ]
          },
          "execution_count": 6,
          "metadata": {},
          "output_type": "execute_result"
        }
      ],
      "source": [
        "# Melakukan pengecekan nilai unik disetiap kolom\n",
        "df_users.nunique()"
      ]
    },
    {
      "cell_type": "markdown",
      "metadata": {
        "id": "4UgUO9XgZwxd"
      },
      "source": [
        "**Insights:**\n",
        "1. Terdapat banyak data yang hilang pada kolom **'churn_date'**, tetapi nilai yang hilang ini disebabkan karena paket layanan sedang digunakan saat data ini dibuat sehingga dapat disimpulkan pada tabel df_users tidak terdapat data yang hilang\n",
        "2. Kolom **'req_date', 'churn_date'** ini memiliki tipe data yang tidak sesuai\n",
        "3. Diperlukan pengkategorian data untuk kolom **'age'** dan **'city'** untuk mempermudah analisis data"
      ]
    },
    {
      "cell_type": "markdown",
      "metadata": {
        "id": "OFsG6xmAZwxd"
      },
      "source": [
        "#### Eksplorasi Data Awal Tabel Calls <a id='initial_calls_data_exploration'></a>"
      ]
    },
    {
      "cell_type": "markdown",
      "metadata": {
        "id": "NjlyKhqSZwxe"
      },
      "source": [
        "Tabel **calls** (data panggilan):\n",
        "- id — ID sesi web unik\n",
        "- call_date — tanggal panggilan\n",
        "- duration — durasi panggilan (dalam menit)\n",
        "- user_id — ID pengguna yang melakukan panggilan"
      ]
    },
    {
      "cell_type": "code",
      "execution_count": null,
      "metadata": {
        "id": "DouDXdasZwxe",
        "outputId": "e72110bd-16ed-48e9-b598-fb7d679ac015"
      },
      "outputs": [
        {
          "name": "stdout",
          "output_type": "stream",
          "text": [
            "<class 'pandas.core.frame.DataFrame'>\n",
            "RangeIndex: 137735 entries, 0 to 137734\n",
            "Data columns (total 4 columns):\n",
            " #   Column     Non-Null Count   Dtype  \n",
            "---  ------     --------------   -----  \n",
            " 0   id         137735 non-null  object \n",
            " 1   user_id    137735 non-null  int64  \n",
            " 2   call_date  137735 non-null  object \n",
            " 3   duration   137735 non-null  float64\n",
            "dtypes: float64(1), int64(1), object(2)\n",
            "memory usage: 4.2+ MB\n"
          ]
        }
      ],
      "source": [
        "# Menampilkan informasi/rangkuman umum tentang DataFrame\n",
        "df_calls.info()"
      ]
    },
    {
      "cell_type": "code",
      "execution_count": null,
      "metadata": {
        "id": "3auFI0OFZwxe",
        "outputId": "9b9ab2be-3875-479c-8498-bf26ef427082"
      },
      "outputs": [
        {
          "data": {
            "text/html": [
              "<div>\n",
              "<style scoped>\n",
              "    .dataframe tbody tr th:only-of-type {\n",
              "        vertical-align: middle;\n",
              "    }\n",
              "\n",
              "    .dataframe tbody tr th {\n",
              "        vertical-align: top;\n",
              "    }\n",
              "\n",
              "    .dataframe thead th {\n",
              "        text-align: right;\n",
              "    }\n",
              "</style>\n",
              "<table border=\"1\" class=\"dataframe\">\n",
              "  <thead>\n",
              "    <tr style=\"text-align: right;\">\n",
              "      <th></th>\n",
              "      <th>id</th>\n",
              "      <th>user_id</th>\n",
              "      <th>call_date</th>\n",
              "      <th>duration</th>\n",
              "    </tr>\n",
              "  </thead>\n",
              "  <tbody>\n",
              "    <tr>\n",
              "      <th>54813</th>\n",
              "      <td>1196_707</td>\n",
              "      <td>1196</td>\n",
              "      <td>2018-07-04</td>\n",
              "      <td>19.63</td>\n",
              "    </tr>\n",
              "    <tr>\n",
              "      <th>8027</th>\n",
              "      <td>1038_138</td>\n",
              "      <td>1038</td>\n",
              "      <td>2018-11-03</td>\n",
              "      <td>7.57</td>\n",
              "    </tr>\n",
              "    <tr>\n",
              "      <th>21669</th>\n",
              "      <td>1079_382</td>\n",
              "      <td>1079</td>\n",
              "      <td>2018-12-31</td>\n",
              "      <td>10.93</td>\n",
              "    </tr>\n",
              "    <tr>\n",
              "      <th>83108</th>\n",
              "      <td>1301_22</td>\n",
              "      <td>1301</td>\n",
              "      <td>2018-11-22</td>\n",
              "      <td>8.75</td>\n",
              "    </tr>\n",
              "    <tr>\n",
              "      <th>136409</th>\n",
              "      <td>1494_251</td>\n",
              "      <td>1494</td>\n",
              "      <td>2018-10-14</td>\n",
              "      <td>20.81</td>\n",
              "    </tr>\n",
              "  </tbody>\n",
              "</table>\n",
              "</div>"
            ],
            "text/plain": [
              "              id  user_id   call_date  duration\n",
              "54813   1196_707     1196  2018-07-04     19.63\n",
              "8027    1038_138     1038  2018-11-03      7.57\n",
              "21669   1079_382     1079  2018-12-31     10.93\n",
              "83108    1301_22     1301  2018-11-22      8.75\n",
              "136409  1494_251     1494  2018-10-14     20.81"
            ]
          },
          "execution_count": 8,
          "metadata": {},
          "output_type": "execute_result"
        }
      ],
      "source": [
        "# Menampilkan sample DataFrame\n",
        "df_calls.sample(5)"
      ]
    },
    {
      "cell_type": "code",
      "execution_count": null,
      "metadata": {
        "id": "fT_Mwx24Zwxe",
        "outputId": "87222c25-9cc9-4398-cd36-9a8bc0417ce2"
      },
      "outputs": [
        {
          "data": {
            "text/plain": [
              "id           137735\n",
              "user_id         481\n",
              "call_date       351\n",
              "duration       2802\n",
              "dtype: int64"
            ]
          },
          "execution_count": 9,
          "metadata": {},
          "output_type": "execute_result"
        }
      ],
      "source": [
        "# Melakukan pengecekan nilai unik disetiap kolom\n",
        "df_calls.nunique()"
      ]
    },
    {
      "cell_type": "code",
      "execution_count": null,
      "metadata": {
        "id": "ozBZjea3Zwxe",
        "outputId": "6458d15b-f9ea-48db-a12c-a9a92bdf612b"
      },
      "outputs": [
        {
          "data": {
            "text/plain": [
              "19.482339274694162"
            ]
          },
          "execution_count": 10,
          "metadata": {},
          "output_type": "execute_result"
        }
      ],
      "source": [
        "# Menghitung jumlah \n",
        "df_calls[df_calls['duration'] == 0]['duration'].count()/len(df_calls)*100"
      ]
    },
    {
      "cell_type": "markdown",
      "metadata": {
        "id": "xfAHaUyMZwxe"
      },
      "source": [
        "**Insights:**\n",
        "1. Tidak terdapat data yang hilang pada tabel ini, tetapi jumlah datanya lebih banyak dari tabel users. Setelah dilakukan pengecekan terdapat jumlah user_id yang lebih sedikit sehingga mungkin terdapat beberapa user yang tidak melakukan panggilan sama sekali \n",
        "2. Kolom **'call_date'** ini memiliki tipe data yang tidak sesuai\n",
        "3. Sepertinya diperlukan pembulatan ke atas (menjadi 1 menit) untuk kolom **'duration'**. Hal ini akan diputuskan pada tahap selanjutnya\n",
        "4. Kolom **'duration'** memiliki data sebanyak 20% yang berisi nilai nol, sehingga mungkin datanya perlu dicek untuk melihat apakah hal ini merupakan panggilan tak terjawab atau data yang hilang"
      ]
    },
    {
      "cell_type": "markdown",
      "metadata": {
        "id": "r8SLU5k5Zwxf"
      },
      "source": [
        "#### Eksplorasi Data Awal Tabel Messages <a id='initial_messages_data_exploration'></a>"
      ]
    },
    {
      "cell_type": "markdown",
      "metadata": {
        "id": "8cAyphFZZwxf"
      },
      "source": [
        "Tabel **messages** (data SMS):\n",
        "- id — ID SMS unik\n",
        "- message_date — tanggal SMS dikirim\n",
        "- user_id — ID pengguna yang mengirim SMS"
      ]
    },
    {
      "cell_type": "code",
      "execution_count": null,
      "metadata": {
        "id": "F0b7IE3wZwxf",
        "outputId": "09015723-fffd-4165-fe06-baed97dbd4d2"
      },
      "outputs": [
        {
          "name": "stdout",
          "output_type": "stream",
          "text": [
            "<class 'pandas.core.frame.DataFrame'>\n",
            "RangeIndex: 76051 entries, 0 to 76050\n",
            "Data columns (total 3 columns):\n",
            " #   Column        Non-Null Count  Dtype \n",
            "---  ------        --------------  ----- \n",
            " 0   id            76051 non-null  object\n",
            " 1   user_id       76051 non-null  int64 \n",
            " 2   message_date  76051 non-null  object\n",
            "dtypes: int64(1), object(2)\n",
            "memory usage: 1.7+ MB\n"
          ]
        }
      ],
      "source": [
        "# Menampilkan informasi/rangkuman umum tentang DataFrame\n",
        "df_messages.info()"
      ]
    },
    {
      "cell_type": "code",
      "execution_count": null,
      "metadata": {
        "id": "oxoOADY6Zwxf",
        "outputId": "868b8150-21b0-4643-c5ad-835ad440eef2"
      },
      "outputs": [
        {
          "data": {
            "text/html": [
              "<div>\n",
              "<style scoped>\n",
              "    .dataframe tbody tr th:only-of-type {\n",
              "        vertical-align: middle;\n",
              "    }\n",
              "\n",
              "    .dataframe tbody tr th {\n",
              "        vertical-align: top;\n",
              "    }\n",
              "\n",
              "    .dataframe thead th {\n",
              "        text-align: right;\n",
              "    }\n",
              "</style>\n",
              "<table border=\"1\" class=\"dataframe\">\n",
              "  <thead>\n",
              "    <tr style=\"text-align: right;\">\n",
              "      <th></th>\n",
              "      <th>id</th>\n",
              "      <th>user_id</th>\n",
              "      <th>message_date</th>\n",
              "    </tr>\n",
              "  </thead>\n",
              "  <tbody>\n",
              "    <tr>\n",
              "      <th>2207</th>\n",
              "      <td>1028_114</td>\n",
              "      <td>1028</td>\n",
              "      <td>2018-05-21</td>\n",
              "    </tr>\n",
              "    <tr>\n",
              "      <th>46368</th>\n",
              "      <td>1316_213</td>\n",
              "      <td>1316</td>\n",
              "      <td>2018-09-06</td>\n",
              "    </tr>\n",
              "    <tr>\n",
              "      <th>67044</th>\n",
              "      <td>1435_82</td>\n",
              "      <td>1435</td>\n",
              "      <td>2018-09-19</td>\n",
              "    </tr>\n",
              "    <tr>\n",
              "      <th>27176</th>\n",
              "      <td>1167_133</td>\n",
              "      <td>1167</td>\n",
              "      <td>2018-12-29</td>\n",
              "    </tr>\n",
              "    <tr>\n",
              "      <th>49288</th>\n",
              "      <td>1328_246</td>\n",
              "      <td>1328</td>\n",
              "      <td>2018-12-09</td>\n",
              "    </tr>\n",
              "  </tbody>\n",
              "</table>\n",
              "</div>"
            ],
            "text/plain": [
              "             id  user_id message_date\n",
              "2207   1028_114     1028   2018-05-21\n",
              "46368  1316_213     1316   2018-09-06\n",
              "67044   1435_82     1435   2018-09-19\n",
              "27176  1167_133     1167   2018-12-29\n",
              "49288  1328_246     1328   2018-12-09"
            ]
          },
          "execution_count": 12,
          "metadata": {},
          "output_type": "execute_result"
        }
      ],
      "source": [
        "# Menampilkan sample DataFrame\n",
        "df_messages.sample(5)"
      ]
    },
    {
      "cell_type": "code",
      "execution_count": null,
      "metadata": {
        "id": "5CVRaoPKZwxf",
        "outputId": "5f7084b2-4f7e-4f8f-fd80-6fda08d0ad3a"
      },
      "outputs": [
        {
          "data": {
            "text/plain": [
              "id              76051\n",
              "user_id           402\n",
              "message_date      351\n",
              "dtype: int64"
            ]
          },
          "execution_count": 13,
          "metadata": {},
          "output_type": "execute_result"
        }
      ],
      "source": [
        "# Melakukan pengecekan nilai unik disetiap kolom\n",
        "df_messages.nunique()"
      ]
    },
    {
      "cell_type": "markdown",
      "metadata": {
        "id": "qt8YbGwaZwxf"
      },
      "source": [
        "**Insights:**\n",
        "1. Tidak terdapat data yang hilang pada tabel ini, tetapi jumlah datanya lebih banyak dari tabel users. Setelah dilakukan pengecekan terdapat jumlah user_id yang lebih sedikit sehingga mungkin terdapat beberapa user yang tidak mengirim pesan sama sekali\n",
        "2. Kolom **'message_date'** ini memiliki tipe data yang tidak sesuai"
      ]
    },
    {
      "cell_type": "markdown",
      "metadata": {
        "id": "EXW8PXh4Zwxg"
      },
      "source": [
        "#### Eksplorasi Data Awal Tabel Internet <a id='initial_internet_data_exploration'></a>"
      ]
    },
    {
      "cell_type": "markdown",
      "metadata": {
        "id": "T2_bRvXaZwxg"
      },
      "source": [
        "Tabel **internet** (data sesi web):\n",
        "- id — ID sesi web unik\n",
        "- mb_used — volume data yang dihabiskan selama sesi (dalam megabita)\n",
        "- session_date — tanggal sesi web\n",
        "- user_id — ID pengguna"
      ]
    },
    {
      "cell_type": "code",
      "execution_count": null,
      "metadata": {
        "id": "CeCDcWhLZwxg",
        "outputId": "861986ba-2066-4c86-ec7b-d3cc6cb2cba9"
      },
      "outputs": [
        {
          "name": "stdout",
          "output_type": "stream",
          "text": [
            "<class 'pandas.core.frame.DataFrame'>\n",
            "RangeIndex: 104825 entries, 0 to 104824\n",
            "Data columns (total 4 columns):\n",
            " #   Column        Non-Null Count   Dtype  \n",
            "---  ------        --------------   -----  \n",
            " 0   id            104825 non-null  object \n",
            " 1   user_id       104825 non-null  int64  \n",
            " 2   session_date  104825 non-null  object \n",
            " 3   mb_used       104825 non-null  float64\n",
            "dtypes: float64(1), int64(1), object(2)\n",
            "memory usage: 3.2+ MB\n"
          ]
        }
      ],
      "source": [
        "# Menampilkan informasi/rangkuman umum tentang DataFrame\n",
        "df_internet.info()"
      ]
    },
    {
      "cell_type": "code",
      "execution_count": null,
      "metadata": {
        "id": "SV90EF7rZwxg",
        "outputId": "e4e7b81f-7950-4819-cc30-731cbb43b879"
      },
      "outputs": [
        {
          "data": {
            "text/html": [
              "<div>\n",
              "<style scoped>\n",
              "    .dataframe tbody tr th:only-of-type {\n",
              "        vertical-align: middle;\n",
              "    }\n",
              "\n",
              "    .dataframe tbody tr th {\n",
              "        vertical-align: top;\n",
              "    }\n",
              "\n",
              "    .dataframe thead th {\n",
              "        text-align: right;\n",
              "    }\n",
              "</style>\n",
              "<table border=\"1\" class=\"dataframe\">\n",
              "  <thead>\n",
              "    <tr style=\"text-align: right;\">\n",
              "      <th></th>\n",
              "      <th>id</th>\n",
              "      <th>user_id</th>\n",
              "      <th>session_date</th>\n",
              "      <th>mb_used</th>\n",
              "    </tr>\n",
              "  </thead>\n",
              "  <tbody>\n",
              "    <tr>\n",
              "      <th>49689</th>\n",
              "      <td>1222_188</td>\n",
              "      <td>1222</td>\n",
              "      <td>2018-07-08</td>\n",
              "      <td>459.03</td>\n",
              "    </tr>\n",
              "    <tr>\n",
              "      <th>76020</th>\n",
              "      <td>1358_107</td>\n",
              "      <td>1358</td>\n",
              "      <td>2018-07-12</td>\n",
              "      <td>567.06</td>\n",
              "    </tr>\n",
              "    <tr>\n",
              "      <th>10503</th>\n",
              "      <td>1054_36</td>\n",
              "      <td>1054</td>\n",
              "      <td>2018-07-26</td>\n",
              "      <td>448.33</td>\n",
              "    </tr>\n",
              "    <tr>\n",
              "      <th>6752</th>\n",
              "      <td>1039_27</td>\n",
              "      <td>1039</td>\n",
              "      <td>2018-11-15</td>\n",
              "      <td>347.21</td>\n",
              "    </tr>\n",
              "    <tr>\n",
              "      <th>43886</th>\n",
              "      <td>1195_23</td>\n",
              "      <td>1195</td>\n",
              "      <td>2018-11-21</td>\n",
              "      <td>492.55</td>\n",
              "    </tr>\n",
              "  </tbody>\n",
              "</table>\n",
              "</div>"
            ],
            "text/plain": [
              "             id  user_id session_date  mb_used\n",
              "49689  1222_188     1222   2018-07-08   459.03\n",
              "76020  1358_107     1358   2018-07-12   567.06\n",
              "10503   1054_36     1054   2018-07-26   448.33\n",
              "6752    1039_27     1039   2018-11-15   347.21\n",
              "43886   1195_23     1195   2018-11-21   492.55"
            ]
          },
          "execution_count": 15,
          "metadata": {},
          "output_type": "execute_result"
        }
      ],
      "source": [
        "# Menampilkan sample DataFrame\n",
        "df_internet.sample(5)"
      ]
    },
    {
      "cell_type": "code",
      "execution_count": null,
      "metadata": {
        "id": "q2ZhlT33Zwxg",
        "outputId": "c76ffc29-8072-4854-e4e2-6f799bf54dde"
      },
      "outputs": [
        {
          "data": {
            "text/plain": [
              "id              104825\n",
              "user_id            489\n",
              "session_date       351\n",
              "mb_used          57624\n",
              "dtype: int64"
            ]
          },
          "execution_count": 16,
          "metadata": {},
          "output_type": "execute_result"
        }
      ],
      "source": [
        "# Melakukan pengecekan nilai unik disetiap kolom\n",
        "df_internet.nunique()"
      ]
    },
    {
      "cell_type": "code",
      "execution_count": null,
      "metadata": {
        "id": "Y2uy4ZLuZwxg",
        "outputId": "57d170f7-7487-4b1b-fefe-3a8ba6c27485"
      },
      "outputs": [
        {
          "data": {
            "text/plain": [
              "13.11423801574052"
            ]
          },
          "execution_count": 17,
          "metadata": {},
          "output_type": "execute_result"
        }
      ],
      "source": [
        "# Menghitung jumlah \n",
        "df_internet[df_internet['mb_used'] == 0]['mb_used'].count()/len(df_internet)*100"
      ]
    },
    {
      "cell_type": "markdown",
      "metadata": {
        "id": "uS3Zqe35Zwxg"
      },
      "source": [
        "**Insights:**\n",
        "1. Tidak terdapat data yang hilang pada tabel ini, tetapi jumlah datanya lebih banyak dari tabel users. Setelah dilakukan pengecekan terdapat jumlah user_id yang lebih sedikit sehingga mungkin terdapat beberapa user yang tidak mengakses internet sama sekali\n",
        "2. Kolom **'session_date'** ini memiliki tipe data yang tidak sesuai\n",
        "3. Kolom **'mb_used'** memiliki data sebanyak 13% yang berisi nilai nol, sehingga mungkin datanya perlu dicek untuk melihat apakah hal ini merupakan kesalahan pencatatan atau data yang hilang"
      ]
    },
    {
      "cell_type": "markdown",
      "metadata": {
        "id": "Bh0DvOpYZwxh"
      },
      "source": [
        "#### Eksplorasi Data Awal Tabel Plans <a id='initial_plans_data_exploration'></a>"
      ]
    },
    {
      "cell_type": "markdown",
      "metadata": {
        "id": "Kq-OjVtzZwxh"
      },
      "source": [
        "Tabel **plans** (data paket telepon):\n",
        "- plan_name — nama paket telepon\n",
        "- usd_monthly_fee — biaya bulanan dalam dolar AS\n",
        "- minutes_included — alokasi menit panggilan bulanan\n",
        "- messages_included — alokasi SMS bulanan\n",
        "- mb_per_month_included — alokasi volume data bulanan (dalam megabita)\n",
        "- usd_per_minute — harga per menit jika telah melebihi batas alokasi paket (misalnya, jika paket memiliki alokasi 100 menit, maka penggunaan mulai dari menit ke-101 akan dikenakan biaya)\n",
        "- usd_per_message — harga per SMS jika telah melebihi batas alokasi paket\n",
        "- usd_per_gb — harga per ekstra gigabita data jika telah melebihi batas alokasi paket (1 GB = 1024 megabita)"
      ]
    },
    {
      "cell_type": "code",
      "execution_count": null,
      "metadata": {
        "id": "Hk5z1d9fZwxh",
        "outputId": "04d56450-d036-44b9-fde7-928ee67eacff"
      },
      "outputs": [
        {
          "name": "stdout",
          "output_type": "stream",
          "text": [
            "<class 'pandas.core.frame.DataFrame'>\n",
            "RangeIndex: 2 entries, 0 to 1\n",
            "Data columns (total 8 columns):\n",
            " #   Column                 Non-Null Count  Dtype  \n",
            "---  ------                 --------------  -----  \n",
            " 0   messages_included      2 non-null      int64  \n",
            " 1   mb_per_month_included  2 non-null      int64  \n",
            " 2   minutes_included       2 non-null      int64  \n",
            " 3   usd_monthly_pay        2 non-null      int64  \n",
            " 4   usd_per_gb             2 non-null      int64  \n",
            " 5   usd_per_message        2 non-null      float64\n",
            " 6   usd_per_minute         2 non-null      float64\n",
            " 7   plan_name              2 non-null      object \n",
            "dtypes: float64(2), int64(5), object(1)\n",
            "memory usage: 256.0+ bytes\n"
          ]
        }
      ],
      "source": [
        "# Menampilkan informasi/rangkuman umum tentang DataFrame\n",
        "df_plans.info()"
      ]
    },
    {
      "cell_type": "code",
      "execution_count": null,
      "metadata": {
        "id": "b0m087mTZwxh",
        "outputId": "444c53c6-8a85-433c-fb2f-6bcddcbf7828"
      },
      "outputs": [
        {
          "data": {
            "text/html": [
              "<div>\n",
              "<style scoped>\n",
              "    .dataframe tbody tr th:only-of-type {\n",
              "        vertical-align: middle;\n",
              "    }\n",
              "\n",
              "    .dataframe tbody tr th {\n",
              "        vertical-align: top;\n",
              "    }\n",
              "\n",
              "    .dataframe thead th {\n",
              "        text-align: right;\n",
              "    }\n",
              "</style>\n",
              "<table border=\"1\" class=\"dataframe\">\n",
              "  <thead>\n",
              "    <tr style=\"text-align: right;\">\n",
              "      <th></th>\n",
              "      <th>messages_included</th>\n",
              "      <th>mb_per_month_included</th>\n",
              "      <th>minutes_included</th>\n",
              "      <th>usd_monthly_pay</th>\n",
              "      <th>usd_per_gb</th>\n",
              "      <th>usd_per_message</th>\n",
              "      <th>usd_per_minute</th>\n",
              "      <th>plan_name</th>\n",
              "    </tr>\n",
              "  </thead>\n",
              "  <tbody>\n",
              "    <tr>\n",
              "      <th>0</th>\n",
              "      <td>50</td>\n",
              "      <td>15360</td>\n",
              "      <td>500</td>\n",
              "      <td>20</td>\n",
              "      <td>10</td>\n",
              "      <td>0.03</td>\n",
              "      <td>0.03</td>\n",
              "      <td>surf</td>\n",
              "    </tr>\n",
              "    <tr>\n",
              "      <th>1</th>\n",
              "      <td>1000</td>\n",
              "      <td>30720</td>\n",
              "      <td>3000</td>\n",
              "      <td>70</td>\n",
              "      <td>7</td>\n",
              "      <td>0.01</td>\n",
              "      <td>0.01</td>\n",
              "      <td>ultimate</td>\n",
              "    </tr>\n",
              "  </tbody>\n",
              "</table>\n",
              "</div>"
            ],
            "text/plain": [
              "   messages_included  mb_per_month_included  minutes_included  \\\n",
              "0                 50                  15360               500   \n",
              "1               1000                  30720              3000   \n",
              "\n",
              "   usd_monthly_pay  usd_per_gb  usd_per_message  usd_per_minute plan_name  \n",
              "0               20          10             0.03            0.03      surf  \n",
              "1               70           7             0.01            0.01  ultimate  "
            ]
          },
          "execution_count": 19,
          "metadata": {},
          "output_type": "execute_result"
        }
      ],
      "source": [
        "# Menampilkan DataFrame\n",
        "df_plans"
      ]
    },
    {
      "cell_type": "markdown",
      "metadata": {
        "id": "7Q80OziiZwxh"
      },
      "source": [
        "**Insights:**\n",
        "- Seluruh data dideskripsikan dengan sempurna, yaitu tidak terdapat data yang hilang dan tipe data dari tiap kolom juga sudah benar\n",
        "- Tabel ini akan berguna untuk menjadi acuan untuk melakukan perhinutngan terhadap jumlah uang yang dibayarkan oleh tiap user"
      ]
    },
    {
      "cell_type": "markdown",
      "metadata": {
        "id": "7KFsFXBLZwxh"
      },
      "source": [
        "### Kesimpulan Awal dan Langkah-Langkah Analisis Selanjutnya <a id='initial_summary'></a>"
      ]
    },
    {
      "cell_type": "markdown",
      "metadata": {
        "id": "LTiAGXPHZwxh"
      },
      "source": [
        "**Berdasarkan pengamatan awal dapat disimpulan beberapa hal:**\n",
        "- Seluruh kolom tidak memiliki data yang hilang, sehingg dapat dikatakan bahwa data yang disediakan sudah sangat bersih dan lebih mudah untuk diolah\n",
        "- Tipe data yang tidak sesuai hanya ditemukan pada data yang memiliki kolom yang berisi tanggal\n",
        "- Beberapa user hanya menggunakan tipe kuota tertentu dan tidak menggunakan yang lainnya dengan kata lain plannya disediakan mungkin tidak terlalu sesuai dengan kebutuhan user\n",
        "\n",
        "**Berdasarkan pengamatan awal berikut langkah-langkah analis data untuk menjawab hipotesis:**\n",
        "1. Menanggulangi data nan dan nol \n",
        "2. Melakukan perbaikan tipe data\n",
        "3. Memperbaiki kualitas data \n",
        "4. Mencari jumlah panggilan, jumlah sms dan volume data yang digunakan, serta pendapatan per bulan dari tiap pengguna\n",
        "5. Menggabungkan data dari tiap tabel \n",
        "6. Mempelajari data inti\n",
        "7. Menguji hipotesis \n",
        "8. Menuliskan kesimpulan akhir"
      ]
    },
    {
      "cell_type": "markdown",
      "metadata": {
        "id": "TOgk2gcBZwxi"
      },
      "source": [
        "## Menanggulangi Data yang Bermasalah<a id='deal_with_wrong_data'></a>"
      ]
    },
    {
      "cell_type": "markdown",
      "metadata": {
        "id": "sD__NLFwZwxi"
      },
      "source": [
        "Pada **tabel calls** terdapat 20% data panggilan yang berdurasi nol detik, sehingga perlu dilakukan pengecekan terhadap data ini"
      ]
    },
    {
      "cell_type": "code",
      "execution_count": null,
      "metadata": {
        "id": "C23sIKnDZwxi",
        "outputId": "e240ac27-1e24-464c-86fc-9b5a1843eedb"
      },
      "outputs": [
        {
          "data": {
            "text/plain": [
              "id           26834\n",
              "user_id        478\n",
              "call_date      348\n",
              "duration         1\n",
              "dtype: int64"
            ]
          },
          "execution_count": 20,
          "metadata": {},
          "output_type": "execute_result"
        }
      ],
      "source": [
        "# Menghitung nilai unique pada data panggilan berdurasi nol detik\n",
        "df_calls[df_calls['duration']==0].nunique()"
      ]
    },
    {
      "cell_type": "markdown",
      "metadata": {
        "id": "q02cLSl9Zwxi"
      },
      "source": [
        "Sepertinya data nol ini merupakan data panggilan tak terjawab yang tercatat, karena dapat dilihat bahwa terdapat id panggilan yang berbeda-beda mengindikasikan sesi panggilan yang dilakukan memang berbeda-beda. Nilai ini dapat dihilangkan saja karena umumnya panggilan tak terjawab tidak dikenakan biaya sehingga tidak akan mempengaruhi hasil analisis datanya."
      ]
    },
    {
      "cell_type": "code",
      "execution_count": null,
      "metadata": {
        "id": "fbsOlJ5KZwxi"
      },
      "outputs": [],
      "source": [
        "# Filter data panggilan selain durasi nol\n",
        "df_calls = df_calls[df_calls['duration']!=0]"
      ]
    },
    {
      "cell_type": "markdown",
      "metadata": {
        "id": "r42GyoBxZwxi"
      },
      "source": [
        "Pada **tabel internet** terdapat 13% data penggunanaan kuota yang bernilai nol megabyte, sehingga perlu dilakukan pengecekan terhadap data ini"
      ]
    },
    {
      "cell_type": "code",
      "execution_count": null,
      "metadata": {
        "id": "IWtP3A5rZwxi",
        "outputId": "8f0698dd-4166-4385-f9f7-b54587d31b94"
      },
      "outputs": [
        {
          "data": {
            "text/plain": [
              "id              13747\n",
              "user_id           477\n",
              "session_date      339\n",
              "mb_used             1\n",
              "dtype: int64"
            ]
          },
          "execution_count": 22,
          "metadata": {},
          "output_type": "execute_result"
        }
      ],
      "source": [
        "# Menghitung nilai unique pada data penggunanaan kuota yang bernilai nol megabyte\n",
        "df_internet[df_internet['mb_used']==0].nunique()"
      ]
    },
    {
      "cell_type": "markdown",
      "metadata": {
        "id": "AeBCC4vTZwxj"
      },
      "source": [
        "Sepertinya data nol ini merupakan data internet yang tidak jadi digunakan atau sambungan internet terputus, karena dapat dilihat bahwa terdapat id web yang berbeda-beda mengindikasikan sesi web yang dilakukan memang berbeda-beda. Nilai ini dapat dihilangkan saja karena umumnya data internet yang tidak jadi digunakan atau sambungan internet terputus tidak dikenakan biaya sehingga tidak akan mempengaruhi hasil analisis datanya."
      ]
    },
    {
      "cell_type": "code",
      "execution_count": null,
      "metadata": {
        "id": "4kqMI_ViZwxj"
      },
      "outputs": [],
      "source": [
        "# Filter data panggilan selain durasi nol\n",
        "df_internet = df_internet[df_internet['mb_used']!=0]"
      ]
    },
    {
      "cell_type": "markdown",
      "metadata": {
        "id": "FIssn4Z5Zwxj"
      },
      "source": [
        "## Memperbaiki Tipe Data<a id='fix_data_type'></a>"
      ]
    },
    {
      "cell_type": "markdown",
      "metadata": {
        "id": "hwhd2Wr0Zwxj"
      },
      "source": [
        "Tipe data yang tidak sesuai hanya ditemukan pada data yang memiliki kolom yang berisi tanggal, sehingga seluruh tabel yang memuat tanggal pada kolomnya akan diganti tipe datanya"
      ]
    },
    {
      "cell_type": "code",
      "execution_count": null,
      "metadata": {
        "id": "ZRRUpWxUZwxj"
      },
      "outputs": [],
      "source": [
        "# Mengkonversi tipe data yang salah pada tabel users\n",
        "df_users['reg_date'] = pd.to_datetime(df_users['reg_date'], format='%Y-%m-%d', errors = 'ignore')\n",
        "df_users['churn_date'] = pd.to_datetime(df_users['churn_date'], format='%Y-%m-%d')"
      ]
    },
    {
      "cell_type": "code",
      "execution_count": null,
      "metadata": {
        "id": "jBrA9aMUZwxj",
        "outputId": "1f59d33d-b127-48ae-bc7d-e15a7df67ec9"
      },
      "outputs": [
        {
          "data": {
            "text/plain": [
              "user_id                int64\n",
              "first_name            object\n",
              "last_name             object\n",
              "age                    int64\n",
              "city                  object\n",
              "reg_date      datetime64[ns]\n",
              "plan                  object\n",
              "churn_date    datetime64[ns]\n",
              "dtype: object"
            ]
          },
          "execution_count": 25,
          "metadata": {},
          "output_type": "execute_result"
        }
      ],
      "source": [
        "# Memastikan tipe datanya sudah sesuai\n",
        "df_users.dtypes"
      ]
    },
    {
      "cell_type": "code",
      "execution_count": null,
      "metadata": {
        "id": "gBpmyAqXZwxj"
      },
      "outputs": [],
      "source": [
        "# Mengkonversi tipe data yang salah pada tabel calls\n",
        "df_calls['call_date'] = pd.to_datetime(df_calls['call_date'], format='%Y-%m-%d', errors = 'ignore')"
      ]
    },
    {
      "cell_type": "code",
      "execution_count": null,
      "metadata": {
        "id": "7gmx3EEpZwxk",
        "outputId": "9c0b684a-2efb-4bcd-a350-e495bdb501ea"
      },
      "outputs": [
        {
          "data": {
            "text/plain": [
              "id                   object\n",
              "user_id               int64\n",
              "call_date    datetime64[ns]\n",
              "duration            float64\n",
              "dtype: object"
            ]
          },
          "execution_count": 27,
          "metadata": {},
          "output_type": "execute_result"
        }
      ],
      "source": [
        "# Memastikan tipe datanya sudah sesuai\n",
        "df_calls.dtypes"
      ]
    },
    {
      "cell_type": "code",
      "execution_count": null,
      "metadata": {
        "id": "03K92D_WZwxk"
      },
      "outputs": [],
      "source": [
        "# Mengkonversi tipe data yang salah pada tabel messages\n",
        "df_messages['message_date'] = pd.to_datetime(df_messages['message_date'], format='%Y-%m-%d', errors = 'ignore')"
      ]
    },
    {
      "cell_type": "code",
      "execution_count": null,
      "metadata": {
        "id": "GBKgCFkfZwxk",
        "outputId": "118894ff-a41a-4313-cc00-be865b1aa4f1"
      },
      "outputs": [
        {
          "data": {
            "text/plain": [
              "id                      object\n",
              "user_id                  int64\n",
              "message_date    datetime64[ns]\n",
              "dtype: object"
            ]
          },
          "execution_count": 29,
          "metadata": {},
          "output_type": "execute_result"
        }
      ],
      "source": [
        "# Memastikan tipe datanya sudah sesuai\n",
        "df_messages.dtypes"
      ]
    },
    {
      "cell_type": "code",
      "execution_count": null,
      "metadata": {
        "id": "9OmxMu04Zwxk"
      },
      "outputs": [],
      "source": [
        "# Mengkonversi tipe data yang salah pada tabel internet\n",
        "df_internet['session_date'] = pd.to_datetime(df_internet['session_date'], format='%Y-%m-%d', errors = 'ignore')"
      ]
    },
    {
      "cell_type": "code",
      "execution_count": null,
      "metadata": {
        "id": "Mkskj64-Zwxk",
        "outputId": "cb067054-9634-4270-f038-710903af5277"
      },
      "outputs": [
        {
          "data": {
            "text/plain": [
              "id                      object\n",
              "user_id                  int64\n",
              "session_date    datetime64[ns]\n",
              "mb_used                float64\n",
              "dtype: object"
            ]
          },
          "execution_count": 31,
          "metadata": {},
          "output_type": "execute_result"
        }
      ],
      "source": [
        "# Memastikan tipe datanya sudah sesuai\n",
        "df_internet.dtypes"
      ]
    },
    {
      "cell_type": "markdown",
      "metadata": {
        "id": "4tb6PzI7Zwxk"
      },
      "source": [
        "## Memperbaiki Kualitas Data<a id='improve_data_quality'></a>"
      ]
    },
    {
      "cell_type": "code",
      "execution_count": null,
      "metadata": {
        "id": "Xxk1FCzOZwxl"
      },
      "outputs": [],
      "source": [
        "# Fungsi untuk mengambil data YYYY-MM-DD menjadi YYYY-MM\n",
        "def to_month(dataset, col_name):\n",
        "    temp_array = dataset[col_name].dt.to_period(\"M\")\n",
        "    return temp_array"
      ]
    },
    {
      "cell_type": "code",
      "execution_count": null,
      "metadata": {
        "id": "32sCKy53Zwxl"
      },
      "outputs": [],
      "source": [
        "# Menambahkan kolom month pada tabel calls untuk mempermudah analisis\n",
        "df_calls['month'] = to_month(df_calls, 'call_date')"
      ]
    },
    {
      "cell_type": "code",
      "execution_count": null,
      "metadata": {
        "id": "WJHcrU0NZwxl",
        "outputId": "d1e0d59a-fec5-4b65-e917-52fc9fe594f6"
      },
      "outputs": [
        {
          "data": {
            "text/html": [
              "<div>\n",
              "<style scoped>\n",
              "    .dataframe tbody tr th:only-of-type {\n",
              "        vertical-align: middle;\n",
              "    }\n",
              "\n",
              "    .dataframe tbody tr th {\n",
              "        vertical-align: top;\n",
              "    }\n",
              "\n",
              "    .dataframe thead th {\n",
              "        text-align: right;\n",
              "    }\n",
              "</style>\n",
              "<table border=\"1\" class=\"dataframe\">\n",
              "  <thead>\n",
              "    <tr style=\"text-align: right;\">\n",
              "      <th></th>\n",
              "      <th>id</th>\n",
              "      <th>user_id</th>\n",
              "      <th>call_date</th>\n",
              "      <th>duration</th>\n",
              "      <th>month</th>\n",
              "    </tr>\n",
              "  </thead>\n",
              "  <tbody>\n",
              "    <tr>\n",
              "      <th>120304</th>\n",
              "      <td>1419_28</td>\n",
              "      <td>1419</td>\n",
              "      <td>2018-11-23</td>\n",
              "      <td>3.54</td>\n",
              "      <td>2018-11</td>\n",
              "    </tr>\n",
              "  </tbody>\n",
              "</table>\n",
              "</div>"
            ],
            "text/plain": [
              "             id  user_id  call_date  duration    month\n",
              "120304  1419_28     1419 2018-11-23      3.54  2018-11"
            ]
          },
          "execution_count": 34,
          "metadata": {},
          "output_type": "execute_result"
        }
      ],
      "source": [
        "# Memastikan kolomnya sudah ditambahkan\n",
        "df_calls.sample()"
      ]
    },
    {
      "cell_type": "code",
      "execution_count": null,
      "metadata": {
        "id": "0ehWX6iXZwxl"
      },
      "outputs": [],
      "source": [
        "# Menambahkan kolom month pada tabel messages untuk mempermudah analisis\n",
        "df_messages['month'] = to_month(df_messages, 'message_date')"
      ]
    },
    {
      "cell_type": "code",
      "execution_count": null,
      "metadata": {
        "id": "MYQnwJ0SZwxl",
        "outputId": "2dd8354c-547b-4e11-d4f3-3f5ee5ea0e0b"
      },
      "outputs": [
        {
          "data": {
            "text/html": [
              "<div>\n",
              "<style scoped>\n",
              "    .dataframe tbody tr th:only-of-type {\n",
              "        vertical-align: middle;\n",
              "    }\n",
              "\n",
              "    .dataframe tbody tr th {\n",
              "        vertical-align: top;\n",
              "    }\n",
              "\n",
              "    .dataframe thead th {\n",
              "        text-align: right;\n",
              "    }\n",
              "</style>\n",
              "<table border=\"1\" class=\"dataframe\">\n",
              "  <thead>\n",
              "    <tr style=\"text-align: right;\">\n",
              "      <th></th>\n",
              "      <th>id</th>\n",
              "      <th>user_id</th>\n",
              "      <th>message_date</th>\n",
              "      <th>month</th>\n",
              "    </tr>\n",
              "  </thead>\n",
              "  <tbody>\n",
              "    <tr>\n",
              "      <th>31369</th>\n",
              "      <td>1195_236</td>\n",
              "      <td>1195</td>\n",
              "      <td>2018-11-14</td>\n",
              "      <td>2018-11</td>\n",
              "    </tr>\n",
              "  </tbody>\n",
              "</table>\n",
              "</div>"
            ],
            "text/plain": [
              "             id  user_id message_date    month\n",
              "31369  1195_236     1195   2018-11-14  2018-11"
            ]
          },
          "execution_count": 36,
          "metadata": {},
          "output_type": "execute_result"
        }
      ],
      "source": [
        "# Memastikan kolomnya sudah ditambahkan\n",
        "df_messages.sample()"
      ]
    },
    {
      "cell_type": "code",
      "execution_count": null,
      "metadata": {
        "id": "8G5LwUlFZwxl"
      },
      "outputs": [],
      "source": [
        "# Menambahkan kolom month pada tabel internet untuk mempermudah analisis\n",
        "df_internet['month'] = to_month(df_internet, 'session_date')"
      ]
    },
    {
      "cell_type": "code",
      "execution_count": null,
      "metadata": {
        "id": "ADQoR_21Zwxl",
        "outputId": "2f51a5c7-9227-4349-acbb-89fb006cdc71"
      },
      "outputs": [
        {
          "data": {
            "text/html": [
              "<div>\n",
              "<style scoped>\n",
              "    .dataframe tbody tr th:only-of-type {\n",
              "        vertical-align: middle;\n",
              "    }\n",
              "\n",
              "    .dataframe tbody tr th {\n",
              "        vertical-align: top;\n",
              "    }\n",
              "\n",
              "    .dataframe thead th {\n",
              "        text-align: right;\n",
              "    }\n",
              "</style>\n",
              "<table border=\"1\" class=\"dataframe\">\n",
              "  <thead>\n",
              "    <tr style=\"text-align: right;\">\n",
              "      <th></th>\n",
              "      <th>id</th>\n",
              "      <th>user_id</th>\n",
              "      <th>session_date</th>\n",
              "      <th>mb_used</th>\n",
              "      <th>month</th>\n",
              "    </tr>\n",
              "  </thead>\n",
              "  <tbody>\n",
              "    <tr>\n",
              "      <th>40886</th>\n",
              "      <td>1183_77</td>\n",
              "      <td>1183</td>\n",
              "      <td>2018-12-31</td>\n",
              "      <td>293.43</td>\n",
              "      <td>2018-12</td>\n",
              "    </tr>\n",
              "  </tbody>\n",
              "</table>\n",
              "</div>"
            ],
            "text/plain": [
              "            id  user_id session_date  mb_used    month\n",
              "40886  1183_77     1183   2018-12-31   293.43  2018-12"
            ]
          },
          "execution_count": 38,
          "metadata": {},
          "output_type": "execute_result"
        }
      ],
      "source": [
        "# Memastikan kolomnya sudah ditambahkan\n",
        "df_internet.sample()"
      ]
    },
    {
      "cell_type": "code",
      "execution_count": null,
      "metadata": {
        "id": "qZpeLCbzZwxl"
      },
      "outputs": [],
      "source": [
        "# Menambahkan kolom month, day, dan year pada tabel users untuk mempermudah analisis\n",
        "df_users['reg_month'] = to_month(df_users, 'reg_date')\n",
        "df_users['churn_month'] = to_month(df_users, 'churn_date')"
      ]
    },
    {
      "cell_type": "code",
      "execution_count": null,
      "metadata": {
        "id": "_h63ygVGZwxm",
        "outputId": "65574bf9-c19f-4429-cd9b-0c438175edbf"
      },
      "outputs": [
        {
          "data": {
            "text/html": [
              "<div>\n",
              "<style scoped>\n",
              "    .dataframe tbody tr th:only-of-type {\n",
              "        vertical-align: middle;\n",
              "    }\n",
              "\n",
              "    .dataframe tbody tr th {\n",
              "        vertical-align: top;\n",
              "    }\n",
              "\n",
              "    .dataframe thead th {\n",
              "        text-align: right;\n",
              "    }\n",
              "</style>\n",
              "<table border=\"1\" class=\"dataframe\">\n",
              "  <thead>\n",
              "    <tr style=\"text-align: right;\">\n",
              "      <th></th>\n",
              "      <th>user_id</th>\n",
              "      <th>first_name</th>\n",
              "      <th>last_name</th>\n",
              "      <th>age</th>\n",
              "      <th>city</th>\n",
              "      <th>reg_date</th>\n",
              "      <th>plan</th>\n",
              "      <th>churn_date</th>\n",
              "      <th>reg_month</th>\n",
              "      <th>churn_month</th>\n",
              "    </tr>\n",
              "  </thead>\n",
              "  <tbody>\n",
              "    <tr>\n",
              "      <th>40</th>\n",
              "      <td>1040</td>\n",
              "      <td>Paris</td>\n",
              "      <td>Santos</td>\n",
              "      <td>72</td>\n",
              "      <td>Philadelphia-Camden-Wilmington, PA-NJ-DE-MD MSA</td>\n",
              "      <td>2018-12-23</td>\n",
              "      <td>surf</td>\n",
              "      <td>2018-12-30</td>\n",
              "      <td>2018-12</td>\n",
              "      <td>2018-12</td>\n",
              "    </tr>\n",
              "  </tbody>\n",
              "</table>\n",
              "</div>"
            ],
            "text/plain": [
              "    user_id first_name last_name  age  \\\n",
              "40     1040      Paris    Santos   72   \n",
              "\n",
              "                                               city   reg_date  plan  \\\n",
              "40  Philadelphia-Camden-Wilmington, PA-NJ-DE-MD MSA 2018-12-23  surf   \n",
              "\n",
              "   churn_date reg_month churn_month  \n",
              "40 2018-12-30   2018-12     2018-12  "
            ]
          },
          "execution_count": 40,
          "metadata": {},
          "output_type": "execute_result"
        }
      ],
      "source": [
        "# Memastikan kolomnya sudah ditambahkan\n",
        "df_users.sample()"
      ]
    },
    {
      "cell_type": "code",
      "execution_count": null,
      "metadata": {
        "id": "hoI2igppZwxm"
      },
      "outputs": [],
      "source": [
        "# Menambahkan kolom city_code pada tabel users untuk mempermudah analisis\n",
        "df_users['city_code'] = df_users['city'].str.split(pat=\",\").str[-1]\n",
        "df_users['city_code'] = df_users['city_code'].str.replace(' MSA', '')"
      ]
    },
    {
      "cell_type": "code",
      "execution_count": null,
      "metadata": {
        "id": "Fdi9NIChZwxm",
        "outputId": "e1227c1c-1a85-4d6d-9275-4a1b83c305db"
      },
      "outputs": [
        {
          "data": {
            "text/html": [
              "<div>\n",
              "<style scoped>\n",
              "    .dataframe tbody tr th:only-of-type {\n",
              "        vertical-align: middle;\n",
              "    }\n",
              "\n",
              "    .dataframe tbody tr th {\n",
              "        vertical-align: top;\n",
              "    }\n",
              "\n",
              "    .dataframe thead th {\n",
              "        text-align: right;\n",
              "    }\n",
              "</style>\n",
              "<table border=\"1\" class=\"dataframe\">\n",
              "  <thead>\n",
              "    <tr style=\"text-align: right;\">\n",
              "      <th></th>\n",
              "      <th>user_id</th>\n",
              "      <th>first_name</th>\n",
              "      <th>last_name</th>\n",
              "      <th>age</th>\n",
              "      <th>city</th>\n",
              "      <th>reg_date</th>\n",
              "      <th>plan</th>\n",
              "      <th>churn_date</th>\n",
              "      <th>reg_month</th>\n",
              "      <th>churn_month</th>\n",
              "      <th>city_code</th>\n",
              "    </tr>\n",
              "  </thead>\n",
              "  <tbody>\n",
              "    <tr>\n",
              "      <th>63</th>\n",
              "      <td>1063</td>\n",
              "      <td>Larhonda</td>\n",
              "      <td>Hartman</td>\n",
              "      <td>60</td>\n",
              "      <td>New York-Newark-Jersey City, NY-NJ-PA MSA</td>\n",
              "      <td>2018-11-05</td>\n",
              "      <td>ultimate</td>\n",
              "      <td>NaT</td>\n",
              "      <td>2018-11</td>\n",
              "      <td>NaT</td>\n",
              "      <td>NY-NJ-PA</td>\n",
              "    </tr>\n",
              "  </tbody>\n",
              "</table>\n",
              "</div>"
            ],
            "text/plain": [
              "    user_id first_name last_name  age  \\\n",
              "63     1063   Larhonda   Hartman   60   \n",
              "\n",
              "                                         city   reg_date      plan churn_date  \\\n",
              "63  New York-Newark-Jersey City, NY-NJ-PA MSA 2018-11-05  ultimate        NaT   \n",
              "\n",
              "   reg_month churn_month  city_code  \n",
              "63   2018-11         NaT   NY-NJ-PA  "
            ]
          },
          "execution_count": 42,
          "metadata": {},
          "output_type": "execute_result"
        }
      ],
      "source": [
        "# Memastikan kolomnya sudah ditambahkan\n",
        "df_users.sample()"
      ]
    },
    {
      "cell_type": "code",
      "execution_count": null,
      "metadata": {
        "id": "V223c7gAZwxm"
      },
      "outputs": [],
      "source": [
        "# Membuat fungsi untuk mengindentifikasi apakah daerah tersebut adalah daerah NY-NJ\n",
        "def is_ny_nj(data):\n",
        "    if 'NY-NJ' in data:\n",
        "        return 'NY-NJ'\n",
        "    else:\n",
        "        return 'others'"
      ]
    },
    {
      "cell_type": "code",
      "execution_count": null,
      "metadata": {
        "id": "5Ya9b7nIZwxm"
      },
      "outputs": [],
      "source": [
        "# Menambahkan kolom untuk mengindentifikasi apakah daerah tersebut adalah daerah NY-NJ\n",
        "df_users['is_ny_nj'] = df_users['city_code'].apply(is_ny_nj)"
      ]
    },
    {
      "cell_type": "code",
      "execution_count": null,
      "metadata": {
        "id": "U5yffoV6Zwxm",
        "outputId": "b8ed1a86-375c-4934-ef09-691980f8662a"
      },
      "outputs": [
        {
          "data": {
            "text/html": [
              "<div>\n",
              "<style scoped>\n",
              "    .dataframe tbody tr th:only-of-type {\n",
              "        vertical-align: middle;\n",
              "    }\n",
              "\n",
              "    .dataframe tbody tr th {\n",
              "        vertical-align: top;\n",
              "    }\n",
              "\n",
              "    .dataframe thead th {\n",
              "        text-align: right;\n",
              "    }\n",
              "</style>\n",
              "<table border=\"1\" class=\"dataframe\">\n",
              "  <thead>\n",
              "    <tr style=\"text-align: right;\">\n",
              "      <th></th>\n",
              "      <th>user_id</th>\n",
              "      <th>first_name</th>\n",
              "      <th>last_name</th>\n",
              "      <th>age</th>\n",
              "      <th>city</th>\n",
              "      <th>reg_date</th>\n",
              "      <th>plan</th>\n",
              "      <th>churn_date</th>\n",
              "      <th>reg_month</th>\n",
              "      <th>churn_month</th>\n",
              "      <th>city_code</th>\n",
              "      <th>is_ny_nj</th>\n",
              "    </tr>\n",
              "  </thead>\n",
              "  <tbody>\n",
              "    <tr>\n",
              "      <th>193</th>\n",
              "      <td>1193</td>\n",
              "      <td>Lacresha</td>\n",
              "      <td>Olsen</td>\n",
              "      <td>18</td>\n",
              "      <td>Houston-The Woodlands-Sugar Land, TX MSA</td>\n",
              "      <td>2018-07-07</td>\n",
              "      <td>surf</td>\n",
              "      <td>NaT</td>\n",
              "      <td>2018-07</td>\n",
              "      <td>NaT</td>\n",
              "      <td>TX</td>\n",
              "      <td>others</td>\n",
              "    </tr>\n",
              "  </tbody>\n",
              "</table>\n",
              "</div>"
            ],
            "text/plain": [
              "     user_id first_name last_name  age  \\\n",
              "193     1193   Lacresha     Olsen   18   \n",
              "\n",
              "                                         city   reg_date  plan churn_date  \\\n",
              "193  Houston-The Woodlands-Sugar Land, TX MSA 2018-07-07  surf        NaT   \n",
              "\n",
              "    reg_month churn_month city_code is_ny_nj  \n",
              "193   2018-07         NaT        TX   others  "
            ]
          },
          "execution_count": 45,
          "metadata": {},
          "output_type": "execute_result"
        }
      ],
      "source": [
        "# Memastikan kolomnya sudah ditambahkan\n",
        "df_users.sample()"
      ]
    },
    {
      "cell_type": "markdown",
      "metadata": {
        "id": "GD_VhMUSZwxn"
      },
      "source": [
        "## Menjumlahkan Jumlah Penggunaan per Pelanggan<a id='sum_data_per_user'></a>"
      ]
    },
    {
      "cell_type": "markdown",
      "metadata": {
        "id": "98Q4ISFKZwxn"
      },
      "source": [
        "Sebelum menggabungkan data, data pada tabel calls, messages dan internet perlu dijumlahkan dahulu per pengguna agar datanya dapat digabungkan"
      ]
    },
    {
      "cell_type": "markdown",
      "metadata": {
        "id": "TR_0D0ubZwxn"
      },
      "source": [
        "### Menjumlahkan Jumlah Panggilan per Pelanggan<a id='sum_calls_data_per_user'></a>"
      ]
    },
    {
      "cell_type": "markdown",
      "metadata": {
        "id": "8ANJMwe_Zwxn"
      },
      "source": [
        "Megaline membulatkan detik ke menit. Sehingga setiap panggilan individual dibulatkan ke atas: jika panggilan tersebut berlangsung hanya satu detik, ia akan dihitung sebagai satu menit. Sehingga, seluruh data harus dibulatkan terlebih dahulu baru dapat dijumlahkan"
      ]
    },
    {
      "cell_type": "code",
      "execution_count": null,
      "metadata": {
        "id": "bxsUCvxpZwxn",
        "outputId": "2d773d58-f7fc-4ebc-c728-7c909dc3bd99"
      },
      "outputs": [
        {
          "data": {
            "text/plain": [
              "count    110901.000000\n",
              "mean          8.378196\n",
              "std           5.354567\n",
              "min           0.010000\n",
              "25%           4.150000\n",
              "50%           7.710000\n",
              "75%          11.820000\n",
              "max          37.600000\n",
              "Name: duration, dtype: float64"
            ]
          },
          "execution_count": 46,
          "metadata": {},
          "output_type": "execute_result"
        }
      ],
      "source": [
        "# Melakukan pengecekan data pada kolom 'duration'\n",
        "df_calls['duration'].describe()"
      ]
    },
    {
      "cell_type": "code",
      "execution_count": null,
      "metadata": {
        "id": "WCf6P106Zwxn"
      },
      "outputs": [],
      "source": [
        "# Membuat fungsi\n",
        "def duration_ceil(duration):\n",
        "    if duration < 60:\n",
        "        return 1\n",
        "    else:\n",
        "        return 'NaN'"
      ]
    },
    {
      "cell_type": "code",
      "execution_count": null,
      "metadata": {
        "id": "0pZvCDvEZwxn"
      },
      "outputs": [],
      "source": [
        "# Membuat kolom baru menggunakan fungsi duration_ceil\n",
        "df_calls['duration_ceil'] = df_calls['duration'].apply(duration_ceil)"
      ]
    },
    {
      "cell_type": "code",
      "execution_count": null,
      "metadata": {
        "id": "hFRIHm2WZwxn"
      },
      "outputs": [],
      "source": [
        "# Menjumlahkan jumlah panggilan perbulan\n",
        "df_calls_agg = df_calls.pivot_table(index=['user_id', 'month'], values='duration_ceil', aggfunc='sum').reset_index()"
      ]
    },
    {
      "cell_type": "code",
      "execution_count": null,
      "metadata": {
        "id": "gdSVATWqZwxn",
        "outputId": "440b63e7-6937-403a-8002-444cfc6c42fb"
      },
      "outputs": [
        {
          "data": {
            "text/html": [
              "<div>\n",
              "<style scoped>\n",
              "    .dataframe tbody tr th:only-of-type {\n",
              "        vertical-align: middle;\n",
              "    }\n",
              "\n",
              "    .dataframe tbody tr th {\n",
              "        vertical-align: top;\n",
              "    }\n",
              "\n",
              "    .dataframe thead th {\n",
              "        text-align: right;\n",
              "    }\n",
              "</style>\n",
              "<table border=\"1\" class=\"dataframe\">\n",
              "  <thead>\n",
              "    <tr style=\"text-align: right;\">\n",
              "      <th></th>\n",
              "      <th>user_id</th>\n",
              "      <th>month</th>\n",
              "      <th>duration_ceil</th>\n",
              "    </tr>\n",
              "  </thead>\n",
              "  <tbody>\n",
              "    <tr>\n",
              "      <th>0</th>\n",
              "      <td>1000</td>\n",
              "      <td>2018-12</td>\n",
              "      <td>16</td>\n",
              "    </tr>\n",
              "    <tr>\n",
              "      <th>1</th>\n",
              "      <td>1001</td>\n",
              "      <td>2018-08</td>\n",
              "      <td>22</td>\n",
              "    </tr>\n",
              "    <tr>\n",
              "      <th>2</th>\n",
              "      <td>1001</td>\n",
              "      <td>2018-09</td>\n",
              "      <td>38</td>\n",
              "    </tr>\n",
              "    <tr>\n",
              "      <th>3</th>\n",
              "      <td>1001</td>\n",
              "      <td>2018-10</td>\n",
              "      <td>47</td>\n",
              "    </tr>\n",
              "    <tr>\n",
              "      <th>4</th>\n",
              "      <td>1001</td>\n",
              "      <td>2018-11</td>\n",
              "      <td>49</td>\n",
              "    </tr>\n",
              "  </tbody>\n",
              "</table>\n",
              "</div>"
            ],
            "text/plain": [
              "   user_id    month  duration_ceil\n",
              "0     1000  2018-12             16\n",
              "1     1001  2018-08             22\n",
              "2     1001  2018-09             38\n",
              "3     1001  2018-10             47\n",
              "4     1001  2018-11             49"
            ]
          },
          "execution_count": 50,
          "metadata": {},
          "output_type": "execute_result"
        }
      ],
      "source": [
        "# Memeriksa hasil pivot table yang dibentuk\n",
        "df_calls_agg.head()"
      ]
    },
    {
      "cell_type": "markdown",
      "metadata": {
        "id": "pG0fRW_2Zwxo"
      },
      "source": [
        "### Menjumlahkan Jumlah Pesan per Pelanggan<a id='sum_messages_data_per_user'></a>"
      ]
    },
    {
      "cell_type": "code",
      "execution_count": null,
      "metadata": {
        "id": "1kSTD2AoZwxo"
      },
      "outputs": [],
      "source": [
        "# Menjumlahkan jumlah penggiriman pesan perbulan\n",
        "df_messages_agg = df_messages.pivot_table(index = ['user_id', 'month'], values='id', aggfunc='count').reset_index()\n",
        "df_messages_agg.columns = ['user_id', 'month', 'sms']"
      ]
    },
    {
      "cell_type": "code",
      "execution_count": null,
      "metadata": {
        "id": "NLv3RZW8Zwxo",
        "outputId": "d35468cd-c6aa-4101-b040-bac311a6908f"
      },
      "outputs": [
        {
          "data": {
            "text/html": [
              "<div>\n",
              "<style scoped>\n",
              "    .dataframe tbody tr th:only-of-type {\n",
              "        vertical-align: middle;\n",
              "    }\n",
              "\n",
              "    .dataframe tbody tr th {\n",
              "        vertical-align: top;\n",
              "    }\n",
              "\n",
              "    .dataframe thead th {\n",
              "        text-align: right;\n",
              "    }\n",
              "</style>\n",
              "<table border=\"1\" class=\"dataframe\">\n",
              "  <thead>\n",
              "    <tr style=\"text-align: right;\">\n",
              "      <th></th>\n",
              "      <th>user_id</th>\n",
              "      <th>month</th>\n",
              "      <th>sms</th>\n",
              "    </tr>\n",
              "  </thead>\n",
              "  <tbody>\n",
              "    <tr>\n",
              "      <th>0</th>\n",
              "      <td>1000</td>\n",
              "      <td>2018-12</td>\n",
              "      <td>11</td>\n",
              "    </tr>\n",
              "    <tr>\n",
              "      <th>1</th>\n",
              "      <td>1001</td>\n",
              "      <td>2018-08</td>\n",
              "      <td>30</td>\n",
              "    </tr>\n",
              "    <tr>\n",
              "      <th>2</th>\n",
              "      <td>1001</td>\n",
              "      <td>2018-09</td>\n",
              "      <td>44</td>\n",
              "    </tr>\n",
              "    <tr>\n",
              "      <th>3</th>\n",
              "      <td>1001</td>\n",
              "      <td>2018-10</td>\n",
              "      <td>53</td>\n",
              "    </tr>\n",
              "    <tr>\n",
              "      <th>4</th>\n",
              "      <td>1001</td>\n",
              "      <td>2018-11</td>\n",
              "      <td>36</td>\n",
              "    </tr>\n",
              "  </tbody>\n",
              "</table>\n",
              "</div>"
            ],
            "text/plain": [
              "   user_id    month  sms\n",
              "0     1000  2018-12   11\n",
              "1     1001  2018-08   30\n",
              "2     1001  2018-09   44\n",
              "3     1001  2018-10   53\n",
              "4     1001  2018-11   36"
            ]
          },
          "execution_count": 52,
          "metadata": {},
          "output_type": "execute_result"
        }
      ],
      "source": [
        "# Memeriksa hasil pivot table yang dibentuk\n",
        "df_messages_agg.head()"
      ]
    },
    {
      "cell_type": "markdown",
      "metadata": {
        "id": "TGslbeISZwxo"
      },
      "source": [
        "### Menjumlahkan Jumlah Pemakaian Kuota per Pelanggan<a id='sum_internet_usage_per_user'></a>"
      ]
    },
    {
      "cell_type": "markdown",
      "metadata": {
        "id": "h_o2cPHMZwxo"
      },
      "source": [
        "Megaline membulatkan megabita ke gigabita untuk jumlah dari tiap pemakaian pengguna per bulannya, sehingga total pemakaian kuota per bulan perlu dibulatkan keatas"
      ]
    },
    {
      "cell_type": "code",
      "execution_count": null,
      "metadata": {
        "id": "euq_EDZDZwxo"
      },
      "outputs": [],
      "source": [
        "# Menjumlahkan jumlah penggiriman pesan perbulan\n",
        "df_internet_agg = df_internet.pivot_table(index = ['user_id', 'month'], values='mb_used', aggfunc='sum').reset_index()"
      ]
    },
    {
      "cell_type": "code",
      "execution_count": null,
      "metadata": {
        "id": "ARgOSh3-Zwxo",
        "outputId": "11c75c83-7584-4c4f-acae-887496726549"
      },
      "outputs": [
        {
          "data": {
            "text/html": [
              "<div>\n",
              "<style scoped>\n",
              "    .dataframe tbody tr th:only-of-type {\n",
              "        vertical-align: middle;\n",
              "    }\n",
              "\n",
              "    .dataframe tbody tr th {\n",
              "        vertical-align: top;\n",
              "    }\n",
              "\n",
              "    .dataframe thead th {\n",
              "        text-align: right;\n",
              "    }\n",
              "</style>\n",
              "<table border=\"1\" class=\"dataframe\">\n",
              "  <thead>\n",
              "    <tr style=\"text-align: right;\">\n",
              "      <th></th>\n",
              "      <th>user_id</th>\n",
              "      <th>month</th>\n",
              "      <th>mb_used</th>\n",
              "    </tr>\n",
              "  </thead>\n",
              "  <tbody>\n",
              "    <tr>\n",
              "      <th>0</th>\n",
              "      <td>1000</td>\n",
              "      <td>2018-12</td>\n",
              "      <td>1901.47</td>\n",
              "    </tr>\n",
              "    <tr>\n",
              "      <th>1</th>\n",
              "      <td>1001</td>\n",
              "      <td>2018-08</td>\n",
              "      <td>6919.15</td>\n",
              "    </tr>\n",
              "    <tr>\n",
              "      <th>2</th>\n",
              "      <td>1001</td>\n",
              "      <td>2018-09</td>\n",
              "      <td>13314.82</td>\n",
              "    </tr>\n",
              "    <tr>\n",
              "      <th>3</th>\n",
              "      <td>1001</td>\n",
              "      <td>2018-10</td>\n",
              "      <td>22330.49</td>\n",
              "    </tr>\n",
              "    <tr>\n",
              "      <th>4</th>\n",
              "      <td>1001</td>\n",
              "      <td>2018-11</td>\n",
              "      <td>18504.30</td>\n",
              "    </tr>\n",
              "  </tbody>\n",
              "</table>\n",
              "</div>"
            ],
            "text/plain": [
              "   user_id    month   mb_used\n",
              "0     1000  2018-12   1901.47\n",
              "1     1001  2018-08   6919.15\n",
              "2     1001  2018-09  13314.82\n",
              "3     1001  2018-10  22330.49\n",
              "4     1001  2018-11  18504.30"
            ]
          },
          "execution_count": 54,
          "metadata": {},
          "output_type": "execute_result"
        }
      ],
      "source": [
        "# Memeriksa hasil pivot table yang dibentuk\n",
        "df_internet_agg.head()"
      ]
    },
    {
      "cell_type": "code",
      "execution_count": null,
      "metadata": {
        "id": "JOKaNDv-Zwxp"
      },
      "outputs": [],
      "source": [
        "# Membuat fungsi untuk pembulatan\n",
        "def data_usage_ceil(data):\n",
        "    mb_to_gb = data/1024\n",
        "    data_ceil = np.ceil(mb_to_gb)\n",
        "    return data_ceil"
      ]
    },
    {
      "cell_type": "code",
      "execution_count": null,
      "metadata": {
        "id": "uTg6TdDuZwxp"
      },
      "outputs": [],
      "source": [
        "# Menambahkan kolom gb used\n",
        "df_internet_agg['gb_used'] = df_internet_agg['mb_used'].apply(data_usage_ceil).astype('int')"
      ]
    },
    {
      "cell_type": "code",
      "execution_count": null,
      "metadata": {
        "id": "IkuZt2JDZwxp",
        "outputId": "7383cbcd-3c92-46b0-bb20-f038b5eb6673"
      },
      "outputs": [
        {
          "data": {
            "text/html": [
              "<div>\n",
              "<style scoped>\n",
              "    .dataframe tbody tr th:only-of-type {\n",
              "        vertical-align: middle;\n",
              "    }\n",
              "\n",
              "    .dataframe tbody tr th {\n",
              "        vertical-align: top;\n",
              "    }\n",
              "\n",
              "    .dataframe thead th {\n",
              "        text-align: right;\n",
              "    }\n",
              "</style>\n",
              "<table border=\"1\" class=\"dataframe\">\n",
              "  <thead>\n",
              "    <tr style=\"text-align: right;\">\n",
              "      <th></th>\n",
              "      <th>user_id</th>\n",
              "      <th>month</th>\n",
              "      <th>mb_used</th>\n",
              "      <th>gb_used</th>\n",
              "    </tr>\n",
              "  </thead>\n",
              "  <tbody>\n",
              "    <tr>\n",
              "      <th>0</th>\n",
              "      <td>1000</td>\n",
              "      <td>2018-12</td>\n",
              "      <td>1901.47</td>\n",
              "      <td>2</td>\n",
              "    </tr>\n",
              "    <tr>\n",
              "      <th>1</th>\n",
              "      <td>1001</td>\n",
              "      <td>2018-08</td>\n",
              "      <td>6919.15</td>\n",
              "      <td>7</td>\n",
              "    </tr>\n",
              "    <tr>\n",
              "      <th>2</th>\n",
              "      <td>1001</td>\n",
              "      <td>2018-09</td>\n",
              "      <td>13314.82</td>\n",
              "      <td>14</td>\n",
              "    </tr>\n",
              "    <tr>\n",
              "      <th>3</th>\n",
              "      <td>1001</td>\n",
              "      <td>2018-10</td>\n",
              "      <td>22330.49</td>\n",
              "      <td>22</td>\n",
              "    </tr>\n",
              "    <tr>\n",
              "      <th>4</th>\n",
              "      <td>1001</td>\n",
              "      <td>2018-11</td>\n",
              "      <td>18504.30</td>\n",
              "      <td>19</td>\n",
              "    </tr>\n",
              "  </tbody>\n",
              "</table>\n",
              "</div>"
            ],
            "text/plain": [
              "   user_id    month   mb_used  gb_used\n",
              "0     1000  2018-12   1901.47        2\n",
              "1     1001  2018-08   6919.15        7\n",
              "2     1001  2018-09  13314.82       14\n",
              "3     1001  2018-10  22330.49       22\n",
              "4     1001  2018-11  18504.30       19"
            ]
          },
          "execution_count": 57,
          "metadata": {},
          "output_type": "execute_result"
        }
      ],
      "source": [
        "# Memeriksa hasil kolom yang dibentuk\n",
        "df_internet_agg.head()"
      ]
    },
    {
      "cell_type": "markdown",
      "metadata": {
        "id": "aiaJRycsZwxp"
      },
      "source": [
        "## Menggabungkan Data<a id='merge_data'></a>"
      ]
    },
    {
      "cell_type": "code",
      "execution_count": null,
      "metadata": {
        "id": "-NZ1FyADZwxp",
        "outputId": "3422ee45-387f-411d-a68a-bab3027b0009"
      },
      "outputs": [
        {
          "data": {
            "text/html": [
              "<div>\n",
              "<style scoped>\n",
              "    .dataframe tbody tr th:only-of-type {\n",
              "        vertical-align: middle;\n",
              "    }\n",
              "\n",
              "    .dataframe tbody tr th {\n",
              "        vertical-align: top;\n",
              "    }\n",
              "\n",
              "    .dataframe thead th {\n",
              "        text-align: right;\n",
              "    }\n",
              "</style>\n",
              "<table border=\"1\" class=\"dataframe\">\n",
              "  <thead>\n",
              "    <tr style=\"text-align: right;\">\n",
              "      <th></th>\n",
              "      <th>month</th>\n",
              "      <th>key</th>\n",
              "    </tr>\n",
              "  </thead>\n",
              "  <tbody>\n",
              "    <tr>\n",
              "      <th>0</th>\n",
              "      <td>2018-01</td>\n",
              "      <td>1</td>\n",
              "    </tr>\n",
              "    <tr>\n",
              "      <th>1</th>\n",
              "      <td>2018-02</td>\n",
              "      <td>1</td>\n",
              "    </tr>\n",
              "    <tr>\n",
              "      <th>2</th>\n",
              "      <td>2018-03</td>\n",
              "      <td>1</td>\n",
              "    </tr>\n",
              "    <tr>\n",
              "      <th>3</th>\n",
              "      <td>2018-04</td>\n",
              "      <td>1</td>\n",
              "    </tr>\n",
              "    <tr>\n",
              "      <th>4</th>\n",
              "      <td>2018-05</td>\n",
              "      <td>1</td>\n",
              "    </tr>\n",
              "    <tr>\n",
              "      <th>5</th>\n",
              "      <td>2018-06</td>\n",
              "      <td>1</td>\n",
              "    </tr>\n",
              "    <tr>\n",
              "      <th>6</th>\n",
              "      <td>2018-07</td>\n",
              "      <td>1</td>\n",
              "    </tr>\n",
              "    <tr>\n",
              "      <th>7</th>\n",
              "      <td>2018-08</td>\n",
              "      <td>1</td>\n",
              "    </tr>\n",
              "    <tr>\n",
              "      <th>8</th>\n",
              "      <td>2018-09</td>\n",
              "      <td>1</td>\n",
              "    </tr>\n",
              "    <tr>\n",
              "      <th>9</th>\n",
              "      <td>2018-10</td>\n",
              "      <td>1</td>\n",
              "    </tr>\n",
              "    <tr>\n",
              "      <th>10</th>\n",
              "      <td>2018-11</td>\n",
              "      <td>1</td>\n",
              "    </tr>\n",
              "    <tr>\n",
              "      <th>11</th>\n",
              "      <td>2018-12</td>\n",
              "      <td>1</td>\n",
              "    </tr>\n",
              "  </tbody>\n",
              "</table>\n",
              "</div>"
            ],
            "text/plain": [
              "      month  key\n",
              "0   2018-01    1\n",
              "1   2018-02    1\n",
              "2   2018-03    1\n",
              "3   2018-04    1\n",
              "4   2018-05    1\n",
              "5   2018-06    1\n",
              "6   2018-07    1\n",
              "7   2018-08    1\n",
              "8   2018-09    1\n",
              "9   2018-10    1\n",
              "10  2018-11    1\n",
              "11  2018-12    1"
            ]
          },
          "execution_count": 58,
          "metadata": {},
          "output_type": "execute_result"
        }
      ],
      "source": [
        "# Membuat kolom key untuk cross join\n",
        "unique_month = pd.DataFrame(df_internet['month'].unique(), columns=['month']).sort_values('month').reset_index(drop=True)\n",
        "unique_month['key'] = 1\n",
        "unique_month"
      ]
    },
    {
      "cell_type": "code",
      "execution_count": null,
      "metadata": {
        "id": "o8aR_YreZwxp",
        "outputId": "7c7bbbac-1d3c-4ef5-f5c4-bebdad412b22"
      },
      "outputs": [
        {
          "data": {
            "text/html": [
              "<div>\n",
              "<style scoped>\n",
              "    .dataframe tbody tr th:only-of-type {\n",
              "        vertical-align: middle;\n",
              "    }\n",
              "\n",
              "    .dataframe tbody tr th {\n",
              "        vertical-align: top;\n",
              "    }\n",
              "\n",
              "    .dataframe thead th {\n",
              "        text-align: right;\n",
              "    }\n",
              "</style>\n",
              "<table border=\"1\" class=\"dataframe\">\n",
              "  <thead>\n",
              "    <tr style=\"text-align: right;\">\n",
              "      <th></th>\n",
              "      <th>user_id</th>\n",
              "      <th>key</th>\n",
              "    </tr>\n",
              "  </thead>\n",
              "  <tbody>\n",
              "    <tr>\n",
              "      <th>0</th>\n",
              "      <td>1000</td>\n",
              "      <td>1</td>\n",
              "    </tr>\n",
              "    <tr>\n",
              "      <th>1</th>\n",
              "      <td>1001</td>\n",
              "      <td>1</td>\n",
              "    </tr>\n",
              "    <tr>\n",
              "      <th>2</th>\n",
              "      <td>1002</td>\n",
              "      <td>1</td>\n",
              "    </tr>\n",
              "    <tr>\n",
              "      <th>3</th>\n",
              "      <td>1003</td>\n",
              "      <td>1</td>\n",
              "    </tr>\n",
              "    <tr>\n",
              "      <th>4</th>\n",
              "      <td>1004</td>\n",
              "      <td>1</td>\n",
              "    </tr>\n",
              "    <tr>\n",
              "      <th>...</th>\n",
              "      <td>...</td>\n",
              "      <td>...</td>\n",
              "    </tr>\n",
              "    <tr>\n",
              "      <th>495</th>\n",
              "      <td>1495</td>\n",
              "      <td>1</td>\n",
              "    </tr>\n",
              "    <tr>\n",
              "      <th>496</th>\n",
              "      <td>1496</td>\n",
              "      <td>1</td>\n",
              "    </tr>\n",
              "    <tr>\n",
              "      <th>497</th>\n",
              "      <td>1497</td>\n",
              "      <td>1</td>\n",
              "    </tr>\n",
              "    <tr>\n",
              "      <th>498</th>\n",
              "      <td>1498</td>\n",
              "      <td>1</td>\n",
              "    </tr>\n",
              "    <tr>\n",
              "      <th>499</th>\n",
              "      <td>1499</td>\n",
              "      <td>1</td>\n",
              "    </tr>\n",
              "  </tbody>\n",
              "</table>\n",
              "<p>500 rows × 2 columns</p>\n",
              "</div>"
            ],
            "text/plain": [
              "     user_id  key\n",
              "0       1000    1\n",
              "1       1001    1\n",
              "2       1002    1\n",
              "3       1003    1\n",
              "4       1004    1\n",
              "..       ...  ...\n",
              "495     1495    1\n",
              "496     1496    1\n",
              "497     1497    1\n",
              "498     1498    1\n",
              "499     1499    1\n",
              "\n",
              "[500 rows x 2 columns]"
            ]
          },
          "execution_count": 59,
          "metadata": {},
          "output_type": "execute_result"
        }
      ],
      "source": [
        "# Membuat kolom key untuk cross join\n",
        "unique_user_id = pd.DataFrame(df_users['user_id'].unique(), columns=['user_id']).sort_values('user_id').reset_index(drop=True)\n",
        "unique_user_id['key'] = 1\n",
        "unique_user_id"
      ]
    },
    {
      "cell_type": "code",
      "execution_count": null,
      "metadata": {
        "id": "NafbOIXdZwxq"
      },
      "outputs": [],
      "source": [
        "# Cross Join tabel unique_user_id dengan tabel unique_month\n",
        "user_id_x_month = unique_user_id.merge(unique_month, on='key', how='inner')"
      ]
    },
    {
      "cell_type": "code",
      "execution_count": null,
      "metadata": {
        "id": "-whlgJN8Zwxq",
        "outputId": "1df6db10-2961-4b76-9ceb-d2f6b2e87e4f"
      },
      "outputs": [
        {
          "data": {
            "text/html": [
              "<div>\n",
              "<style scoped>\n",
              "    .dataframe tbody tr th:only-of-type {\n",
              "        vertical-align: middle;\n",
              "    }\n",
              "\n",
              "    .dataframe tbody tr th {\n",
              "        vertical-align: top;\n",
              "    }\n",
              "\n",
              "    .dataframe thead th {\n",
              "        text-align: right;\n",
              "    }\n",
              "</style>\n",
              "<table border=\"1\" class=\"dataframe\">\n",
              "  <thead>\n",
              "    <tr style=\"text-align: right;\">\n",
              "      <th></th>\n",
              "      <th>user_id</th>\n",
              "      <th>key</th>\n",
              "      <th>month</th>\n",
              "    </tr>\n",
              "  </thead>\n",
              "  <tbody>\n",
              "    <tr>\n",
              "      <th>0</th>\n",
              "      <td>1000</td>\n",
              "      <td>1</td>\n",
              "      <td>2018-01</td>\n",
              "    </tr>\n",
              "    <tr>\n",
              "      <th>1</th>\n",
              "      <td>1000</td>\n",
              "      <td>1</td>\n",
              "      <td>2018-02</td>\n",
              "    </tr>\n",
              "    <tr>\n",
              "      <th>2</th>\n",
              "      <td>1000</td>\n",
              "      <td>1</td>\n",
              "      <td>2018-03</td>\n",
              "    </tr>\n",
              "    <tr>\n",
              "      <th>3</th>\n",
              "      <td>1000</td>\n",
              "      <td>1</td>\n",
              "      <td>2018-04</td>\n",
              "    </tr>\n",
              "    <tr>\n",
              "      <th>4</th>\n",
              "      <td>1000</td>\n",
              "      <td>1</td>\n",
              "      <td>2018-05</td>\n",
              "    </tr>\n",
              "    <tr>\n",
              "      <th>...</th>\n",
              "      <td>...</td>\n",
              "      <td>...</td>\n",
              "      <td>...</td>\n",
              "    </tr>\n",
              "    <tr>\n",
              "      <th>5995</th>\n",
              "      <td>1499</td>\n",
              "      <td>1</td>\n",
              "      <td>2018-08</td>\n",
              "    </tr>\n",
              "    <tr>\n",
              "      <th>5996</th>\n",
              "      <td>1499</td>\n",
              "      <td>1</td>\n",
              "      <td>2018-09</td>\n",
              "    </tr>\n",
              "    <tr>\n",
              "      <th>5997</th>\n",
              "      <td>1499</td>\n",
              "      <td>1</td>\n",
              "      <td>2018-10</td>\n",
              "    </tr>\n",
              "    <tr>\n",
              "      <th>5998</th>\n",
              "      <td>1499</td>\n",
              "      <td>1</td>\n",
              "      <td>2018-11</td>\n",
              "    </tr>\n",
              "    <tr>\n",
              "      <th>5999</th>\n",
              "      <td>1499</td>\n",
              "      <td>1</td>\n",
              "      <td>2018-12</td>\n",
              "    </tr>\n",
              "  </tbody>\n",
              "</table>\n",
              "<p>6000 rows × 3 columns</p>\n",
              "</div>"
            ],
            "text/plain": [
              "      user_id  key    month\n",
              "0        1000    1  2018-01\n",
              "1        1000    1  2018-02\n",
              "2        1000    1  2018-03\n",
              "3        1000    1  2018-04\n",
              "4        1000    1  2018-05\n",
              "...       ...  ...      ...\n",
              "5995     1499    1  2018-08\n",
              "5996     1499    1  2018-09\n",
              "5997     1499    1  2018-10\n",
              "5998     1499    1  2018-11\n",
              "5999     1499    1  2018-12\n",
              "\n",
              "[6000 rows x 3 columns]"
            ]
          },
          "execution_count": 61,
          "metadata": {},
          "output_type": "execute_result"
        }
      ],
      "source": [
        "user_id_x_month"
      ]
    },
    {
      "cell_type": "code",
      "execution_count": null,
      "metadata": {
        "id": "2A1VghRBZwxq",
        "outputId": "2bc65b6a-a83a-408a-92a4-44e343c87d43"
      },
      "outputs": [
        {
          "data": {
            "text/html": [
              "<div>\n",
              "<style scoped>\n",
              "    .dataframe tbody tr th:only-of-type {\n",
              "        vertical-align: middle;\n",
              "    }\n",
              "\n",
              "    .dataframe tbody tr th {\n",
              "        vertical-align: top;\n",
              "    }\n",
              "\n",
              "    .dataframe thead th {\n",
              "        text-align: right;\n",
              "    }\n",
              "</style>\n",
              "<table border=\"1\" class=\"dataframe\">\n",
              "  <thead>\n",
              "    <tr style=\"text-align: right;\">\n",
              "      <th></th>\n",
              "      <th>user_id</th>\n",
              "      <th>key</th>\n",
              "      <th>month</th>\n",
              "      <th>first_name</th>\n",
              "      <th>last_name</th>\n",
              "      <th>age</th>\n",
              "      <th>city</th>\n",
              "      <th>reg_date</th>\n",
              "      <th>plan</th>\n",
              "      <th>churn_date</th>\n",
              "      <th>...</th>\n",
              "      <th>minutes_included</th>\n",
              "      <th>usd_monthly_pay</th>\n",
              "      <th>usd_per_gb</th>\n",
              "      <th>usd_per_message</th>\n",
              "      <th>usd_per_minute</th>\n",
              "      <th>plan_name</th>\n",
              "      <th>mb_used</th>\n",
              "      <th>gb_used</th>\n",
              "      <th>duration_ceil</th>\n",
              "      <th>sms</th>\n",
              "    </tr>\n",
              "  </thead>\n",
              "  <tbody>\n",
              "    <tr>\n",
              "      <th>3877</th>\n",
              "      <td>1323</td>\n",
              "      <td>1</td>\n",
              "      <td>2018-02</td>\n",
              "      <td>Pamelia</td>\n",
              "      <td>Atkins</td>\n",
              "      <td>42</td>\n",
              "      <td>Baltimore-Columbia-Towson, MD MSA</td>\n",
              "      <td>2018-12-30</td>\n",
              "      <td>surf</td>\n",
              "      <td>NaT</td>\n",
              "      <td>...</td>\n",
              "      <td>500</td>\n",
              "      <td>20</td>\n",
              "      <td>10</td>\n",
              "      <td>0.03</td>\n",
              "      <td>0.03</td>\n",
              "      <td>surf</td>\n",
              "      <td>NaN</td>\n",
              "      <td>NaN</td>\n",
              "      <td>NaN</td>\n",
              "      <td>NaN</td>\n",
              "    </tr>\n",
              "    <tr>\n",
              "      <th>625</th>\n",
              "      <td>1052</td>\n",
              "      <td>1</td>\n",
              "      <td>2018-02</td>\n",
              "      <td>Edmond</td>\n",
              "      <td>Hopkins</td>\n",
              "      <td>47</td>\n",
              "      <td>Houston-The Woodlands-Sugar Land, TX MSA</td>\n",
              "      <td>2018-03-05</td>\n",
              "      <td>surf</td>\n",
              "      <td>NaT</td>\n",
              "      <td>...</td>\n",
              "      <td>500</td>\n",
              "      <td>20</td>\n",
              "      <td>10</td>\n",
              "      <td>0.03</td>\n",
              "      <td>0.03</td>\n",
              "      <td>surf</td>\n",
              "      <td>NaN</td>\n",
              "      <td>NaN</td>\n",
              "      <td>NaN</td>\n",
              "      <td>NaN</td>\n",
              "    </tr>\n",
              "    <tr>\n",
              "      <th>5422</th>\n",
              "      <td>1451</td>\n",
              "      <td>1</td>\n",
              "      <td>2018-11</td>\n",
              "      <td>Lenard</td>\n",
              "      <td>Harding</td>\n",
              "      <td>53</td>\n",
              "      <td>Charlotte-Concord-Gastonia, NC-SC MSA</td>\n",
              "      <td>2018-02-15</td>\n",
              "      <td>ultimate</td>\n",
              "      <td>2018-12-10</td>\n",
              "      <td>...</td>\n",
              "      <td>3000</td>\n",
              "      <td>70</td>\n",
              "      <td>7</td>\n",
              "      <td>0.01</td>\n",
              "      <td>0.01</td>\n",
              "      <td>ultimate</td>\n",
              "      <td>14708.82</td>\n",
              "      <td>15.0</td>\n",
              "      <td>68.0</td>\n",
              "      <td>60.0</td>\n",
              "    </tr>\n",
              "    <tr>\n",
              "      <th>5444</th>\n",
              "      <td>1453</td>\n",
              "      <td>1</td>\n",
              "      <td>2018-09</td>\n",
              "      <td>Robt</td>\n",
              "      <td>Tyler</td>\n",
              "      <td>51</td>\n",
              "      <td>Los Angeles-Long Beach-Anaheim, CA MSA</td>\n",
              "      <td>2018-07-09</td>\n",
              "      <td>ultimate</td>\n",
              "      <td>NaT</td>\n",
              "      <td>...</td>\n",
              "      <td>3000</td>\n",
              "      <td>70</td>\n",
              "      <td>7</td>\n",
              "      <td>0.01</td>\n",
              "      <td>0.01</td>\n",
              "      <td>ultimate</td>\n",
              "      <td>NaN</td>\n",
              "      <td>NaN</td>\n",
              "      <td>NaN</td>\n",
              "      <td>NaN</td>\n",
              "    </tr>\n",
              "    <tr>\n",
              "      <th>973</th>\n",
              "      <td>1081</td>\n",
              "      <td>1</td>\n",
              "      <td>2018-02</td>\n",
              "      <td>Grayce</td>\n",
              "      <td>Sears</td>\n",
              "      <td>44</td>\n",
              "      <td>Dallas-Fort Worth-Arlington, TX MSA</td>\n",
              "      <td>2018-04-27</td>\n",
              "      <td>surf</td>\n",
              "      <td>NaT</td>\n",
              "      <td>...</td>\n",
              "      <td>500</td>\n",
              "      <td>20</td>\n",
              "      <td>10</td>\n",
              "      <td>0.03</td>\n",
              "      <td>0.03</td>\n",
              "      <td>surf</td>\n",
              "      <td>NaN</td>\n",
              "      <td>NaN</td>\n",
              "      <td>NaN</td>\n",
              "      <td>NaN</td>\n",
              "    </tr>\n",
              "  </tbody>\n",
              "</table>\n",
              "<p>5 rows × 26 columns</p>\n",
              "</div>"
            ],
            "text/plain": [
              "      user_id  key    month first_name last_name  age  \\\n",
              "3877     1323    1  2018-02    Pamelia    Atkins   42   \n",
              "625      1052    1  2018-02     Edmond   Hopkins   47   \n",
              "5422     1451    1  2018-11     Lenard   Harding   53   \n",
              "5444     1453    1  2018-09       Robt     Tyler   51   \n",
              "973      1081    1  2018-02     Grayce     Sears   44   \n",
              "\n",
              "                                          city   reg_date      plan  \\\n",
              "3877         Baltimore-Columbia-Towson, MD MSA 2018-12-30      surf   \n",
              "625   Houston-The Woodlands-Sugar Land, TX MSA 2018-03-05      surf   \n",
              "5422     Charlotte-Concord-Gastonia, NC-SC MSA 2018-02-15  ultimate   \n",
              "5444    Los Angeles-Long Beach-Anaheim, CA MSA 2018-07-09  ultimate   \n",
              "973        Dallas-Fort Worth-Arlington, TX MSA 2018-04-27      surf   \n",
              "\n",
              "     churn_date  ... minutes_included usd_monthly_pay usd_per_gb  \\\n",
              "3877        NaT  ...              500              20         10   \n",
              "625         NaT  ...              500              20         10   \n",
              "5422 2018-12-10  ...             3000              70          7   \n",
              "5444        NaT  ...             3000              70          7   \n",
              "973         NaT  ...              500              20         10   \n",
              "\n",
              "     usd_per_message  usd_per_minute  plan_name   mb_used  gb_used  \\\n",
              "3877            0.03            0.03       surf       NaN      NaN   \n",
              "625             0.03            0.03       surf       NaN      NaN   \n",
              "5422            0.01            0.01   ultimate  14708.82     15.0   \n",
              "5444            0.01            0.01   ultimate       NaN      NaN   \n",
              "973             0.03            0.03       surf       NaN      NaN   \n",
              "\n",
              "      duration_ceil   sms  \n",
              "3877            NaN   NaN  \n",
              "625             NaN   NaN  \n",
              "5422           68.0  60.0  \n",
              "5444            NaN   NaN  \n",
              "973             NaN   NaN  \n",
              "\n",
              "[5 rows x 26 columns]"
            ]
          },
          "execution_count": 62,
          "metadata": {},
          "output_type": "execute_result"
        }
      ],
      "source": [
        "# Merge data \n",
        "df_merge = user_id_x_month.merge(df_users, on='user_id', how='left')\n",
        "df_merge = df_merge.merge(df_plans, left_on='plan', right_on='plan_name', how='left')\n",
        "df_merge = df_merge.merge(df_internet_agg, on=['user_id', 'month'], how='left')\n",
        "df_merge = df_merge.merge(df_calls_agg, on=['user_id', 'month'], how='left')\n",
        "df_merge = df_merge.merge(df_messages_agg, on=['user_id', 'month'], how='left')\n",
        "df_merge.sample(5)"
      ]
    },
    {
      "cell_type": "code",
      "execution_count": null,
      "metadata": {
        "id": "VR1BPxQ3Zwxq",
        "outputId": "4ad60bb8-6b8d-4c92-e6a4-c2d52c791d4e"
      },
      "outputs": [
        {
          "data": {
            "text/plain": [
              "(6000, 26)"
            ]
          },
          "execution_count": 63,
          "metadata": {},
          "output_type": "execute_result"
        }
      ],
      "source": [
        "df_merge.shape"
      ]
    },
    {
      "cell_type": "code",
      "execution_count": null,
      "metadata": {
        "id": "gtSG4ujVZwxq",
        "outputId": "1384ae0e-737f-4574-9911-e9a79e086998"
      },
      "outputs": [
        {
          "data": {
            "text/plain": [
              "Index(['user_id', 'key', 'month', 'first_name', 'last_name', 'age', 'city',\n",
              "       'reg_date', 'plan', 'churn_date', 'reg_month', 'churn_month',\n",
              "       'city_code', 'is_ny_nj', 'messages_included', 'mb_per_month_included',\n",
              "       'minutes_included', 'usd_monthly_pay', 'usd_per_gb', 'usd_per_message',\n",
              "       'usd_per_minute', 'plan_name', 'mb_used', 'gb_used', 'duration_ceil',\n",
              "       'sms'],\n",
              "      dtype='object')"
            ]
          },
          "execution_count": 64,
          "metadata": {},
          "output_type": "execute_result"
        }
      ],
      "source": [
        "# Pengecekan nama kolom untuk drop kolom yang tidak digunakan \n",
        "df_merge.columns"
      ]
    },
    {
      "cell_type": "code",
      "execution_count": null,
      "metadata": {
        "id": "-opQBb4KZwxq"
      },
      "outputs": [],
      "source": [
        "# Drop kolom yang tidak digunakan\n",
        "drop_cols = ['key', 'first_name', 'last_name', 'city', 'reg_date', 'churn_date', 'mb_used']\n",
        "df_merge.drop(columns = drop_cols, axis=1, inplace=True)"
      ]
    },
    {
      "cell_type": "code",
      "execution_count": null,
      "metadata": {
        "id": "v2XgQbAxZwxq",
        "outputId": "2772e365-3cdb-4573-a814-99d7e60caf24"
      },
      "outputs": [
        {
          "data": {
            "text/html": [
              "<div>\n",
              "<style scoped>\n",
              "    .dataframe tbody tr th:only-of-type {\n",
              "        vertical-align: middle;\n",
              "    }\n",
              "\n",
              "    .dataframe tbody tr th {\n",
              "        vertical-align: top;\n",
              "    }\n",
              "\n",
              "    .dataframe thead th {\n",
              "        text-align: right;\n",
              "    }\n",
              "</style>\n",
              "<table border=\"1\" class=\"dataframe\">\n",
              "  <thead>\n",
              "    <tr style=\"text-align: right;\">\n",
              "      <th></th>\n",
              "      <th>user_id</th>\n",
              "      <th>month</th>\n",
              "      <th>age</th>\n",
              "      <th>plan</th>\n",
              "      <th>reg_month</th>\n",
              "      <th>churn_month</th>\n",
              "      <th>city_code</th>\n",
              "      <th>is_ny_nj</th>\n",
              "      <th>messages_included</th>\n",
              "      <th>mb_per_month_included</th>\n",
              "      <th>minutes_included</th>\n",
              "      <th>usd_monthly_pay</th>\n",
              "      <th>usd_per_gb</th>\n",
              "      <th>usd_per_message</th>\n",
              "      <th>usd_per_minute</th>\n",
              "      <th>plan_name</th>\n",
              "      <th>gb_used</th>\n",
              "      <th>duration_ceil</th>\n",
              "      <th>sms</th>\n",
              "    </tr>\n",
              "  </thead>\n",
              "  <tbody>\n",
              "    <tr>\n",
              "      <th>754</th>\n",
              "      <td>1062</td>\n",
              "      <td>2018-11</td>\n",
              "      <td>41</td>\n",
              "      <td>ultimate</td>\n",
              "      <td>2018-02</td>\n",
              "      <td>NaT</td>\n",
              "      <td>TX</td>\n",
              "      <td>others</td>\n",
              "      <td>1000</td>\n",
              "      <td>30720</td>\n",
              "      <td>3000</td>\n",
              "      <td>70</td>\n",
              "      <td>7</td>\n",
              "      <td>0.01</td>\n",
              "      <td>0.01</td>\n",
              "      <td>ultimate</td>\n",
              "      <td>18.0</td>\n",
              "      <td>21.0</td>\n",
              "      <td>7.0</td>\n",
              "    </tr>\n",
              "  </tbody>\n",
              "</table>\n",
              "</div>"
            ],
            "text/plain": [
              "     user_id    month  age      plan reg_month churn_month city_code is_ny_nj  \\\n",
              "754     1062  2018-11   41  ultimate   2018-02         NaT        TX   others   \n",
              "\n",
              "     messages_included  mb_per_month_included  minutes_included  \\\n",
              "754               1000                  30720              3000   \n",
              "\n",
              "     usd_monthly_pay  usd_per_gb  usd_per_message  usd_per_minute plan_name  \\\n",
              "754               70           7             0.01            0.01  ultimate   \n",
              "\n",
              "     gb_used  duration_ceil  sms  \n",
              "754     18.0           21.0  7.0  "
            ]
          },
          "execution_count": 66,
          "metadata": {},
          "output_type": "execute_result"
        }
      ],
      "source": [
        "# Memeriksa hasil tabel yang dibersihkan\n",
        "df_merge.sample()"
      ]
    },
    {
      "cell_type": "code",
      "execution_count": null,
      "metadata": {
        "id": "vtkMc_hPZwxq",
        "outputId": "f5b79b2e-9d10-4388-f4ed-4f2abd60c597"
      },
      "outputs": [
        {
          "data": {
            "text/html": [
              "<div>\n",
              "<style scoped>\n",
              "    .dataframe tbody tr th:only-of-type {\n",
              "        vertical-align: middle;\n",
              "    }\n",
              "\n",
              "    .dataframe tbody tr th {\n",
              "        vertical-align: top;\n",
              "    }\n",
              "\n",
              "    .dataframe thead th {\n",
              "        text-align: right;\n",
              "    }\n",
              "</style>\n",
              "<table border=\"1\" class=\"dataframe\">\n",
              "  <thead>\n",
              "    <tr style=\"text-align: right;\">\n",
              "      <th></th>\n",
              "      <th>user_id</th>\n",
              "      <th>month</th>\n",
              "      <th>age</th>\n",
              "      <th>plan_used</th>\n",
              "      <th>reg_month</th>\n",
              "      <th>churn_month</th>\n",
              "      <th>city_code</th>\n",
              "      <th>is_ny_nj</th>\n",
              "      <th>plan_messages</th>\n",
              "      <th>plan_kuota (gb)</th>\n",
              "      <th>plan_minutes (min)</th>\n",
              "      <th>plan_fee (usd)</th>\n",
              "      <th>usd_per_gb</th>\n",
              "      <th>usd_per_message</th>\n",
              "      <th>usd_per_minute</th>\n",
              "      <th>plan_name</th>\n",
              "      <th>gb_used</th>\n",
              "      <th>duration (min)</th>\n",
              "      <th>sms</th>\n",
              "    </tr>\n",
              "  </thead>\n",
              "  <tbody>\n",
              "    <tr>\n",
              "      <th>5181</th>\n",
              "      <td>1431</td>\n",
              "      <td>2018-10</td>\n",
              "      <td>74</td>\n",
              "      <td>surf</td>\n",
              "      <td>2018-01</td>\n",
              "      <td>NaT</td>\n",
              "      <td>CA</td>\n",
              "      <td>others</td>\n",
              "      <td>50</td>\n",
              "      <td>15360</td>\n",
              "      <td>500</td>\n",
              "      <td>20</td>\n",
              "      <td>10</td>\n",
              "      <td>0.03</td>\n",
              "      <td>0.03</td>\n",
              "      <td>surf</td>\n",
              "      <td>2.0</td>\n",
              "      <td>2.0</td>\n",
              "      <td>2.0</td>\n",
              "    </tr>\n",
              "  </tbody>\n",
              "</table>\n",
              "</div>"
            ],
            "text/plain": [
              "      user_id    month  age plan_used reg_month churn_month city_code  \\\n",
              "5181     1431  2018-10   74      surf   2018-01         NaT        CA   \n",
              "\n",
              "     is_ny_nj  plan_messages  plan_kuota (gb)  plan_minutes (min)  \\\n",
              "5181   others             50            15360                 500   \n",
              "\n",
              "      plan_fee (usd)  usd_per_gb  usd_per_message  usd_per_minute plan_name  \\\n",
              "5181              20          10             0.03            0.03      surf   \n",
              "\n",
              "      gb_used  duration (min)  sms  \n",
              "5181      2.0             2.0  2.0  "
            ]
          },
          "execution_count": 67,
          "metadata": {},
          "output_type": "execute_result"
        }
      ],
      "source": [
        "# Mengganti nama kolom\n",
        "df_clean = df_merge.rename(columns={\n",
        "                                    'plan': 'plan_used',\n",
        "                                    'messages_included': 'plan_messages',\n",
        "                                    'mb_per_month_included': 'plan_kuota (gb)',\n",
        "                                    'minutes_included': 'plan_minutes (min)',\n",
        "                                    'usd_monthly_pay': 'plan_fee (usd)',\n",
        "                                    'duration_ceil': 'duration (min)'\n",
        "                                    })\n",
        "df_clean.sample()"
      ]
    },
    {
      "cell_type": "code",
      "execution_count": null,
      "metadata": {
        "id": "YTC5MbsLZwxr",
        "outputId": "fd161fe7-6dc0-4efc-9843-eac0095f38b6"
      },
      "outputs": [
        {
          "data": {
            "text/html": [
              "<div>\n",
              "<style scoped>\n",
              "    .dataframe tbody tr th:only-of-type {\n",
              "        vertical-align: middle;\n",
              "    }\n",
              "\n",
              "    .dataframe tbody tr th {\n",
              "        vertical-align: top;\n",
              "    }\n",
              "\n",
              "    .dataframe thead th {\n",
              "        text-align: right;\n",
              "    }\n",
              "</style>\n",
              "<table border=\"1\" class=\"dataframe\">\n",
              "  <thead>\n",
              "    <tr style=\"text-align: right;\">\n",
              "      <th></th>\n",
              "      <th>user_id</th>\n",
              "      <th>month</th>\n",
              "      <th>age</th>\n",
              "      <th>plan_used</th>\n",
              "      <th>reg_month</th>\n",
              "      <th>churn_month</th>\n",
              "      <th>city_code</th>\n",
              "      <th>is_ny_nj</th>\n",
              "      <th>plan_messages</th>\n",
              "      <th>plan_kuota (gb)</th>\n",
              "      <th>plan_minutes (min)</th>\n",
              "      <th>plan_fee (usd)</th>\n",
              "      <th>usd_per_gb</th>\n",
              "      <th>usd_per_message</th>\n",
              "      <th>usd_per_minute</th>\n",
              "      <th>plan_name</th>\n",
              "      <th>gb_used</th>\n",
              "      <th>duration (min)</th>\n",
              "      <th>sms</th>\n",
              "    </tr>\n",
              "  </thead>\n",
              "  <tbody>\n",
              "    <tr>\n",
              "      <th>1660</th>\n",
              "      <td>1138</td>\n",
              "      <td>2018-05</td>\n",
              "      <td>66</td>\n",
              "      <td>surf</td>\n",
              "      <td>2018-02</td>\n",
              "      <td>NaT</td>\n",
              "      <td>CA</td>\n",
              "      <td>others</td>\n",
              "      <td>50</td>\n",
              "      <td>15</td>\n",
              "      <td>500</td>\n",
              "      <td>20</td>\n",
              "      <td>10</td>\n",
              "      <td>0.03</td>\n",
              "      <td>0.03</td>\n",
              "      <td>surf</td>\n",
              "      <td>23.0</td>\n",
              "      <td>48.0</td>\n",
              "      <td>16.0</td>\n",
              "    </tr>\n",
              "  </tbody>\n",
              "</table>\n",
              "</div>"
            ],
            "text/plain": [
              "      user_id    month  age plan_used reg_month churn_month city_code  \\\n",
              "1660     1138  2018-05   66      surf   2018-02         NaT        CA   \n",
              "\n",
              "     is_ny_nj  plan_messages  plan_kuota (gb)  plan_minutes (min)  \\\n",
              "1660   others             50               15                 500   \n",
              "\n",
              "      plan_fee (usd)  usd_per_gb  usd_per_message  usd_per_minute plan_name  \\\n",
              "1660              20          10             0.03            0.03      surf   \n",
              "\n",
              "      gb_used  duration (min)   sms  \n",
              "1660     23.0            48.0  16.0  "
            ]
          },
          "execution_count": 68,
          "metadata": {},
          "output_type": "execute_result"
        }
      ],
      "source": [
        "df_clean['plan_kuota (gb)'] = df_clean['plan_kuota (gb)'] / 1024 \n",
        "df_clean['plan_kuota (gb)'] = df_clean['plan_kuota (gb)'].astype('int')\n",
        "df_clean.sample()"
      ]
    },
    {
      "cell_type": "code",
      "execution_count": null,
      "metadata": {
        "id": "zOhK4rzeZwxr",
        "outputId": "e940f9bb-c1a5-4e04-c79b-1d855aff1122"
      },
      "outputs": [
        {
          "data": {
            "text/plain": [
              "(6000, 19)"
            ]
          },
          "execution_count": 69,
          "metadata": {},
          "output_type": "execute_result"
        }
      ],
      "source": [
        "df_clean.shape"
      ]
    },
    {
      "cell_type": "markdown",
      "metadata": {
        "id": "FZJnc2AxZwxr"
      },
      "source": [
        "## Mencari Pendapatan Bulanan dari Setiap Pengguna<a id='monthly_revenue'></a>"
      ]
    },
    {
      "cell_type": "markdown",
      "metadata": {
        "id": "PU3uAppNZwxr"
      },
      "source": [
        "Pada bagian 7 dilakukan proses cross join, hal ini dilakukan untuk melakukan perhitungan pendapatan bulanan sejak pertama kali user berlangganan, kalau pendapatan bulanan dihitung hanya berdasarkan jumlah messages, call duration dan total data yang dipakai dikhawatirkan adanya pendapatan yang tidak terhitung karena pada saat masa berlangganan pengguna memang tidak memakai apapun."
      ]
    },
    {
      "cell_type": "code",
      "execution_count": null,
      "metadata": {
        "id": "5KDsR9YOZwxr"
      },
      "outputs": [],
      "source": [
        "# Filter data yang tidak diperlukan\n",
        "# df_clean = df_clean.loc[((df_clean['month'] >= df_clean['reg_month']) & (df_clean['month'] <= df_clean['churn_month']))]\n",
        "df_clean = df_clean.loc[((df_clean['month'] >= df_clean['reg_month']) | (df_clean['month'] <= df_clean['churn_month']))]"
      ]
    },
    {
      "cell_type": "code",
      "execution_count": null,
      "metadata": {
        "id": "CNAxzNUhZwxr"
      },
      "outputs": [],
      "source": [
        "# Membuat fungsi untuk kalkulasi extra price\n",
        "def extra_price (value, max_value, cost_extra):\n",
        "    extra_value = value - max_value\n",
        "    if extra_value > 0:\n",
        "        return cost_extra * extra_value\n",
        "    else:\n",
        "        return 0"
      ]
    },
    {
      "cell_type": "code",
      "execution_count": null,
      "metadata": {
        "id": "bZRDgtVVZwxr",
        "outputId": "303f29e2-cf3f-4860-af21-55a5d365d71d"
      },
      "outputs": [
        {
          "name": "stdout",
          "output_type": "stream",
          "text": [
            "<class 'pandas.core.frame.DataFrame'>\n",
            "Int64Index: 3529 entries, 11 to 5999\n",
            "Data columns (total 19 columns):\n",
            " #   Column              Non-Null Count  Dtype    \n",
            "---  ------              --------------  -----    \n",
            " 0   user_id             3529 non-null   int64    \n",
            " 1   month               3529 non-null   period[M]\n",
            " 2   age                 3529 non-null   int64    \n",
            " 3   plan_used           3529 non-null   object   \n",
            " 4   reg_month           3529 non-null   period[M]\n",
            " 5   churn_month         408 non-null    period[M]\n",
            " 6   city_code           3529 non-null   object   \n",
            " 7   is_ny_nj            3529 non-null   object   \n",
            " 8   plan_messages       3529 non-null   int64    \n",
            " 9   plan_kuota (gb)     3529 non-null   int64    \n",
            " 10  plan_minutes (min)  3529 non-null   int64    \n",
            " 11  plan_fee (usd)      3529 non-null   int64    \n",
            " 12  usd_per_gb          3529 non-null   int64    \n",
            " 13  usd_per_message     3529 non-null   float64  \n",
            " 14  usd_per_minute      3529 non-null   float64  \n",
            " 15  plan_name           3529 non-null   object   \n",
            " 16  gb_used             3529 non-null   float64  \n",
            " 17  duration (min)      3529 non-null   float64  \n",
            " 18  sms                 3529 non-null   float64  \n",
            "dtypes: float64(5), int64(7), object(4), period[M](3)\n",
            "memory usage: 551.4+ KB\n"
          ]
        }
      ],
      "source": [
        "# Mengisi nilai yang hilang pada kolom pemakaian pengguna\n",
        "df_clean['gb_used'] = df_clean['gb_used'].fillna(0)\n",
        "df_clean['duration (min)'] = df_clean['duration (min)'].fillna(0)\n",
        "df_clean['sms'] = df_clean['sms'].fillna(0)\n",
        "df_clean.info()"
      ]
    },
    {
      "cell_type": "code",
      "execution_count": null,
      "metadata": {
        "id": "gSXTCPCEZwxs"
      },
      "outputs": [],
      "source": [
        "# Membuat kolom extra_internet \n",
        "df_clean['extra_internet'] = df_clean.apply(lambda row: extra_price(value=row['gb_used'], \n",
        "                                                                  max_value=row['plan_kuota (gb)'], \n",
        "                                                                  cost_extra=row['usd_per_gb']), axis=1)"
      ]
    },
    {
      "cell_type": "code",
      "execution_count": null,
      "metadata": {
        "id": "4MkiAv0wZwxs"
      },
      "outputs": [],
      "source": [
        "# Membuat kolom extra_messages \n",
        "df_clean['extra_messages'] = df_clean.apply(lambda row: extra_price(value=row['sms'], \n",
        "                                                                  max_value=row['plan_messages'], \n",
        "                                                                  cost_extra=row['usd_per_message']), axis=1)"
      ]
    },
    {
      "cell_type": "code",
      "execution_count": null,
      "metadata": {
        "id": "U64WwXgFZwxs"
      },
      "outputs": [],
      "source": [
        "# Membuat kolom extra_minutes\n",
        "df_clean['extra_minutes'] = df_clean.apply(lambda row: extra_price(value=row['duration (min)'], \n",
        "                                                                  max_value=row['plan_minutes (min)'], \n",
        "                                                                  cost_extra=row['usd_per_minute']), axis=1)"
      ]
    },
    {
      "cell_type": "code",
      "execution_count": null,
      "metadata": {
        "id": "WXxF5zG7Zwxs"
      },
      "outputs": [],
      "source": [
        "# Membuat kolom revenue\n",
        "df_clean['revenue'] = df_clean['plan_fee (usd)'] + df_clean['extra_internet'] + df_clean['extra_messages'] + df_clean['extra_minutes']"
      ]
    },
    {
      "cell_type": "code",
      "execution_count": null,
      "metadata": {
        "id": "Id7b2v1fZwxs",
        "outputId": "ffb97a31-7962-42d6-f6fb-58050e6e41c2"
      },
      "outputs": [
        {
          "data": {
            "text/html": [
              "<div>\n",
              "<style scoped>\n",
              "    .dataframe tbody tr th:only-of-type {\n",
              "        vertical-align: middle;\n",
              "    }\n",
              "\n",
              "    .dataframe tbody tr th {\n",
              "        vertical-align: top;\n",
              "    }\n",
              "\n",
              "    .dataframe thead th {\n",
              "        text-align: right;\n",
              "    }\n",
              "</style>\n",
              "<table border=\"1\" class=\"dataframe\">\n",
              "  <thead>\n",
              "    <tr style=\"text-align: right;\">\n",
              "      <th></th>\n",
              "      <th>user_id</th>\n",
              "      <th>month</th>\n",
              "      <th>plan_used</th>\n",
              "      <th>reg_month</th>\n",
              "      <th>churn_month</th>\n",
              "      <th>plan_messages</th>\n",
              "      <th>plan_kuota (gb)</th>\n",
              "      <th>plan_minutes (min)</th>\n",
              "      <th>plan_fee (usd)</th>\n",
              "      <th>usd_per_gb</th>\n",
              "      <th>usd_per_message</th>\n",
              "      <th>usd_per_minute</th>\n",
              "      <th>gb_used</th>\n",
              "      <th>duration (min)</th>\n",
              "      <th>sms</th>\n",
              "      <th>extra_internet</th>\n",
              "      <th>extra_messages</th>\n",
              "      <th>extra_minutes</th>\n",
              "      <th>revenue</th>\n",
              "    </tr>\n",
              "  </thead>\n",
              "  <tbody>\n",
              "    <tr>\n",
              "      <th>11</th>\n",
              "      <td>1000</td>\n",
              "      <td>2018-12</td>\n",
              "      <td>ultimate</td>\n",
              "      <td>2018-12</td>\n",
              "      <td>NaT</td>\n",
              "      <td>1000</td>\n",
              "      <td>30</td>\n",
              "      <td>3000</td>\n",
              "      <td>70</td>\n",
              "      <td>7</td>\n",
              "      <td>0.01</td>\n",
              "      <td>0.01</td>\n",
              "      <td>2.0</td>\n",
              "      <td>16.0</td>\n",
              "      <td>11.0</td>\n",
              "      <td>0.0</td>\n",
              "      <td>0.00</td>\n",
              "      <td>0</td>\n",
              "      <td>70.00</td>\n",
              "    </tr>\n",
              "    <tr>\n",
              "      <th>19</th>\n",
              "      <td>1001</td>\n",
              "      <td>2018-08</td>\n",
              "      <td>surf</td>\n",
              "      <td>2018-08</td>\n",
              "      <td>NaT</td>\n",
              "      <td>50</td>\n",
              "      <td>15</td>\n",
              "      <td>500</td>\n",
              "      <td>20</td>\n",
              "      <td>10</td>\n",
              "      <td>0.03</td>\n",
              "      <td>0.03</td>\n",
              "      <td>7.0</td>\n",
              "      <td>22.0</td>\n",
              "      <td>30.0</td>\n",
              "      <td>0.0</td>\n",
              "      <td>0.00</td>\n",
              "      <td>0</td>\n",
              "      <td>20.00</td>\n",
              "    </tr>\n",
              "    <tr>\n",
              "      <th>20</th>\n",
              "      <td>1001</td>\n",
              "      <td>2018-09</td>\n",
              "      <td>surf</td>\n",
              "      <td>2018-08</td>\n",
              "      <td>NaT</td>\n",
              "      <td>50</td>\n",
              "      <td>15</td>\n",
              "      <td>500</td>\n",
              "      <td>20</td>\n",
              "      <td>10</td>\n",
              "      <td>0.03</td>\n",
              "      <td>0.03</td>\n",
              "      <td>14.0</td>\n",
              "      <td>38.0</td>\n",
              "      <td>44.0</td>\n",
              "      <td>0.0</td>\n",
              "      <td>0.00</td>\n",
              "      <td>0</td>\n",
              "      <td>20.00</td>\n",
              "    </tr>\n",
              "    <tr>\n",
              "      <th>21</th>\n",
              "      <td>1001</td>\n",
              "      <td>2018-10</td>\n",
              "      <td>surf</td>\n",
              "      <td>2018-08</td>\n",
              "      <td>NaT</td>\n",
              "      <td>50</td>\n",
              "      <td>15</td>\n",
              "      <td>500</td>\n",
              "      <td>20</td>\n",
              "      <td>10</td>\n",
              "      <td>0.03</td>\n",
              "      <td>0.03</td>\n",
              "      <td>22.0</td>\n",
              "      <td>47.0</td>\n",
              "      <td>53.0</td>\n",
              "      <td>70.0</td>\n",
              "      <td>0.09</td>\n",
              "      <td>0</td>\n",
              "      <td>90.09</td>\n",
              "    </tr>\n",
              "    <tr>\n",
              "      <th>22</th>\n",
              "      <td>1001</td>\n",
              "      <td>2018-11</td>\n",
              "      <td>surf</td>\n",
              "      <td>2018-08</td>\n",
              "      <td>NaT</td>\n",
              "      <td>50</td>\n",
              "      <td>15</td>\n",
              "      <td>500</td>\n",
              "      <td>20</td>\n",
              "      <td>10</td>\n",
              "      <td>0.03</td>\n",
              "      <td>0.03</td>\n",
              "      <td>19.0</td>\n",
              "      <td>49.0</td>\n",
              "      <td>36.0</td>\n",
              "      <td>40.0</td>\n",
              "      <td>0.00</td>\n",
              "      <td>0</td>\n",
              "      <td>60.00</td>\n",
              "    </tr>\n",
              "    <tr>\n",
              "      <th>...</th>\n",
              "      <td>...</td>\n",
              "      <td>...</td>\n",
              "      <td>...</td>\n",
              "      <td>...</td>\n",
              "      <td>...</td>\n",
              "      <td>...</td>\n",
              "      <td>...</td>\n",
              "      <td>...</td>\n",
              "      <td>...</td>\n",
              "      <td>...</td>\n",
              "      <td>...</td>\n",
              "      <td>...</td>\n",
              "      <td>...</td>\n",
              "      <td>...</td>\n",
              "      <td>...</td>\n",
              "      <td>...</td>\n",
              "      <td>...</td>\n",
              "      <td>...</td>\n",
              "      <td>...</td>\n",
              "    </tr>\n",
              "    <tr>\n",
              "      <th>5995</th>\n",
              "      <td>1499</td>\n",
              "      <td>2018-08</td>\n",
              "      <td>surf</td>\n",
              "      <td>2018-05</td>\n",
              "      <td>NaT</td>\n",
              "      <td>50</td>\n",
              "      <td>15</td>\n",
              "      <td>500</td>\n",
              "      <td>20</td>\n",
              "      <td>10</td>\n",
              "      <td>0.03</td>\n",
              "      <td>0.03</td>\n",
              "      <td>0.0</td>\n",
              "      <td>0.0</td>\n",
              "      <td>0.0</td>\n",
              "      <td>0.0</td>\n",
              "      <td>0.00</td>\n",
              "      <td>0</td>\n",
              "      <td>20.00</td>\n",
              "    </tr>\n",
              "    <tr>\n",
              "      <th>5996</th>\n",
              "      <td>1499</td>\n",
              "      <td>2018-09</td>\n",
              "      <td>surf</td>\n",
              "      <td>2018-05</td>\n",
              "      <td>NaT</td>\n",
              "      <td>50</td>\n",
              "      <td>15</td>\n",
              "      <td>500</td>\n",
              "      <td>20</td>\n",
              "      <td>10</td>\n",
              "      <td>0.03</td>\n",
              "      <td>0.03</td>\n",
              "      <td>13.0</td>\n",
              "      <td>35.0</td>\n",
              "      <td>0.0</td>\n",
              "      <td>0.0</td>\n",
              "      <td>0.00</td>\n",
              "      <td>0</td>\n",
              "      <td>20.00</td>\n",
              "    </tr>\n",
              "    <tr>\n",
              "      <th>5997</th>\n",
              "      <td>1499</td>\n",
              "      <td>2018-10</td>\n",
              "      <td>surf</td>\n",
              "      <td>2018-05</td>\n",
              "      <td>NaT</td>\n",
              "      <td>50</td>\n",
              "      <td>15</td>\n",
              "      <td>500</td>\n",
              "      <td>20</td>\n",
              "      <td>10</td>\n",
              "      <td>0.03</td>\n",
              "      <td>0.03</td>\n",
              "      <td>20.0</td>\n",
              "      <td>41.0</td>\n",
              "      <td>0.0</td>\n",
              "      <td>50.0</td>\n",
              "      <td>0.00</td>\n",
              "      <td>0</td>\n",
              "      <td>70.00</td>\n",
              "    </tr>\n",
              "    <tr>\n",
              "      <th>5998</th>\n",
              "      <td>1499</td>\n",
              "      <td>2018-11</td>\n",
              "      <td>surf</td>\n",
              "      <td>2018-05</td>\n",
              "      <td>NaT</td>\n",
              "      <td>50</td>\n",
              "      <td>15</td>\n",
              "      <td>500</td>\n",
              "      <td>20</td>\n",
              "      <td>10</td>\n",
              "      <td>0.03</td>\n",
              "      <td>0.03</td>\n",
              "      <td>17.0</td>\n",
              "      <td>39.0</td>\n",
              "      <td>0.0</td>\n",
              "      <td>20.0</td>\n",
              "      <td>0.00</td>\n",
              "      <td>0</td>\n",
              "      <td>40.00</td>\n",
              "    </tr>\n",
              "    <tr>\n",
              "      <th>5999</th>\n",
              "      <td>1499</td>\n",
              "      <td>2018-12</td>\n",
              "      <td>surf</td>\n",
              "      <td>2018-05</td>\n",
              "      <td>NaT</td>\n",
              "      <td>50</td>\n",
              "      <td>15</td>\n",
              "      <td>500</td>\n",
              "      <td>20</td>\n",
              "      <td>10</td>\n",
              "      <td>0.03</td>\n",
              "      <td>0.03</td>\n",
              "      <td>22.0</td>\n",
              "      <td>56.0</td>\n",
              "      <td>0.0</td>\n",
              "      <td>70.0</td>\n",
              "      <td>0.00</td>\n",
              "      <td>0</td>\n",
              "      <td>90.00</td>\n",
              "    </tr>\n",
              "  </tbody>\n",
              "</table>\n",
              "<p>3529 rows × 19 columns</p>\n",
              "</div>"
            ],
            "text/plain": [
              "      user_id    month plan_used reg_month churn_month  plan_messages  \\\n",
              "11       1000  2018-12  ultimate   2018-12         NaT           1000   \n",
              "19       1001  2018-08      surf   2018-08         NaT             50   \n",
              "20       1001  2018-09      surf   2018-08         NaT             50   \n",
              "21       1001  2018-10      surf   2018-08         NaT             50   \n",
              "22       1001  2018-11      surf   2018-08         NaT             50   \n",
              "...       ...      ...       ...       ...         ...            ...   \n",
              "5995     1499  2018-08      surf   2018-05         NaT             50   \n",
              "5996     1499  2018-09      surf   2018-05         NaT             50   \n",
              "5997     1499  2018-10      surf   2018-05         NaT             50   \n",
              "5998     1499  2018-11      surf   2018-05         NaT             50   \n",
              "5999     1499  2018-12      surf   2018-05         NaT             50   \n",
              "\n",
              "      plan_kuota (gb)  plan_minutes (min)  plan_fee (usd)  usd_per_gb  \\\n",
              "11                 30                3000              70           7   \n",
              "19                 15                 500              20          10   \n",
              "20                 15                 500              20          10   \n",
              "21                 15                 500              20          10   \n",
              "22                 15                 500              20          10   \n",
              "...               ...                 ...             ...         ...   \n",
              "5995               15                 500              20          10   \n",
              "5996               15                 500              20          10   \n",
              "5997               15                 500              20          10   \n",
              "5998               15                 500              20          10   \n",
              "5999               15                 500              20          10   \n",
              "\n",
              "      usd_per_message  usd_per_minute  gb_used  duration (min)   sms  \\\n",
              "11               0.01            0.01      2.0            16.0  11.0   \n",
              "19               0.03            0.03      7.0            22.0  30.0   \n",
              "20               0.03            0.03     14.0            38.0  44.0   \n",
              "21               0.03            0.03     22.0            47.0  53.0   \n",
              "22               0.03            0.03     19.0            49.0  36.0   \n",
              "...               ...             ...      ...             ...   ...   \n",
              "5995             0.03            0.03      0.0             0.0   0.0   \n",
              "5996             0.03            0.03     13.0            35.0   0.0   \n",
              "5997             0.03            0.03     20.0            41.0   0.0   \n",
              "5998             0.03            0.03     17.0            39.0   0.0   \n",
              "5999             0.03            0.03     22.0            56.0   0.0   \n",
              "\n",
              "      extra_internet  extra_messages  extra_minutes  revenue  \n",
              "11               0.0            0.00              0    70.00  \n",
              "19               0.0            0.00              0    20.00  \n",
              "20               0.0            0.00              0    20.00  \n",
              "21              70.0            0.09              0    90.09  \n",
              "22              40.0            0.00              0    60.00  \n",
              "...              ...             ...            ...      ...  \n",
              "5995             0.0            0.00              0    20.00  \n",
              "5996             0.0            0.00              0    20.00  \n",
              "5997            50.0            0.00              0    70.00  \n",
              "5998            20.0            0.00              0    40.00  \n",
              "5999            70.0            0.00              0    90.00  \n",
              "\n",
              "[3529 rows x 19 columns]"
            ]
          },
          "execution_count": 80,
          "metadata": {},
          "output_type": "execute_result"
        }
      ],
      "source": [
        "# Membuat dataframe revenue\n",
        "df_revenue = df_clean.drop(columns = ['age', 'city_code', 'is_ny_nj', 'plan_name'])\n",
        "df_revenue"
      ]
    },
    {
      "cell_type": "code",
      "execution_count": null,
      "metadata": {
        "id": "SIz8Q0CsZwxs",
        "outputId": "af6cec05-dc29-468f-fc6b-f89c930a28d6"
      },
      "outputs": [
        {
          "data": {
            "text/html": [
              "<div>\n",
              "<style scoped>\n",
              "    .dataframe tbody tr th:only-of-type {\n",
              "        vertical-align: middle;\n",
              "    }\n",
              "\n",
              "    .dataframe tbody tr th {\n",
              "        vertical-align: top;\n",
              "    }\n",
              "\n",
              "    .dataframe thead th {\n",
              "        text-align: right;\n",
              "    }\n",
              "</style>\n",
              "<table border=\"1\" class=\"dataframe\">\n",
              "  <thead>\n",
              "    <tr style=\"text-align: right;\">\n",
              "      <th></th>\n",
              "      <th>plan_used</th>\n",
              "      <th>is_ny_nj</th>\n",
              "      <th>len</th>\n",
              "      <th>sum</th>\n",
              "      <th>revenue</th>\n",
              "    </tr>\n",
              "  </thead>\n",
              "  <tbody>\n",
              "    <tr>\n",
              "      <th>0</th>\n",
              "      <td>surf</td>\n",
              "      <td>NY-NJ</td>\n",
              "      <td>466.0</td>\n",
              "      <td>20289.46</td>\n",
              "      <td>43.539614</td>\n",
              "    </tr>\n",
              "    <tr>\n",
              "      <th>1</th>\n",
              "      <td>surf</td>\n",
              "      <td>others</td>\n",
              "      <td>1932.0</td>\n",
              "      <td>88801.47</td>\n",
              "      <td>45.963494</td>\n",
              "    </tr>\n",
              "    <tr>\n",
              "      <th>2</th>\n",
              "      <td>ultimate</td>\n",
              "      <td>NY-NJ</td>\n",
              "      <td>121.0</td>\n",
              "      <td>8792.00</td>\n",
              "      <td>72.661157</td>\n",
              "    </tr>\n",
              "    <tr>\n",
              "      <th>3</th>\n",
              "      <td>ultimate</td>\n",
              "      <td>others</td>\n",
              "      <td>1010.0</td>\n",
              "      <td>72044.00</td>\n",
              "      <td>71.330693</td>\n",
              "    </tr>\n",
              "  </tbody>\n",
              "</table>\n",
              "</div>"
            ],
            "text/plain": [
              "  plan_used is_ny_nj     len       sum    revenue\n",
              "0      surf    NY-NJ   466.0  20289.46  43.539614\n",
              "1      surf   others  1932.0  88801.47  45.963494\n",
              "2  ultimate    NY-NJ   121.0   8792.00  72.661157\n",
              "3  ultimate   others  1010.0  72044.00  71.330693"
            ]
          },
          "execution_count": 81,
          "metadata": {},
          "output_type": "execute_result"
        }
      ],
      "source": [
        "# Melakukan pengecekan revenue berdasarkan daerah dan plan\n",
        "revenue_check = df_clean.pivot_table(index = ['plan_used', 'is_ny_nj'],\n",
        "                                  values = 'revenue',\n",
        "                                  aggfunc = (sum, len)).reset_index()\n",
        "revenue_check['revenue'] = revenue_check['sum']/revenue_check['len']\n",
        "revenue_check"
      ]
    },
    {
      "cell_type": "markdown",
      "metadata": {
        "id": "_SGwsnliZwxs"
      },
      "source": [
        "## Analisa Data<a id='data_analysis'></a>"
      ]
    },
    {
      "cell_type": "markdown",
      "metadata": {
        "id": "VI1Z0e7ZZwxs"
      },
      "source": [
        "### Analisa karakteristik pengguna plan 'Surf'<a id='surf_plan_analysis'></a>"
      ]
    },
    {
      "cell_type": "code",
      "execution_count": null,
      "metadata": {
        "id": "Fn4L3rAnZwxt"
      },
      "outputs": [],
      "source": [
        "#filter pengguna yang menggunakan plan surf\n",
        "df_surf = df_clean[df_clean['plan_used'] == 'surf']"
      ]
    },
    {
      "cell_type": "code",
      "execution_count": null,
      "metadata": {
        "id": "XyejVNGgZwxt"
      },
      "outputs": [],
      "source": [
        "# Membuat pivot table untuk melihat karakteristik pengguna plan surf per bulan\n",
        "gb_wo_zero = df_surf[df_surf['gb_used'] != 0]\n",
        "sms_wo_zero = df_surf[df_surf['sms'] != 0]\n",
        "calls_wo_zero = df_surf[df_surf['duration (min)'] != 0]"
      ]
    },
    {
      "cell_type": "code",
      "execution_count": null,
      "metadata": {
        "id": "siNkYHCzZwxt"
      },
      "outputs": [],
      "source": [
        "# melihat nilai mean, varian dan standard deviasi penggunaan internet\n",
        "gb_grouped = gb_wo_zero.pivot_table(index = 'month', \n",
        "                                    values = ['gb_used'], \n",
        "                                    aggfunc = (len, sum, np.mean, np.median, np.var, np.std)).reset_index()"
      ]
    },
    {
      "cell_type": "code",
      "execution_count": null,
      "metadata": {
        "id": "o80wY6uqZwxt"
      },
      "outputs": [],
      "source": [
        "# melihat nilai mean, varian dan standard deviasi penggunaan sms\n",
        "sms_grouped = sms_wo_zero.pivot_table(index = 'month', \n",
        "                                    values = ['sms'], \n",
        "                                    aggfunc = (len, sum, np.mean, np.median, np.var, np.std)).reset_index()"
      ]
    },
    {
      "cell_type": "code",
      "execution_count": null,
      "metadata": {
        "id": "kj9bPNBfZwxt"
      },
      "outputs": [],
      "source": [
        "# melihat nilai mean, varian dan standard deviasi durasi telefon\n",
        "calls_grouped = calls_wo_zero.pivot_table(index = 'month', \n",
        "                                    values = ['duration (min)'], \n",
        "                                    aggfunc = (len, sum, np.mean, np.median, np.var, np.std)).reset_index()"
      ]
    },
    {
      "cell_type": "code",
      "execution_count": null,
      "metadata": {
        "id": "G4s7W8J-Zwxt",
        "outputId": "d6cc68a8-a746-4c9a-f081-4db85e072c30"
      },
      "outputs": [
        {
          "data": {
            "text/html": [
              "<div>\n",
              "<style scoped>\n",
              "    .dataframe tbody tr th:only-of-type {\n",
              "        vertical-align: middle;\n",
              "    }\n",
              "\n",
              "    .dataframe tbody tr th {\n",
              "        vertical-align: top;\n",
              "    }\n",
              "\n",
              "    .dataframe thead tr th {\n",
              "        text-align: left;\n",
              "    }\n",
              "</style>\n",
              "<table border=\"1\" class=\"dataframe\">\n",
              "  <thead>\n",
              "    <tr>\n",
              "      <th></th>\n",
              "      <th>month</th>\n",
              "      <th colspan=\"6\" halign=\"left\">gb_used</th>\n",
              "      <th colspan=\"6\" halign=\"left\">sms</th>\n",
              "      <th colspan=\"6\" halign=\"left\">duration (min)</th>\n",
              "    </tr>\n",
              "    <tr>\n",
              "      <th></th>\n",
              "      <th></th>\n",
              "      <th>len</th>\n",
              "      <th>mean</th>\n",
              "      <th>median</th>\n",
              "      <th>std</th>\n",
              "      <th>sum</th>\n",
              "      <th>var</th>\n",
              "      <th>len</th>\n",
              "      <th>mean</th>\n",
              "      <th>median</th>\n",
              "      <th>std</th>\n",
              "      <th>sum</th>\n",
              "      <th>var</th>\n",
              "      <th>len</th>\n",
              "      <th>mean</th>\n",
              "      <th>median</th>\n",
              "      <th>std</th>\n",
              "      <th>sum</th>\n",
              "      <th>var</th>\n",
              "    </tr>\n",
              "  </thead>\n",
              "  <tbody>\n",
              "    <tr>\n",
              "      <th>0</th>\n",
              "      <td>2018-01</td>\n",
              "      <td>2.0</td>\n",
              "      <td>5.000000</td>\n",
              "      <td>5.0</td>\n",
              "      <td>4.242641</td>\n",
              "      <td>10.0</td>\n",
              "      <td>18.000000</td>\n",
              "      <td>1.0</td>\n",
              "      <td>21.000000</td>\n",
              "      <td>21.0</td>\n",
              "      <td>NaN</td>\n",
              "      <td>21.0</td>\n",
              "      <td>NaN</td>\n",
              "      <td>2.0</td>\n",
              "      <td>24.000000</td>\n",
              "      <td>24.0</td>\n",
              "      <td>14.142136</td>\n",
              "      <td>48.0</td>\n",
              "      <td>200.000000</td>\n",
              "    </tr>\n",
              "    <tr>\n",
              "      <th>1</th>\n",
              "      <td>2018-02</td>\n",
              "      <td>9.0</td>\n",
              "      <td>12.222222</td>\n",
              "      <td>12.0</td>\n",
              "      <td>6.437736</td>\n",
              "      <td>110.0</td>\n",
              "      <td>41.444444</td>\n",
              "      <td>5.0</td>\n",
              "      <td>21.600000</td>\n",
              "      <td>11.0</td>\n",
              "      <td>22.645088</td>\n",
              "      <td>108.0</td>\n",
              "      <td>512.800000</td>\n",
              "      <td>9.0</td>\n",
              "      <td>33.111111</td>\n",
              "      <td>30.0</td>\n",
              "      <td>24.471639</td>\n",
              "      <td>298.0</td>\n",
              "      <td>598.861111</td>\n",
              "    </tr>\n",
              "    <tr>\n",
              "      <th>2</th>\n",
              "      <td>2018-03</td>\n",
              "      <td>23.0</td>\n",
              "      <td>13.565217</td>\n",
              "      <td>14.0</td>\n",
              "      <td>7.999012</td>\n",
              "      <td>312.0</td>\n",
              "      <td>63.984190</td>\n",
              "      <td>16.0</td>\n",
              "      <td>21.937500</td>\n",
              "      <td>18.5</td>\n",
              "      <td>18.763329</td>\n",
              "      <td>351.0</td>\n",
              "      <td>352.062500</td>\n",
              "      <td>23.0</td>\n",
              "      <td>37.869565</td>\n",
              "      <td>37.0</td>\n",
              "      <td>22.549550</td>\n",
              "      <td>871.0</td>\n",
              "      <td>508.482213</td>\n",
              "    </tr>\n",
              "    <tr>\n",
              "      <th>3</th>\n",
              "      <td>2018-04</td>\n",
              "      <td>49.0</td>\n",
              "      <td>12.469388</td>\n",
              "      <td>12.0</td>\n",
              "      <td>7.362920</td>\n",
              "      <td>611.0</td>\n",
              "      <td>54.212585</td>\n",
              "      <td>36.0</td>\n",
              "      <td>24.166667</td>\n",
              "      <td>18.5</td>\n",
              "      <td>23.109058</td>\n",
              "      <td>870.0</td>\n",
              "      <td>534.028571</td>\n",
              "      <td>50.0</td>\n",
              "      <td>39.700000</td>\n",
              "      <td>37.5</td>\n",
              "      <td>24.881966</td>\n",
              "      <td>1985.0</td>\n",
              "      <td>619.112245</td>\n",
              "    </tr>\n",
              "    <tr>\n",
              "      <th>4</th>\n",
              "      <td>2018-05</td>\n",
              "      <td>76.0</td>\n",
              "      <td>14.302632</td>\n",
              "      <td>14.0</td>\n",
              "      <td>7.501146</td>\n",
              "      <td>1087.0</td>\n",
              "      <td>56.267193</td>\n",
              "      <td>56.0</td>\n",
              "      <td>33.017857</td>\n",
              "      <td>26.0</td>\n",
              "      <td>29.460909</td>\n",
              "      <td>1849.0</td>\n",
              "      <td>867.945130</td>\n",
              "      <td>75.0</td>\n",
              "      <td>45.920000</td>\n",
              "      <td>48.0</td>\n",
              "      <td>26.704975</td>\n",
              "      <td>3444.0</td>\n",
              "      <td>713.155676</td>\n",
              "    </tr>\n",
              "    <tr>\n",
              "      <th>5</th>\n",
              "      <td>2018-06</td>\n",
              "      <td>95.0</td>\n",
              "      <td>15.810526</td>\n",
              "      <td>16.0</td>\n",
              "      <td>6.599959</td>\n",
              "      <td>1502.0</td>\n",
              "      <td>43.559462</td>\n",
              "      <td>73.0</td>\n",
              "      <td>33.616438</td>\n",
              "      <td>27.0</td>\n",
              "      <td>30.600758</td>\n",
              "      <td>2454.0</td>\n",
              "      <td>936.406393</td>\n",
              "      <td>96.0</td>\n",
              "      <td>48.697917</td>\n",
              "      <td>48.0</td>\n",
              "      <td>23.102116</td>\n",
              "      <td>4675.0</td>\n",
              "      <td>533.707785</td>\n",
              "    </tr>\n",
              "    <tr>\n",
              "      <th>6</th>\n",
              "      <td>2018-07</td>\n",
              "      <td>120.0</td>\n",
              "      <td>17.016667</td>\n",
              "      <td>17.0</td>\n",
              "      <td>7.718779</td>\n",
              "      <td>2042.0</td>\n",
              "      <td>59.579552</td>\n",
              "      <td>91.0</td>\n",
              "      <td>35.945055</td>\n",
              "      <td>30.0</td>\n",
              "      <td>30.132803</td>\n",
              "      <td>3271.0</td>\n",
              "      <td>907.985836</td>\n",
              "      <td>120.0</td>\n",
              "      <td>51.458333</td>\n",
              "      <td>52.0</td>\n",
              "      <td>26.721689</td>\n",
              "      <td>6175.0</td>\n",
              "      <td>714.048669</td>\n",
              "    </tr>\n",
              "    <tr>\n",
              "      <th>7</th>\n",
              "      <td>2018-08</td>\n",
              "      <td>159.0</td>\n",
              "      <td>17.201258</td>\n",
              "      <td>17.0</td>\n",
              "      <td>8.201405</td>\n",
              "      <td>2735.0</td>\n",
              "      <td>67.263036</td>\n",
              "      <td>124.0</td>\n",
              "      <td>37.596774</td>\n",
              "      <td>31.0</td>\n",
              "      <td>31.832621</td>\n",
              "      <td>4662.0</td>\n",
              "      <td>1013.315762</td>\n",
              "      <td>159.0</td>\n",
              "      <td>47.044025</td>\n",
              "      <td>46.0</td>\n",
              "      <td>25.143977</td>\n",
              "      <td>7480.0</td>\n",
              "      <td>632.219569</td>\n",
              "    </tr>\n",
              "    <tr>\n",
              "      <th>8</th>\n",
              "      <td>2018-09</td>\n",
              "      <td>193.0</td>\n",
              "      <td>16.777202</td>\n",
              "      <td>17.0</td>\n",
              "      <td>6.930992</td>\n",
              "      <td>3238.0</td>\n",
              "      <td>48.038644</td>\n",
              "      <td>151.0</td>\n",
              "      <td>39.523179</td>\n",
              "      <td>31.0</td>\n",
              "      <td>30.709137</td>\n",
              "      <td>5968.0</td>\n",
              "      <td>943.051126</td>\n",
              "      <td>191.0</td>\n",
              "      <td>47.486911</td>\n",
              "      <td>47.0</td>\n",
              "      <td>23.883678</td>\n",
              "      <td>9070.0</td>\n",
              "      <td>570.430091</td>\n",
              "    </tr>\n",
              "    <tr>\n",
              "      <th>9</th>\n",
              "      <td>2018-10</td>\n",
              "      <td>234.0</td>\n",
              "      <td>17.632479</td>\n",
              "      <td>18.0</td>\n",
              "      <td>7.586523</td>\n",
              "      <td>4126.0</td>\n",
              "      <td>57.555335</td>\n",
              "      <td>189.0</td>\n",
              "      <td>42.433862</td>\n",
              "      <td>35.0</td>\n",
              "      <td>35.135333</td>\n",
              "      <td>8020.0</td>\n",
              "      <td>1234.491613</td>\n",
              "      <td>231.0</td>\n",
              "      <td>49.839827</td>\n",
              "      <td>50.0</td>\n",
              "      <td>24.564474</td>\n",
              "      <td>11513.0</td>\n",
              "      <td>603.413363</td>\n",
              "    </tr>\n",
              "    <tr>\n",
              "      <th>10</th>\n",
              "      <td>2018-11</td>\n",
              "      <td>281.0</td>\n",
              "      <td>16.548043</td>\n",
              "      <td>17.0</td>\n",
              "      <td>7.283936</td>\n",
              "      <td>4650.0</td>\n",
              "      <td>53.055719</td>\n",
              "      <td>226.0</td>\n",
              "      <td>40.553097</td>\n",
              "      <td>33.0</td>\n",
              "      <td>31.662657</td>\n",
              "      <td>9165.0</td>\n",
              "      <td>1002.523835</td>\n",
              "      <td>277.0</td>\n",
              "      <td>48.826715</td>\n",
              "      <td>48.0</td>\n",
              "      <td>24.491620</td>\n",
              "      <td>13525.0</td>\n",
              "      <td>599.839429</td>\n",
              "    </tr>\n",
              "    <tr>\n",
              "      <th>11</th>\n",
              "      <td>2018-12</td>\n",
              "      <td>317.0</td>\n",
              "      <td>18.296530</td>\n",
              "      <td>18.0</td>\n",
              "      <td>8.268846</td>\n",
              "      <td>5800.0</td>\n",
              "      <td>68.373817</td>\n",
              "      <td>254.0</td>\n",
              "      <td>48.326772</td>\n",
              "      <td>38.0</td>\n",
              "      <td>36.812090</td>\n",
              "      <td>12275.0</td>\n",
              "      <td>1355.129952</td>\n",
              "      <td>311.0</td>\n",
              "      <td>53.996785</td>\n",
              "      <td>51.0</td>\n",
              "      <td>26.598872</td>\n",
              "      <td>16793.0</td>\n",
              "      <td>707.499990</td>\n",
              "    </tr>\n",
              "  </tbody>\n",
              "</table>\n",
              "</div>"
            ],
            "text/plain": [
              "      month gb_used                                                   sms  \\\n",
              "                len       mean median       std     sum        var    len   \n",
              "0   2018-01     2.0   5.000000    5.0  4.242641    10.0  18.000000    1.0   \n",
              "1   2018-02     9.0  12.222222   12.0  6.437736   110.0  41.444444    5.0   \n",
              "2   2018-03    23.0  13.565217   14.0  7.999012   312.0  63.984190   16.0   \n",
              "3   2018-04    49.0  12.469388   12.0  7.362920   611.0  54.212585   36.0   \n",
              "4   2018-05    76.0  14.302632   14.0  7.501146  1087.0  56.267193   56.0   \n",
              "5   2018-06    95.0  15.810526   16.0  6.599959  1502.0  43.559462   73.0   \n",
              "6   2018-07   120.0  17.016667   17.0  7.718779  2042.0  59.579552   91.0   \n",
              "7   2018-08   159.0  17.201258   17.0  8.201405  2735.0  67.263036  124.0   \n",
              "8   2018-09   193.0  16.777202   17.0  6.930992  3238.0  48.038644  151.0   \n",
              "9   2018-10   234.0  17.632479   18.0  7.586523  4126.0  57.555335  189.0   \n",
              "10  2018-11   281.0  16.548043   17.0  7.283936  4650.0  53.055719  226.0   \n",
              "11  2018-12   317.0  18.296530   18.0  8.268846  5800.0  68.373817  254.0   \n",
              "\n",
              "                                                      duration (min)  \\\n",
              "         mean median        std      sum          var            len   \n",
              "0   21.000000   21.0        NaN     21.0          NaN            2.0   \n",
              "1   21.600000   11.0  22.645088    108.0   512.800000            9.0   \n",
              "2   21.937500   18.5  18.763329    351.0   352.062500           23.0   \n",
              "3   24.166667   18.5  23.109058    870.0   534.028571           50.0   \n",
              "4   33.017857   26.0  29.460909   1849.0   867.945130           75.0   \n",
              "5   33.616438   27.0  30.600758   2454.0   936.406393           96.0   \n",
              "6   35.945055   30.0  30.132803   3271.0   907.985836          120.0   \n",
              "7   37.596774   31.0  31.832621   4662.0  1013.315762          159.0   \n",
              "8   39.523179   31.0  30.709137   5968.0   943.051126          191.0   \n",
              "9   42.433862   35.0  35.135333   8020.0  1234.491613          231.0   \n",
              "10  40.553097   33.0  31.662657   9165.0  1002.523835          277.0   \n",
              "11  48.326772   38.0  36.812090  12275.0  1355.129952          311.0   \n",
              "\n",
              "                                                      \n",
              "         mean median        std      sum         var  \n",
              "0   24.000000   24.0  14.142136     48.0  200.000000  \n",
              "1   33.111111   30.0  24.471639    298.0  598.861111  \n",
              "2   37.869565   37.0  22.549550    871.0  508.482213  \n",
              "3   39.700000   37.5  24.881966   1985.0  619.112245  \n",
              "4   45.920000   48.0  26.704975   3444.0  713.155676  \n",
              "5   48.697917   48.0  23.102116   4675.0  533.707785  \n",
              "6   51.458333   52.0  26.721689   6175.0  714.048669  \n",
              "7   47.044025   46.0  25.143977   7480.0  632.219569  \n",
              "8   47.486911   47.0  23.883678   9070.0  570.430091  \n",
              "9   49.839827   50.0  24.564474  11513.0  603.413363  \n",
              "10  48.826715   48.0  24.491620  13525.0  599.839429  \n",
              "11  53.996785   51.0  26.598872  16793.0  707.499990  "
            ]
          },
          "execution_count": 87,
          "metadata": {},
          "output_type": "execute_result"
        }
      ],
      "source": [
        "# Menggabungkan tabel\n",
        "grouped_merge = gb_grouped.merge(sms_grouped, how = 'left')\n",
        "grouped_merge = grouped_merge.merge(calls_grouped, how = 'left')\n",
        "grouped_merge"
      ]
    },
    {
      "cell_type": "code",
      "execution_count": null,
      "metadata": {
        "id": "4s9ySmQeZwxt"
      },
      "outputs": [],
      "source": [
        "# Fungsi melihat distribusi tabel per bulan\n",
        "def groupby_month(column, plan, month, feature):\n",
        "    temp_m = df_clean[(df_clean[column] == plan) & (df_clean['month'] == month)]\n",
        "    temp_m = temp_m.loc[(temp_m[feature] != 0), feature]\n",
        "    return temp_m"
      ]
    },
    {
      "cell_type": "code",
      "execution_count": null,
      "metadata": {
        "id": "MpJcPwSKZwxt",
        "outputId": "a5f0f39e-1fce-43b9-ae7c-b22b8d8fc63f"
      },
      "outputs": [
        {
          "data": {
            "image/png": "[encoded data removed]",
            "text/plain": [
              "<Figure size 1152x1440 with 12 Axes>"
            ]
          },
          "metadata": {
            "needs_background": "light"
          },
          "output_type": "display_data"
        }
      ],
      "source": [
        "# Distribusi penggunaan internet per bulan\n",
        "plt.figure(figsize=(16, 20))\n",
        "\n",
        "plt.subplot(4, 3, 1)\n",
        "surf_1 = groupby_month('plan_used', 'surf', '2018-01', 'gb_used')\n",
        "plt.title('January data usage')\n",
        "sns.histplot(data = surf_1)\n",
        "\n",
        "plt.subplot(4, 3, 2)\n",
        "surf_2 = groupby_month('plan_used', 'surf', '2018-02', 'gb_used')\n",
        "plt.title('February data usage')\n",
        "sns.histplot(data = surf_2)\n",
        "\n",
        "plt.subplot(4, 3, 3)\n",
        "surf_3 = groupby_month('plan_used', 'surf', '2018-03', 'gb_used')\n",
        "plt.title('March data usage')\n",
        "sns.histplot(data = surf_3)\n",
        "\n",
        "plt.subplot(4, 3, 4)\n",
        "surf_4 = groupby_month('plan_used', 'surf', '2018-04', 'gb_used')\n",
        "plt.title('April data usage')\n",
        "sns.histplot(data = surf_4)\n",
        "\n",
        "plt.subplot(4, 3, 5)\n",
        "surf_5 = groupby_month('plan_used', 'surf', '2018-05', 'gb_used')\n",
        "plt.title('May data usage')\n",
        "sns.histplot(data = surf_5)\n",
        "\n",
        "plt.subplot(4, 3, 6)\n",
        "surf_6 = groupby_month('plan_used', 'surf', '2018-06', 'gb_used')\n",
        "plt.title('June data usage')\n",
        "sns.histplot(data = surf_6)\n",
        "\n",
        "plt.subplot(4, 3, 7)\n",
        "surf_7 = groupby_month('plan_used', 'surf', '2018-07', 'gb_used')\n",
        "plt.title('July data usage')\n",
        "sns.histplot(data = surf_7)\n",
        "\n",
        "plt.subplot(4, 3, 8)\n",
        "surf_8 = groupby_month('plan_used', 'surf', '2018-08', 'gb_used')\n",
        "plt.title('August data usage')\n",
        "sns.histplot(data = surf_8)\n",
        "\n",
        "plt.subplot(4, 3, 9)\n",
        "surf_9 = groupby_month('plan_used', 'surf', '2018-09', 'gb_used')\n",
        "plt.title('September data usage')\n",
        "sns.histplot(data = surf_9)\n",
        "\n",
        "plt.subplot(4, 3, 10)\n",
        "surf_10 = groupby_month('plan_used', 'surf', '2018-10', 'gb_used')\n",
        "plt.title('October data usage')\n",
        "sns.histplot(data = surf_10)\n",
        "\n",
        "plt.subplot(4, 3, 11)\n",
        "surf_11 = groupby_month('plan_used', 'surf', '2018-11', 'gb_used')\n",
        "plt.title('November data usage')\n",
        "sns.histplot(data = surf_11)\n",
        "\n",
        "plt.subplot(4, 3, 12)\n",
        "surf_12 = groupby_month('plan_used', 'surf', '2018-12', 'gb_used')\n",
        "plt.title('December data usage')\n",
        "sns.histplot(data = surf_12)\n",
        "\n",
        "plt.show()"
      ]
    },
    {
      "cell_type": "code",
      "execution_count": null,
      "metadata": {
        "id": "Lh6bir-NZwxu",
        "outputId": "e37fd1a6-dac9-407e-a6c6-d588575761c3"
      },
      "outputs": [
        {
          "data": {
            "image/png": "[encoded data removed]",
            "text/plain": [
              "<Figure size 1152x1440 with 12 Axes>"
            ]
          },
          "metadata": {
            "needs_background": "light"
          },
          "output_type": "display_data"
        }
      ],
      "source": [
        "# Distribusi pengiriman sms per bulan\n",
        "plt.figure(figsize=(16, 20))\n",
        "\n",
        "plt.subplot(4, 3, 1)\n",
        "surf_1 = groupby_month('plan_used', 'surf', '2018-01', 'sms')\n",
        "plt.title('January data usage')\n",
        "sns.histplot(data = surf_1)\n",
        "\n",
        "plt.subplot(4, 3, 2)\n",
        "surf_2 = groupby_month('plan_used', 'surf', '2018-02', 'sms')\n",
        "plt.title('February data usage')\n",
        "sns.histplot(data = surf_2)\n",
        "\n",
        "plt.subplot(4, 3, 3)\n",
        "surf_3 = groupby_month('plan_used', 'surf', '2018-03', 'sms')\n",
        "plt.title('March data usage')\n",
        "sns.histplot(data = surf_3)\n",
        "\n",
        "plt.subplot(4, 3, 4)\n",
        "surf_4 = groupby_month('plan_used', 'surf', '2018-04', 'sms')\n",
        "plt.title('April data usage')\n",
        "sns.histplot(data = surf_4)\n",
        "\n",
        "plt.subplot(4, 3, 5)\n",
        "surf_5 = groupby_month('plan_used', 'surf', '2018-05', 'sms')\n",
        "plt.title('May data usage')\n",
        "sns.histplot(data = surf_5)\n",
        "\n",
        "plt.subplot(4, 3, 6)\n",
        "surf_6 = groupby_month('plan_used', 'surf', '2018-06', 'sms')\n",
        "plt.title('June data usage')\n",
        "sns.histplot(data = surf_6)\n",
        "\n",
        "plt.subplot(4, 3, 7)\n",
        "surf_7 = groupby_month('plan_used', 'surf', '2018-07', 'sms')\n",
        "plt.title('July data usage')\n",
        "sns.histplot(data = surf_7)\n",
        "\n",
        "plt.subplot(4, 3, 8)\n",
        "surf_8 = groupby_month('plan_used', 'surf', '2018-08', 'sms')\n",
        "plt.title('August data usage')\n",
        "sns.histplot(data = surf_8)\n",
        "\n",
        "plt.subplot(4, 3, 9)\n",
        "surf_9 = groupby_month('plan_used', 'surf', '2018-09', 'sms')\n",
        "plt.title('September data usage')\n",
        "sns.histplot(data = surf_9)\n",
        "\n",
        "plt.subplot(4, 3, 10)\n",
        "surf_10 = groupby_month('plan_used', 'surf', '2018-10', 'sms')\n",
        "plt.title('October data usage')\n",
        "sns.histplot(data = surf_10)\n",
        "\n",
        "plt.subplot(4, 3, 11)\n",
        "surf_11 = groupby_month('plan_used', 'surf', '2018-11', 'sms')\n",
        "plt.title('November data usage')\n",
        "sns.histplot(data = surf_11)\n",
        "\n",
        "plt.subplot(4, 3, 12)\n",
        "surf_12 = groupby_month('plan_used', 'surf', '2018-12', 'sms')\n",
        "plt.title('December data usage')\n",
        "sns.histplot(data = surf_12)\n",
        "\n",
        "plt.show()"
      ]
    },
    {
      "cell_type": "code",
      "execution_count": null,
      "metadata": {
        "id": "aljLmXEsZwxu",
        "outputId": "bf9d1dac-1efe-416f-b31a-2e05390a794a"
      },
      "outputs": [
        {
          "data": {
            "image/png": "[encoded data removed]",
            "text/plain": [
              "<Figure size 1152x1440 with 12 Axes>"
            ]
          },
          "metadata": {
            "needs_background": "light"
          },
          "output_type": "display_data"
        }
      ],
      "source": [
        "# Distribusi durasi telefon per bulan\n",
        "plt.figure(figsize=(16, 20))\n",
        "\n",
        "plt.subplot(4, 3, 1)\n",
        "surf_1 = groupby_month('plan_used', 'surf', '2018-01', 'duration (min)')\n",
        "plt.title('January data usage')\n",
        "sns.histplot(data = surf_1)\n",
        "\n",
        "plt.subplot(4, 3, 2)\n",
        "surf_2 = groupby_month('plan_used', 'surf', '2018-02', 'duration (min)')\n",
        "plt.title('February data usage')\n",
        "sns.histplot(data = surf_2)\n",
        "\n",
        "plt.subplot(4, 3, 3)\n",
        "surf_3 = groupby_month('plan_used', 'surf', '2018-03', 'duration (min)')\n",
        "plt.title('March data usage')\n",
        "sns.histplot(data = surf_3)\n",
        "\n",
        "plt.subplot(4, 3, 4)\n",
        "surf_4 = groupby_month('plan_used', 'surf', '2018-04', 'duration (min)')\n",
        "plt.title('April data usage')\n",
        "sns.histplot(data = surf_4)\n",
        "\n",
        "plt.subplot(4, 3, 5)\n",
        "surf_5 = groupby_month('plan_used', 'surf', '2018-05', 'duration (min)')\n",
        "plt.title('May data usage')\n",
        "sns.histplot(data = surf_5)\n",
        "\n",
        "plt.subplot(4, 3, 6)\n",
        "surf_6 = groupby_month('plan_used', 'surf', '2018-06', 'duration (min)')\n",
        "plt.title('June data usage')\n",
        "sns.histplot(data = surf_6)\n",
        "\n",
        "plt.subplot(4, 3, 7)\n",
        "surf_7 = groupby_month('plan_used', 'surf', '2018-07', 'duration (min)')\n",
        "plt.title('July data usage')\n",
        "sns.histplot(data = surf_7)\n",
        "\n",
        "plt.subplot(4, 3, 8)\n",
        "surf_8 = groupby_month('plan_used', 'surf', '2018-08', 'duration (min)')\n",
        "plt.title('August data usage')\n",
        "sns.histplot(data = surf_8)\n",
        "\n",
        "plt.subplot(4, 3, 9)\n",
        "surf_9 = groupby_month('plan_used', 'surf', '2018-09', 'duration (min)')\n",
        "plt.title('September data usage')\n",
        "sns.histplot(data = surf_9)\n",
        "\n",
        "plt.subplot(4, 3, 10)\n",
        "surf_10 = groupby_month('plan_used', 'surf', '2018-10', 'duration (min)')\n",
        "plt.title('October data usage')\n",
        "sns.histplot(data = surf_10)\n",
        "\n",
        "plt.subplot(4, 3, 11)\n",
        "surf_11 = groupby_month('plan_used', 'surf', '2018-11', 'duration (min)')\n",
        "plt.title('November data usage')\n",
        "sns.histplot(data = surf_11)\n",
        "\n",
        "plt.subplot(4, 3, 12)\n",
        "surf_12 = groupby_month('plan_used', 'surf', '2018-12', 'duration (min)')\n",
        "plt.title('December data usage')\n",
        "sns.histplot(data = surf_12)\n",
        "\n",
        "plt.show()"
      ]
    },
    {
      "cell_type": "markdown",
      "metadata": {
        "id": "Xrwv4M6jZwxu"
      },
      "source": [
        "**Insight**\n",
        "1. Pada bulan januari - mei pengguna yang memilih plan 'surf' rata-rata tidak terkena biaya tambahan untuk penggunaan internet, biaya tambahan baru menjadi tren sejak bulan\n",
        "juni desember (rata-rata terkena biaya tambahan 10-40$)\n",
        "\n",
        "2. Penggunaan internet cenderung meningkat dari januari - juli dan baru stabil dikisaran 16-18gb pada bulan agustus hingga desember\n",
        "\n",
        "3. Pengguna plan 'surf' rata-rata tidak pernah terkena biaya tambahan untuk penggunaan sms\n",
        "\n",
        "4. Penggiriman sms pun cenderung meningkat pada tahun 2018\n",
        "\n",
        "5. Pengguna plan 'surf' rata-rata tidak pernah terkena biaya tambahan untuk penggunaan durasi telefon dan durasi yang tersisa cenderung sangat banyak\n",
        "\n",
        "6. Rata-rata pengguna plan 'surf hanya melakukan panggilan berurasi < 50 menit dalam sebulan\n",
        "\n",
        "7. Dapat dilihat juga jumlah pengguna plan surf meningkat setiap bulannya yang menandakan bahwa minat pengguna pada plan 'surf pun semakin meningkat"
      ]
    },
    {
      "cell_type": "code",
      "execution_count": null,
      "metadata": {
        "id": "xyc4YtxKZwxu"
      },
      "outputs": [],
      "source": [
        "# Fungsi untuk menentukan nilai mean, varians dan standar deviasi dalam 1 tahun\n",
        "def mean_var_std(data, column):\n",
        "    df_mean = np.mean(data[column])\n",
        "    df_median = np.median(data[column])\n",
        "    df_var = np.var(data[column])\n",
        "    df_std = np.sqrt(df_var)\n",
        "    print('Nilai rata-rata kolom', column,'=', df_mean)\n",
        "    print('Nilai median kolom', column, '=', df_median)\n",
        "    print('Nilai varians kolom', column,'=', df_var)\n",
        "    print('Nilai standar deviasi kolom', column,'=', df_std)"
      ]
    },
    {
      "cell_type": "code",
      "execution_count": null,
      "metadata": {
        "id": "ZDwZzRjgZwxv",
        "outputId": "4a8299a4-bc24-48be-bbdb-97dca2dcee4a"
      },
      "outputs": [
        {
          "name": "stdout",
          "output_type": "stream",
          "text": [
            "Nilai rata-rata kolom gb_used = 10.935362802335279\n",
            "Nilai median kolom gb_used = 12.0\n",
            "Nilai varians kolom gb_used = 103.08881619447956\n",
            "Nilai standar deviasi kolom gb_used = 10.153266282063106\n"
          ]
        }
      ],
      "source": [
        "# Nilai mean, varians dan standar deviasi kolom gb_used\n",
        "mean_var_std(df_surf, 'gb_used')"
      ]
    },
    {
      "cell_type": "code",
      "execution_count": null,
      "metadata": {
        "id": "reaOsmNVZwxv",
        "outputId": "335a3a38-f9bb-4a8b-f6bf-835599726aaa"
      },
      "outputs": [
        {
          "name": "stdout",
          "output_type": "stream",
          "text": [
            "Nilai rata-rata kolom duration (min) = 31.641784820683903\n",
            "Nilai median kolom duration (min) = 30.0\n",
            "Nilai varians kolom duration (min) = 965.78035578022\n",
            "Nilai standar deviasi kolom duration (min) = 31.077006866495687\n"
          ]
        }
      ],
      "source": [
        "# Nilai mean, varians dan standar deviasi kolom duration (min)\n",
        "mean_var_std(df_surf, 'duration (min)')"
      ]
    },
    {
      "cell_type": "code",
      "execution_count": null,
      "metadata": {
        "id": "PaZsT00cZwxv",
        "outputId": "bc15ab9b-5985-4e94-e1d2-f5c0a737f7a7"
      },
      "outputs": [
        {
          "name": "stdout",
          "output_type": "stream",
          "text": [
            "Nilai rata-rata kolom sms = 20.4395329441201\n",
            "Nilai median kolom sms = 2.0\n",
            "Nilai varians kolom sms = 957.7325822672635\n",
            "Nilai standar deviasi kolom sms = 30.947254842186947\n"
          ]
        }
      ],
      "source": [
        "# Nilai mean, varians dan standar deviasi kolom gb_used\n",
        "mean_var_std(df_surf, 'sms')"
      ]
    },
    {
      "cell_type": "code",
      "execution_count": null,
      "metadata": {
        "id": "-WiGSI-yZwxv",
        "outputId": "361f7906-a1e8-468e-e200-429fc4f07008"
      },
      "outputs": [
        {
          "data": {
            "image/png": "[encoded data removed]",
            "text/plain": [
              "<Figure size 1296x288 with 3 Axes>"
            ]
          },
          "metadata": {
            "needs_background": "light"
          },
          "output_type": "display_data"
        }
      ],
      "source": [
        "# Membuat histogram untuk melihat distribusi data\n",
        "plt.figure(figsize=(18,4))\n",
        "\n",
        "plt.subplot(1, 3, 1)\n",
        "gb_used = df_clean.loc[df_clean['plan_used'] == 'surf', 'gb_used']\n",
        "plt.title('data usage distribution')\n",
        "sns.histplot(data = gb_used)\n",
        "\n",
        "plt.subplot(1, 3, 2)\n",
        "sms = df_clean.loc[df_clean['plan_used'] == 'surf', 'sms']\n",
        "plt.title('sms usage distribution')\n",
        "sns.histplot(data = sms)\n",
        "\n",
        "plt.subplot(1, 3, 3)\n",
        "minutes = df_clean.loc[df_clean['plan_used'] == 'surf', 'duration (min)']\n",
        "plt.title('call duration distribution')\n",
        "sns.histplot(data = minutes)\n",
        "\n",
        "plt.show()"
      ]
    },
    {
      "cell_type": "markdown",
      "metadata": {
        "id": "UUnvaN62Zwxv"
      },
      "source": [
        "Berdasarkan visualisasi data histogram diatas dapat dilihat bahwa outlier sangat mempengaruhi pembacaan hasil, sehingga perlu dilakukan pembersihan outlier untuk dapat melihat distribusi data yang lebih jelas."
      ]
    },
    {
      "cell_type": "code",
      "execution_count": null,
      "metadata": {
        "id": "FpY-Ore4Zwxv"
      },
      "outputs": [],
      "source": [
        "# Membuat fungsi untuk menangani outlier\n",
        "def handling_outlier(data, column):\n",
        "    Q1 = data[column].quantile(0.25)\n",
        "    Q3 = data[column].quantile(0.75)\n",
        "    IQR = Q3 - Q1\n",
        "    lower_whisker = Q1 - (1.5 * IQR)\n",
        "    upper_whisker = Q3 + (1.5 * IQR)\n",
        "    temp_df = data[data[column] != 0]\n",
        "    df = temp_df[(temp_df[column]> lower_whisker) & (temp_df[column]< upper_whisker)].reset_index(drop=True)\n",
        "    return df"
      ]
    },
    {
      "cell_type": "code",
      "execution_count": null,
      "metadata": {
        "id": "Ytkt0iefZwxv"
      },
      "outputs": [],
      "source": [
        "# Variable baru tanpa outlier\n",
        "surf_internet_no = handling_outlier(df_surf, 'gb_used')\n",
        "surf_messages_no = handling_outlier(df_surf, 'sms')\n",
        "surf_calls_no = handling_outlier(df_surf, 'duration (min)')"
      ]
    },
    {
      "cell_type": "code",
      "execution_count": null,
      "metadata": {
        "id": "eIhBaf3fZwxv",
        "outputId": "8ef6cb2b-4c4e-4425-afbe-ca7b980905c3"
      },
      "outputs": [
        {
          "data": {
            "image/png": "[encoded data removed]",
            "text/plain": [
              "<Figure size 1008x1296 with 6 Axes>"
            ]
          },
          "metadata": {
            "needs_background": "light"
          },
          "output_type": "display_data"
        }
      ],
      "source": [
        "# Membuat histogram untuk melihat distribusi data tanpa outlier\n",
        "plt.figure(figsize=(14, 18))\n",
        "\n",
        "plt.subplot(3, 2, 1)\n",
        "gb_used = df_clean.loc[df_clean['plan_used'] == 'surf', 'gb_used']\n",
        "plt.title('data usage distribution')\n",
        "sns.histplot(data = gb_used)\n",
        "\n",
        "plt.subplot(3, 2, 2)\n",
        "gb_used_no = surf_internet_no.loc[surf_internet_no['plan_used'] == 'surf','gb_used']\n",
        "plt.title('data usage distribution')\n",
        "sns.histplot(data = gb_used_no)\n",
        "\n",
        "plt.subplot(3, 2, 3)\n",
        "sms = df_clean.loc[df_clean['plan_used'] == 'surf', 'sms']\n",
        "plt.title('sms usage distribution')\n",
        "sns.histplot(data = sms)\n",
        "\n",
        "plt.subplot(3, 2, 4)\n",
        "sms_no = surf_messages_no.loc[surf_messages_no['plan_used'] == 'surf', 'sms']\n",
        "plt.title('sms usage distribution')\n",
        "sns.histplot(data = sms_no)\n",
        "\n",
        "plt.subplot(3, 2, 5)\n",
        "minutes = df_clean.loc[df_clean['plan_used'] == 'surf', 'duration (min)']\n",
        "plt.title('call duration distribution')\n",
        "sns.histplot(data = minutes)\n",
        "\n",
        "plt.subplot(3, 2, 6)\n",
        "minutes_no = surf_calls_no.loc[surf_calls_no['plan_used'] == 'surf', 'duration (min)']\n",
        "plt.title('call duration distribution')\n",
        "sns.histplot(data = minutes_no)\n",
        "\n",
        "plt.show()"
      ]
    },
    {
      "cell_type": "markdown",
      "metadata": {
        "id": "Heov9eqyZwxw"
      },
      "source": [
        "**Melalui Visualisasi diatas dapat dilihat pada kolom sms usage distribution tidak terlalu terlihat distribusinya, sehingga mungkin dapat perlu dipertimbangkan visualisasi tetap dengan menggunakan outlier dan drop nilai nolnya**"
      ]
    },
    {
      "cell_type": "code",
      "execution_count": null,
      "metadata": {
        "scrolled": false,
        "id": "gx7ItT1lZwxw",
        "outputId": "17b01652-b8c7-4220-b7c5-cb2580bc68e4"
      },
      "outputs": [
        {
          "data": {
            "image/png": "[encoded data removed]",
            "text/plain": [
              "<Figure size 1152x1080 with 12 Axes>"
            ]
          },
          "metadata": {
            "needs_background": "light"
          },
          "output_type": "display_data"
        }
      ],
      "source": [
        "# Membuat histogram untuk melihat distribusi data tanpa nilai nol\n",
        "plt.figure(figsize=(16, 15))\n",
        "\n",
        "plt.subplot(3, 4, 1)\n",
        "gb_used = df_clean.loc[df_clean['plan_used'] == 'surf', 'gb_used']\n",
        "plt.title('data usage distribution')\n",
        "sns.histplot(data = gb_used)\n",
        "\n",
        "plt.subplot(3, 4, 2)\n",
        "gb_used_no = surf_internet_no.loc[surf_internet_no['plan_used'] == 'surf','gb_used']\n",
        "plt.title('data usage distribution')\n",
        "sns.histplot(data = gb_used_no)\n",
        "\n",
        "plt.subplot(3, 4, 3)\n",
        "gb = df_clean.loc[(df_clean['plan_used'] == 'surf') &\n",
        "                  (df_clean['gb_used'] != 0), 'gb_used']\n",
        "plt.title('data usage distribution')\n",
        "sns.histplot(data = gb)\n",
        "\n",
        "plt.subplot(3, 4, 4)\n",
        "gb_frq = df_clean.loc[(df_clean['plan_used'] == 'surf') &\n",
        "                  (df_clean['gb_used'] != 0), 'gb_used']\n",
        "plt.title('data usage distribution')\n",
        "sns.histplot(data =gb_frq, bins=[0, 5, 10, 15, 20, 25, 30, 35, 40, 45, 50, 55, 60, 65, 70, 75, 80])\n",
        "\n",
        "plt.subplot(3, 4, 5)\n",
        "sms = df_clean.loc[df_clean['plan_used'] == 'surf', 'sms']\n",
        "plt.title('sms usage distribution')\n",
        "sns.histplot(data = sms)\n",
        "\n",
        "plt.subplot(3, 4, 6)\n",
        "sms_no = surf_messages_no.loc[surf_messages_no['plan_used'] == 'surf', 'sms']\n",
        "plt.title('sms usage distribution')\n",
        "sns.histplot(data = sms_no)\n",
        "\n",
        "plt.subplot(3, 4, 7)\n",
        "sms = df_clean.loc[(df_clean['plan_used'] == 'surf') &\n",
        "                   (df_clean['sms'] != 0), 'sms']\n",
        "plt.title('sms usage distribution')\n",
        "sns.histplot(data = sms)\n",
        "\n",
        "plt.subplot(3, 4, 8)\n",
        "sms_frq = df_clean.loc[(df_clean['plan_used'] == 'surf') &\n",
        "                   (df_clean['sms'] != 0), 'sms']\n",
        "plt.title('sms usage distribution')\n",
        "sns.histplot(data = sms_frq, bins=[0, 25, 50, 75, 100, 125, 150, 175, 200, 225, 250, 275])\n",
        "\n",
        "plt.subplot(3, 4, 9)\n",
        "minutes = df_clean.loc[df_clean['plan_used'] == 'surf', 'duration (min)']\n",
        "plt.title('call duration distribution')\n",
        "sns.histplot(data = minutes)\n",
        "\n",
        "plt.subplot(3, 4, 10)\n",
        "minutes_no = surf_calls_no.loc[surf_calls_no['plan_used'] == 'surf', 'duration (min)']\n",
        "plt.title('call duration distribution')\n",
        "sns.histplot(data = minutes_no)\n",
        "\n",
        "plt.subplot(3, 4, 11)\n",
        "minutes = df_clean.loc[(df_clean['plan_used'] == 'surf') &\n",
        "                       (df_clean['duration (min)'] != 0), 'duration (min)']\n",
        "plt.title('call duration distribution')\n",
        "sns.histplot(data = minutes)\n",
        "\n",
        "plt.subplot(3, 4, 12)\n",
        "minutes_frq = df_clean.loc[(df_clean['plan_used'] == 'surf') &\n",
        "                       (df_clean['duration (min)'] != 0), 'duration (min)']\n",
        "plt.title('call duration distribution')\n",
        "sns.histplot(data = minutes_frq, bins=[0, 25, 50, 75, 100, 125, 150, 175, 200])\n",
        "\n",
        "plt.show()"
      ]
    },
    {
      "cell_type": "code",
      "execution_count": null,
      "metadata": {
        "id": "br1-ft0QZwxw"
      },
      "outputs": [],
      "source": [
        "# Membuat variabel baru tanpa nilai nol untuk melihat distribusinya\n",
        "surf_gb = df_surf.loc[(df_surf['gb_used'] != 0)]\n",
        "surf_sms = df_surf.loc[(df_surf['sms'] != 0)]\n",
        "surf_calls = df_surf.loc[(df_surf['duration (min)'] != 0)]"
      ]
    },
    {
      "cell_type": "code",
      "execution_count": null,
      "metadata": {
        "id": "kSxLtz-nZwxw",
        "outputId": "2918c87c-349b-4fd0-c6ea-5f7eddf9c3e6"
      },
      "outputs": [
        {
          "name": "stdout",
          "output_type": "stream",
          "text": [
            "Nilai rata-rata kolom gb_used = 16.831193838254173\n",
            "Nilai median kolom gb_used = 17.0\n",
            "Nilai varians kolom gb_used = 59.435560962426734\n",
            "Nilai standar deviasi kolom gb_used = 7.709446216326224\n"
          ]
        }
      ],
      "source": [
        "# Nilai mean, varians dan standar deviasi kolom gb_used\n",
        "mean_var_std(surf_gb, 'gb_used')"
      ]
    },
    {
      "cell_type": "code",
      "execution_count": null,
      "metadata": {
        "id": "80DyN4qNZwxw",
        "outputId": "57ce706c-6834-417b-ff04-a357c81783f0"
      },
      "outputs": [
        {
          "name": "stdout",
          "output_type": "stream",
          "text": [
            "Nilai rata-rata kolom duration (min) = 49.14313471502591\n",
            "Nilai median kolom duration (min) = 48.0\n",
            "Nilai varians kolom duration (min) = 639.8907818834062\n",
            "Nilai standar deviasi kolom duration (min) = 25.296062576681894\n"
          ]
        }
      ],
      "source": [
        "# Nilai mean, varians dan standar deviasi kolom duration (min)\n",
        "mean_var_std(surf_calls, 'duration (min)')"
      ]
    },
    {
      "cell_type": "code",
      "execution_count": null,
      "metadata": {
        "id": "j74MKmaIZwxx",
        "outputId": "196ba8aa-d1df-4faf-8d5d-5ff8ade0ae42"
      },
      "outputs": [
        {
          "name": "stdout",
          "output_type": "stream",
          "text": [
            "Nilai rata-rata kolom sms = 40.10965630114566\n",
            "Nilai median kolom sms = 32.0\n",
            "Nilai varians kolom sms = 1090.4511506183685\n",
            "Nilai standar deviasi kolom sms = 33.02197981070137\n"
          ]
        }
      ],
      "source": [
        "# Nilai mean, varians dan standar deviasi kolom gb_used\n",
        "mean_var_std(surf_sms, 'sms')"
      ]
    },
    {
      "cell_type": "code",
      "execution_count": null,
      "metadata": {
        "id": "Ej2Km3UvZwxx",
        "outputId": "ee2c18fd-9133-4b1f-95a3-ea5e14e51509"
      },
      "outputs": [
        {
          "data": {
            "text/plain": [
              "51.0"
            ]
          },
          "execution_count": 105,
          "metadata": {},
          "output_type": "execute_result"
        }
      ],
      "source": [
        "# Mencari kemungkinan pengguna terkena biaya tambahan dari pengiriman sms\n",
        "p_extra_sms = surf_sms['sms'].quantile(0.73)\n",
        "p_extra_sms"
      ]
    },
    {
      "cell_type": "markdown",
      "metadata": {
        "id": "hmPTocPIZwxx"
      },
      "source": [
        "**Insight:**\n",
        "1. Berdasarkan visualisasi dapat dilihat bahwa sebaran data penggunaan internet, sms dan telefon membentuk distribusi miring kanan\n",
        "2. Tetapi berdasarkan pengecekan nilai median dan mean ditemukan bahwa sebaran data penggunaan internet memiliki nilai mean yang lebih kecil dari pada median sehingga distribusinya dapat dikatakan miring kiri \n",
        "3. Visualisasi tersebut menjelaskan bahwa pada tahun 2018 rata-rata pengguna yang memilih plan surf terkena biaya tambahan internet dengan kemungkinan sebesar 50% untuk terkena biaya tambahan sebesar $20 per bulan\n",
        "4. Rata-rata pengguna tidak terkena biaya tambahan untuk penggunaan telfon maupun sms.\n",
        "5. Penggunaan waktu telfon tidak pernah melebihi batas yang include dalam plan surf\n",
        "6. Terdapat 27% kemungkinan pengguna terkena biaya tambahan dari kelebihan mengirimkan sms"
      ]
    },
    {
      "cell_type": "markdown",
      "metadata": {
        "id": "G1lFFp1oZwxx"
      },
      "source": [
        "### Analisa karakteristik pengguna plan 'Ultimate'<a id='ultimate_plan_analysis'></a>"
      ]
    },
    {
      "cell_type": "code",
      "execution_count": null,
      "metadata": {
        "id": "xOgSebq0Zwxx"
      },
      "outputs": [],
      "source": [
        "#filter pengguna yang menggunakan plan ultimate\n",
        "df_ultimate = df_clean[df_clean['plan_used'] == 'ultimate']"
      ]
    },
    {
      "cell_type": "code",
      "execution_count": null,
      "metadata": {
        "id": "RykXKWGbZwxx"
      },
      "outputs": [],
      "source": [
        "# Membuat pivot table untuk melihat karakteristik pengguna plan ultimate per bulan\n",
        "u_gb_wo_zero = df_ultimate[df_ultimate['gb_used'] != 0]\n",
        "u_sms_wo_zero = df_ultimate[df_ultimate['sms'] != 0]\n",
        "u_calls_wo_zero = df_ultimate[df_ultimate['duration (min)'] != 0]"
      ]
    },
    {
      "cell_type": "code",
      "execution_count": null,
      "metadata": {
        "id": "pb6LQoIdZwxx"
      },
      "outputs": [],
      "source": [
        "# melihat nilai mean, varian dan standard deviasi penggunaan internet, pengiriman sms dan durasi telefon\n",
        "u_gb_grouped = u_gb_wo_zero.pivot_table(index = 'month', \n",
        "                                    values = ['gb_used'], \n",
        "                                    aggfunc = (len, sum, np.mean, np.median, np.var, np.std)).reset_index()\n",
        "\n",
        "u_sms_grouped = u_sms_wo_zero.pivot_table(index = 'month', \n",
        "                                    values = ['sms'], \n",
        "                                    aggfunc = (len, sum, np.mean, np.median, np.var, np.std)).reset_index()\n",
        "\n",
        "u_calls_grouped = u_calls_wo_zero.pivot_table(index = 'month', \n",
        "                                    values = ['duration (min)'], \n",
        "                                    aggfunc = (len, sum, np.mean, np.median, np.var, np.std)).reset_index()"
      ]
    },
    {
      "cell_type": "code",
      "execution_count": null,
      "metadata": {
        "id": "YAG7UCE9Zwxy",
        "outputId": "2623c6e7-a784-4b51-9402-d076954c7d33"
      },
      "outputs": [
        {
          "data": {
            "text/html": [
              "<div>\n",
              "<style scoped>\n",
              "    .dataframe tbody tr th:only-of-type {\n",
              "        vertical-align: middle;\n",
              "    }\n",
              "\n",
              "    .dataframe tbody tr th {\n",
              "        vertical-align: top;\n",
              "    }\n",
              "\n",
              "    .dataframe thead tr th {\n",
              "        text-align: left;\n",
              "    }\n",
              "</style>\n",
              "<table border=\"1\" class=\"dataframe\">\n",
              "  <thead>\n",
              "    <tr>\n",
              "      <th></th>\n",
              "      <th>month</th>\n",
              "      <th colspan=\"6\" halign=\"left\">gb_used</th>\n",
              "      <th colspan=\"6\" halign=\"left\">sms</th>\n",
              "      <th colspan=\"6\" halign=\"left\">duration (min)</th>\n",
              "    </tr>\n",
              "    <tr>\n",
              "      <th></th>\n",
              "      <th></th>\n",
              "      <th>len</th>\n",
              "      <th>mean</th>\n",
              "      <th>median</th>\n",
              "      <th>std</th>\n",
              "      <th>sum</th>\n",
              "      <th>var</th>\n",
              "      <th>len</th>\n",
              "      <th>mean</th>\n",
              "      <th>median</th>\n",
              "      <th>std</th>\n",
              "      <th>sum</th>\n",
              "      <th>var</th>\n",
              "      <th>len</th>\n",
              "      <th>mean</th>\n",
              "      <th>median</th>\n",
              "      <th>std</th>\n",
              "      <th>sum</th>\n",
              "      <th>var</th>\n",
              "    </tr>\n",
              "  </thead>\n",
              "  <tbody>\n",
              "    <tr>\n",
              "      <th>0</th>\n",
              "      <td>2018-01</td>\n",
              "      <td>4.0</td>\n",
              "      <td>7.250000</td>\n",
              "      <td>8.0</td>\n",
              "      <td>3.862210</td>\n",
              "      <td>29.0</td>\n",
              "      <td>14.916667</td>\n",
              "      <td>3.0</td>\n",
              "      <td>20.666667</td>\n",
              "      <td>23.0</td>\n",
              "      <td>17.616280</td>\n",
              "      <td>62.0</td>\n",
              "      <td>310.333333</td>\n",
              "      <td>4.0</td>\n",
              "      <td>21.250000</td>\n",
              "      <td>25.0</td>\n",
              "      <td>14.545904</td>\n",
              "      <td>85.0</td>\n",
              "      <td>211.583333</td>\n",
              "    </tr>\n",
              "    <tr>\n",
              "      <th>1</th>\n",
              "      <td>2018-02</td>\n",
              "      <td>7.0</td>\n",
              "      <td>17.285714</td>\n",
              "      <td>20.0</td>\n",
              "      <td>6.156684</td>\n",
              "      <td>121.0</td>\n",
              "      <td>37.904762</td>\n",
              "      <td>6.0</td>\n",
              "      <td>25.166667</td>\n",
              "      <td>19.0</td>\n",
              "      <td>21.572359</td>\n",
              "      <td>151.0</td>\n",
              "      <td>465.366667</td>\n",
              "      <td>6.0</td>\n",
              "      <td>55.166667</td>\n",
              "      <td>58.0</td>\n",
              "      <td>26.708925</td>\n",
              "      <td>331.0</td>\n",
              "      <td>713.366667</td>\n",
              "    </tr>\n",
              "    <tr>\n",
              "      <th>2</th>\n",
              "      <td>2018-03</td>\n",
              "      <td>12.0</td>\n",
              "      <td>18.416667</td>\n",
              "      <td>21.0</td>\n",
              "      <td>11.774073</td>\n",
              "      <td>221.0</td>\n",
              "      <td>138.628788</td>\n",
              "      <td>7.0</td>\n",
              "      <td>34.714286</td>\n",
              "      <td>26.0</td>\n",
              "      <td>24.777102</td>\n",
              "      <td>243.0</td>\n",
              "      <td>613.904762</td>\n",
              "      <td>12.0</td>\n",
              "      <td>36.583333</td>\n",
              "      <td>28.5</td>\n",
              "      <td>31.242332</td>\n",
              "      <td>439.0</td>\n",
              "      <td>976.083333</td>\n",
              "    </tr>\n",
              "    <tr>\n",
              "      <th>3</th>\n",
              "      <td>2018-04</td>\n",
              "      <td>21.0</td>\n",
              "      <td>16.333333</td>\n",
              "      <td>16.0</td>\n",
              "      <td>9.264628</td>\n",
              "      <td>343.0</td>\n",
              "      <td>85.833333</td>\n",
              "      <td>16.0</td>\n",
              "      <td>28.937500</td>\n",
              "      <td>20.5</td>\n",
              "      <td>22.646468</td>\n",
              "      <td>463.0</td>\n",
              "      <td>512.862500</td>\n",
              "      <td>21.0</td>\n",
              "      <td>39.047619</td>\n",
              "      <td>40.0</td>\n",
              "      <td>21.898576</td>\n",
              "      <td>820.0</td>\n",
              "      <td>479.547619</td>\n",
              "    </tr>\n",
              "    <tr>\n",
              "      <th>4</th>\n",
              "      <td>2018-05</td>\n",
              "      <td>29.0</td>\n",
              "      <td>16.862069</td>\n",
              "      <td>17.0</td>\n",
              "      <td>7.361697</td>\n",
              "      <td>489.0</td>\n",
              "      <td>54.194581</td>\n",
              "      <td>21.0</td>\n",
              "      <td>44.333333</td>\n",
              "      <td>35.0</td>\n",
              "      <td>35.311943</td>\n",
              "      <td>931.0</td>\n",
              "      <td>1246.933333</td>\n",
              "      <td>29.0</td>\n",
              "      <td>45.965517</td>\n",
              "      <td>44.0</td>\n",
              "      <td>23.798984</td>\n",
              "      <td>1333.0</td>\n",
              "      <td>566.391626</td>\n",
              "    </tr>\n",
              "    <tr>\n",
              "      <th>5</th>\n",
              "      <td>2018-06</td>\n",
              "      <td>47.0</td>\n",
              "      <td>15.425532</td>\n",
              "      <td>15.0</td>\n",
              "      <td>8.298100</td>\n",
              "      <td>725.0</td>\n",
              "      <td>68.858464</td>\n",
              "      <td>38.0</td>\n",
              "      <td>36.289474</td>\n",
              "      <td>31.0</td>\n",
              "      <td>28.411939</td>\n",
              "      <td>1379.0</td>\n",
              "      <td>807.238265</td>\n",
              "      <td>45.0</td>\n",
              "      <td>44.022222</td>\n",
              "      <td>46.0</td>\n",
              "      <td>21.473545</td>\n",
              "      <td>1981.0</td>\n",
              "      <td>461.113131</td>\n",
              "    </tr>\n",
              "    <tr>\n",
              "      <th>6</th>\n",
              "      <td>2018-07</td>\n",
              "      <td>59.0</td>\n",
              "      <td>16.491525</td>\n",
              "      <td>15.0</td>\n",
              "      <td>8.015874</td>\n",
              "      <td>973.0</td>\n",
              "      <td>64.254237</td>\n",
              "      <td>47.0</td>\n",
              "      <td>41.212766</td>\n",
              "      <td>35.0</td>\n",
              "      <td>29.293074</td>\n",
              "      <td>1937.0</td>\n",
              "      <td>858.084181</td>\n",
              "      <td>59.0</td>\n",
              "      <td>47.355932</td>\n",
              "      <td>48.0</td>\n",
              "      <td>30.364318</td>\n",
              "      <td>2794.0</td>\n",
              "      <td>921.991818</td>\n",
              "    </tr>\n",
              "    <tr>\n",
              "      <th>7</th>\n",
              "      <td>2018-08</td>\n",
              "      <td>71.0</td>\n",
              "      <td>17.845070</td>\n",
              "      <td>18.0</td>\n",
              "      <td>7.618864</td>\n",
              "      <td>1267.0</td>\n",
              "      <td>58.047082</td>\n",
              "      <td>57.0</td>\n",
              "      <td>47.929825</td>\n",
              "      <td>42.0</td>\n",
              "      <td>32.161901</td>\n",
              "      <td>2732.0</td>\n",
              "      <td>1034.387845</td>\n",
              "      <td>71.0</td>\n",
              "      <td>48.000000</td>\n",
              "      <td>47.0</td>\n",
              "      <td>26.083383</td>\n",
              "      <td>3408.0</td>\n",
              "      <td>680.342857</td>\n",
              "    </tr>\n",
              "    <tr>\n",
              "      <th>8</th>\n",
              "      <td>2018-09</td>\n",
              "      <td>86.0</td>\n",
              "      <td>17.011628</td>\n",
              "      <td>16.5</td>\n",
              "      <td>6.874495</td>\n",
              "      <td>1463.0</td>\n",
              "      <td>47.258687</td>\n",
              "      <td>71.0</td>\n",
              "      <td>45.901408</td>\n",
              "      <td>47.0</td>\n",
              "      <td>30.056212</td>\n",
              "      <td>3259.0</td>\n",
              "      <td>903.375855</td>\n",
              "      <td>86.0</td>\n",
              "      <td>48.930233</td>\n",
              "      <td>48.5</td>\n",
              "      <td>25.644993</td>\n",
              "      <td>4208.0</td>\n",
              "      <td>657.665663</td>\n",
              "    </tr>\n",
              "    <tr>\n",
              "      <th>9</th>\n",
              "      <td>2018-10</td>\n",
              "      <td>105.0</td>\n",
              "      <td>17.885714</td>\n",
              "      <td>17.0</td>\n",
              "      <td>7.216853</td>\n",
              "      <td>1878.0</td>\n",
              "      <td>52.082967</td>\n",
              "      <td>89.0</td>\n",
              "      <td>46.977528</td>\n",
              "      <td>40.0</td>\n",
              "      <td>33.151847</td>\n",
              "      <td>4181.0</td>\n",
              "      <td>1099.044944</td>\n",
              "      <td>105.0</td>\n",
              "      <td>51.504762</td>\n",
              "      <td>53.0</td>\n",
              "      <td>26.076855</td>\n",
              "      <td>5408.0</td>\n",
              "      <td>680.002381</td>\n",
              "    </tr>\n",
              "    <tr>\n",
              "      <th>10</th>\n",
              "      <td>2018-11</td>\n",
              "      <td>127.0</td>\n",
              "      <td>17.118110</td>\n",
              "      <td>17.0</td>\n",
              "      <td>7.375005</td>\n",
              "      <td>2174.0</td>\n",
              "      <td>54.390701</td>\n",
              "      <td>103.0</td>\n",
              "      <td>47.601942</td>\n",
              "      <td>41.0</td>\n",
              "      <td>33.019703</td>\n",
              "      <td>4903.0</td>\n",
              "      <td>1090.300781</td>\n",
              "      <td>125.0</td>\n",
              "      <td>50.752000</td>\n",
              "      <td>49.0</td>\n",
              "      <td>26.368559</td>\n",
              "      <td>6344.0</td>\n",
              "      <td>695.300903</td>\n",
              "    </tr>\n",
              "    <tr>\n",
              "      <th>11</th>\n",
              "      <td>2018-12</td>\n",
              "      <td>151.0</td>\n",
              "      <td>18.397351</td>\n",
              "      <td>17.0</td>\n",
              "      <td>7.670793</td>\n",
              "      <td>2778.0</td>\n",
              "      <td>58.841060</td>\n",
              "      <td>126.0</td>\n",
              "      <td>53.936508</td>\n",
              "      <td>48.5</td>\n",
              "      <td>37.064861</td>\n",
              "      <td>6796.0</td>\n",
              "      <td>1373.803937</td>\n",
              "      <td>149.0</td>\n",
              "      <td>52.838926</td>\n",
              "      <td>51.0</td>\n",
              "      <td>27.388858</td>\n",
              "      <td>7873.0</td>\n",
              "      <td>750.149556</td>\n",
              "    </tr>\n",
              "  </tbody>\n",
              "</table>\n",
              "</div>"
            ],
            "text/plain": [
              "      month gb_used                                                     sms  \\\n",
              "                len       mean median        std     sum         var    len   \n",
              "0   2018-01     4.0   7.250000    8.0   3.862210    29.0   14.916667    3.0   \n",
              "1   2018-02     7.0  17.285714   20.0   6.156684   121.0   37.904762    6.0   \n",
              "2   2018-03    12.0  18.416667   21.0  11.774073   221.0  138.628788    7.0   \n",
              "3   2018-04    21.0  16.333333   16.0   9.264628   343.0   85.833333   16.0   \n",
              "4   2018-05    29.0  16.862069   17.0   7.361697   489.0   54.194581   21.0   \n",
              "5   2018-06    47.0  15.425532   15.0   8.298100   725.0   68.858464   38.0   \n",
              "6   2018-07    59.0  16.491525   15.0   8.015874   973.0   64.254237   47.0   \n",
              "7   2018-08    71.0  17.845070   18.0   7.618864  1267.0   58.047082   57.0   \n",
              "8   2018-09    86.0  17.011628   16.5   6.874495  1463.0   47.258687   71.0   \n",
              "9   2018-10   105.0  17.885714   17.0   7.216853  1878.0   52.082967   89.0   \n",
              "10  2018-11   127.0  17.118110   17.0   7.375005  2174.0   54.390701  103.0   \n",
              "11  2018-12   151.0  18.397351   17.0   7.670793  2778.0   58.841060  126.0   \n",
              "\n",
              "                                                     duration (min)  \\\n",
              "         mean median        std     sum          var            len   \n",
              "0   20.666667   23.0  17.616280    62.0   310.333333            4.0   \n",
              "1   25.166667   19.0  21.572359   151.0   465.366667            6.0   \n",
              "2   34.714286   26.0  24.777102   243.0   613.904762           12.0   \n",
              "3   28.937500   20.5  22.646468   463.0   512.862500           21.0   \n",
              "4   44.333333   35.0  35.311943   931.0  1246.933333           29.0   \n",
              "5   36.289474   31.0  28.411939  1379.0   807.238265           45.0   \n",
              "6   41.212766   35.0  29.293074  1937.0   858.084181           59.0   \n",
              "7   47.929825   42.0  32.161901  2732.0  1034.387845           71.0   \n",
              "8   45.901408   47.0  30.056212  3259.0   903.375855           86.0   \n",
              "9   46.977528   40.0  33.151847  4181.0  1099.044944          105.0   \n",
              "10  47.601942   41.0  33.019703  4903.0  1090.300781          125.0   \n",
              "11  53.936508   48.5  37.064861  6796.0  1373.803937          149.0   \n",
              "\n",
              "                                                     \n",
              "         mean median        std     sum         var  \n",
              "0   21.250000   25.0  14.545904    85.0  211.583333  \n",
              "1   55.166667   58.0  26.708925   331.0  713.366667  \n",
              "2   36.583333   28.5  31.242332   439.0  976.083333  \n",
              "3   39.047619   40.0  21.898576   820.0  479.547619  \n",
              "4   45.965517   44.0  23.798984  1333.0  566.391626  \n",
              "5   44.022222   46.0  21.473545  1981.0  461.113131  \n",
              "6   47.355932   48.0  30.364318  2794.0  921.991818  \n",
              "7   48.000000   47.0  26.083383  3408.0  680.342857  \n",
              "8   48.930233   48.5  25.644993  4208.0  657.665663  \n",
              "9   51.504762   53.0  26.076855  5408.0  680.002381  \n",
              "10  50.752000   49.0  26.368559  6344.0  695.300903  \n",
              "11  52.838926   51.0  27.388858  7873.0  750.149556  "
            ]
          },
          "execution_count": 109,
          "metadata": {},
          "output_type": "execute_result"
        }
      ],
      "source": [
        "# Menggabungkan tabel\n",
        "u_grouped_merge = u_gb_grouped.merge(u_sms_grouped, how = 'left')\n",
        "u_grouped_merge = u_grouped_merge.merge(u_calls_grouped, how = 'left')\n",
        "u_grouped_merge"
      ]
    },
    {
      "cell_type": "code",
      "execution_count": null,
      "metadata": {
        "id": "sjd9h6o8Zwxy",
        "outputId": "2a5086c9-90f2-449f-a678-e33a045ad82d"
      },
      "outputs": [
        {
          "data": {
            "image/png": "[encoded data removed]",
            "text/plain": [
              "<Figure size 1152x1440 with 12 Axes>"
            ]
          },
          "metadata": {
            "needs_background": "light"
          },
          "output_type": "display_data"
        }
      ],
      "source": [
        "# Distribusi penggunaan internet per bulan\n",
        "plt.figure(figsize=(16, 20))\n",
        "\n",
        "plt.subplot(4, 3, 1)\n",
        "surf_1 = groupby_month('plan_used', 'ultimate', '2018-01', 'gb_used')\n",
        "plt.title('January data usage')\n",
        "sns.histplot(data = surf_1)\n",
        "\n",
        "plt.subplot(4, 3, 2)\n",
        "surf_2 = groupby_month('plan_used', 'ultimate', '2018-02', 'gb_used')\n",
        "plt.title('February data usage')\n",
        "sns.histplot(data = surf_2)\n",
        "\n",
        "plt.subplot(4, 3, 3)\n",
        "surf_3 = groupby_month('plan_used', 'ultimate', '2018-03', 'gb_used')\n",
        "plt.title('March data usage')\n",
        "sns.histplot(data = surf_3)\n",
        "\n",
        "plt.subplot(4, 3, 4)\n",
        "surf_4 = groupby_month('plan_used', 'ultimate', '2018-04', 'gb_used')\n",
        "plt.title('April data usage')\n",
        "sns.histplot(data = surf_4)\n",
        "\n",
        "plt.subplot(4, 3, 5)\n",
        "surf_5 = groupby_month('plan_used', 'ultimate', '2018-05', 'gb_used')\n",
        "plt.title('May data usage')\n",
        "sns.histplot(data = surf_5)\n",
        "\n",
        "plt.subplot(4, 3, 6)\n",
        "surf_6 = groupby_month('plan_used', 'ultimate', '2018-06', 'gb_used')\n",
        "plt.title('June data usage')\n",
        "sns.histplot(data = surf_6)\n",
        "\n",
        "plt.subplot(4, 3, 7)\n",
        "surf_7 = groupby_month('plan_used', 'ultimate', '2018-07', 'gb_used')\n",
        "plt.title('July data usage')\n",
        "sns.histplot(data = surf_7)\n",
        "\n",
        "plt.subplot(4, 3, 8)\n",
        "surf_8 = groupby_month('plan_used', 'ultimate', '2018-08', 'gb_used')\n",
        "plt.title('August data usage')\n",
        "sns.histplot(data = surf_8)\n",
        "\n",
        "plt.subplot(4, 3, 9)\n",
        "surf_9 = groupby_month('plan_used', 'ultimate', '2018-09', 'gb_used')\n",
        "plt.title('September data usage')\n",
        "sns.histplot(data = surf_9)\n",
        "\n",
        "plt.subplot(4, 3, 10)\n",
        "surf_10 = groupby_month('plan_used', 'ultimate', '2018-10', 'gb_used')\n",
        "plt.title('October data usage')\n",
        "sns.histplot(data = surf_10)\n",
        "\n",
        "plt.subplot(4, 3, 11)\n",
        "surf_11 = groupby_month('plan_used', 'ultimate', '2018-11', 'gb_used')\n",
        "plt.title('November data usage')\n",
        "sns.histplot(data = surf_11)\n",
        "\n",
        "plt.subplot(4, 3, 12)\n",
        "surf_12 = groupby_month('plan_used', 'ultimate', '2018-12', 'gb_used')\n",
        "plt.title('December data usage')\n",
        "sns.histplot(data = surf_12)\n",
        "\n",
        "plt.show()"
      ]
    },
    {
      "cell_type": "code",
      "execution_count": null,
      "metadata": {
        "id": "exhc5m2jZwxy",
        "outputId": "c4a3d218-f5ae-46e7-b39d-4edc26ba87f9"
      },
      "outputs": [
        {
          "data": {
            "image/png": "[encoded data removed]",
            "text/plain": [
              "<Figure size 1152x1440 with 12 Axes>"
            ]
          },
          "metadata": {
            "needs_background": "light"
          },
          "output_type": "display_data"
        }
      ],
      "source": [
        "plt.figure(figsize=(16, 20))\n",
        "\n",
        "plt.subplot(4, 3, 1)\n",
        "surf_1 = groupby_month('plan_used', 'ultimate', '2018-01', 'sms')\n",
        "plt.title('January data usage')\n",
        "sns.histplot(data = surf_1)\n",
        "\n",
        "plt.subplot(4, 3, 2)\n",
        "surf_2 = groupby_month('plan_used', 'ultimate', '2018-02', 'sms')\n",
        "plt.title('February data usage')\n",
        "sns.histplot(data = surf_2)\n",
        "\n",
        "plt.subplot(4, 3, 3)\n",
        "surf_3 = groupby_month('plan_used', 'ultimate', '2018-03', 'sms')\n",
        "plt.title('March data usage')\n",
        "sns.histplot(data = surf_3)\n",
        "\n",
        "plt.subplot(4, 3, 4)\n",
        "surf_4 = groupby_month('plan_used', 'ultimate', '2018-04', 'sms')\n",
        "plt.title('April data usage')\n",
        "sns.histplot(data = surf_4)\n",
        "\n",
        "plt.subplot(4, 3, 5)\n",
        "surf_5 = groupby_month('plan_used', 'ultimate', '2018-05', 'sms')\n",
        "plt.title('May data usage')\n",
        "sns.histplot(data = surf_5)\n",
        "\n",
        "plt.subplot(4, 3, 6)\n",
        "surf_6 = groupby_month('plan_used', 'ultimate', '2018-06', 'sms')\n",
        "plt.title('June data usage')\n",
        "sns.histplot(data = surf_6)\n",
        "\n",
        "plt.subplot(4, 3, 7)\n",
        "surf_7 = groupby_month('plan_used', 'ultimate', '2018-07', 'sms')\n",
        "plt.title('July data usage')\n",
        "sns.histplot(data = surf_7)\n",
        "\n",
        "plt.subplot(4, 3, 8)\n",
        "surf_8 = groupby_month('plan_used', 'ultimate', '2018-08', 'sms')\n",
        "plt.title('August data usage')\n",
        "sns.histplot(data = surf_8)\n",
        "\n",
        "plt.subplot(4, 3, 9)\n",
        "surf_9 = groupby_month('plan_used', 'ultimate', '2018-09', 'sms')\n",
        "plt.title('September data usage')\n",
        "sns.histplot(data = surf_9)\n",
        "\n",
        "plt.subplot(4, 3, 10)\n",
        "surf_10 = groupby_month('plan_used', 'ultimate', '2018-10', 'sms')\n",
        "plt.title('October data usage')\n",
        "sns.histplot(data = surf_10)\n",
        "\n",
        "plt.subplot(4, 3, 11)\n",
        "surf_11 = groupby_month('plan_used', 'ultimate', '2018-11', 'sms')\n",
        "plt.title('November data usage')\n",
        "sns.histplot(data = surf_11)\n",
        "\n",
        "plt.subplot(4, 3, 12)\n",
        "surf_12 = groupby_month('plan_used', 'ultimate', '2018-12', 'sms')\n",
        "plt.title('December data usage')\n",
        "sns.histplot(data = surf_12)\n",
        "\n",
        "plt.show()"
      ]
    },
    {
      "cell_type": "code",
      "execution_count": null,
      "metadata": {
        "id": "NQjOtp1ZZwxy",
        "outputId": "ee098080-65d0-44ac-eca8-49deac35e1bd"
      },
      "outputs": [
        {
          "data": {
            "image/png": "[encoded data removed]",
            "text/plain": [
              "<Figure size 1152x1440 with 12 Axes>"
            ]
          },
          "metadata": {
            "needs_background": "light"
          },
          "output_type": "display_data"
        }
      ],
      "source": [
        "# Distribusi durasi telefon per bulan\n",
        "plt.figure(figsize=(16, 20))\n",
        "\n",
        "plt.subplot(4, 3, 1)\n",
        "surf_1 = groupby_month('plan_used', 'ultimate', '2018-01', 'duration (min)')\n",
        "plt.title('January data usage')\n",
        "sns.histplot(data = surf_1)\n",
        "\n",
        "plt.subplot(4, 3, 2)\n",
        "surf_2 = groupby_month('plan_used', 'ultimate', '2018-02', 'duration (min)')\n",
        "plt.title('February data usage')\n",
        "sns.histplot(data = surf_2)\n",
        "\n",
        "plt.subplot(4, 3, 3)\n",
        "surf_3 = groupby_month('plan_used', 'ultimate', '2018-03', 'duration (min)')\n",
        "plt.title('March data usage')\n",
        "sns.histplot(data = surf_3)\n",
        "\n",
        "plt.subplot(4, 3, 4)\n",
        "surf_4 = groupby_month('plan_used', 'ultimate', '2018-04', 'duration (min)')\n",
        "plt.title('April data usage')\n",
        "sns.histplot(data = surf_4)\n",
        "\n",
        "plt.subplot(4, 3, 5)\n",
        "surf_5 = groupby_month('plan_used', 'ultimate', '2018-05', 'duration (min)')\n",
        "plt.title('May data usage')\n",
        "sns.histplot(data = surf_5)\n",
        "\n",
        "plt.subplot(4, 3, 6)\n",
        "surf_6 = groupby_month('plan_used', 'ultimate', '2018-06', 'duration (min)')\n",
        "plt.title('June data usage')\n",
        "sns.histplot(data = surf_6)\n",
        "\n",
        "plt.subplot(4, 3, 7)\n",
        "surf_7 = groupby_month('plan_used', 'ultimate', '2018-07', 'duration (min)')\n",
        "plt.title('July data usage')\n",
        "sns.histplot(data = surf_7)\n",
        "\n",
        "plt.subplot(4, 3, 8)\n",
        "surf_8 = groupby_month('plan_used', 'ultimate', '2018-08', 'duration (min)')\n",
        "plt.title('August data usage')\n",
        "sns.histplot(data = surf_8)\n",
        "\n",
        "plt.subplot(4, 3, 9)\n",
        "surf_9 = groupby_month('plan_used', 'ultimate', '2018-09', 'duration (min)')\n",
        "plt.title('September data usage')\n",
        "sns.histplot(data = surf_9)\n",
        "\n",
        "plt.subplot(4, 3, 10)\n",
        "surf_10 = groupby_month('plan_used', 'ultimate', '2018-10', 'duration (min)')\n",
        "plt.title('October data usage')\n",
        "sns.histplot(data = surf_10)\n",
        "\n",
        "plt.subplot(4, 3, 11)\n",
        "surf_11 = groupby_month('plan_used', 'ultimate', '2018-11', 'duration (min)')\n",
        "plt.title('November data usage')\n",
        "sns.histplot(data = surf_11)\n",
        "\n",
        "plt.subplot(4, 3, 12)\n",
        "surf_12 = groupby_month('plan_used', 'ultimate', '2018-12', 'duration (min)')\n",
        "plt.title('December data usage')\n",
        "sns.histplot(data = surf_12)\n",
        "\n",
        "plt.show()"
      ]
    },
    {
      "cell_type": "markdown",
      "metadata": {
        "id": "Glk2RhcMZwxy"
      },
      "source": [
        "**Insight**\n",
        "1. Pengguna yang memilih plan 'ultimate' rata-rata tidak terkena biaya tambahan untuk penggunaan internet dan sisa internet yang tidak digunakan cenderung sangat banyak\n",
        "\n",
        "2. Penggunaan internet cenderung stabil dari bulan februari hingga desember dengan kisaran diantara 15-18gb\n",
        "\n",
        "3. Pengguna plan 'ultimate' rata-rata tidak pernah terkena biaya tambahan untuk penggunaan sms \n",
        "\n",
        "4. Penggiriman sms pun cenderung meningkat pada tahun 2018, meskipun sisa sms yang tidak digunakan cenderung sangat banyak\n",
        "\n",
        "5. Pengguna plan 'ultimate' rata-rata tidak pernah terkena biaya tambahan untuk penggunaan durasi telefon dan durasi yang tersisa cenderung sangat banyak\n",
        "\n",
        "6. Rata-rata pengguna plan 'ultimate hanya melakukan panggilan berurasi < 50 menit dalam sebulan"
      ]
    },
    {
      "cell_type": "markdown",
      "metadata": {
        "id": "F3PyAufgZwxz"
      },
      "source": [
        "## Menguji Hipotesis <a id='hypotesis_testing'></a>"
      ]
    },
    {
      "cell_type": "markdown",
      "metadata": {
        "id": "cTgFPJtFZwxz"
      },
      "source": [
        "### Rata-rata pendapatan dari pengguna paket telepon Ultimate dan Surf berbeda <a id='surf_ultimate_revenue'></a>"
      ]
    },
    {
      "cell_type": "markdown",
      "metadata": {
        "id": "ZL-3omv4Zwxz"
      },
      "source": [
        "Hipotesis nol umumnya adalah hipotesis yang menyatakan sesuatu yang akan diuji adalah sama, sehingga nilai \n",
        "\n",
        "H0: Rata-rata pendapatan dari pengguna paket telepon Ultimate dan Surf **sama**\n",
        "\n",
        "H1: Rata-rata pendapatan dari pengguna paket telepon Ultimate dan Surf **tidak sama**\n",
        "\n",
        "Kriteria pengujian hipoetesis yang saya gunakan adalah pengujian rata-rata untuk 2 populasi karena samplenya merupakan 2 populasi yang berbeda "
      ]
    },
    {
      "cell_type": "code",
      "execution_count": null,
      "metadata": {
        "id": "BVQhzX-nZwxz",
        "outputId": "b2e49754-6538-4696-9cd3-ca9b4839f5b3"
      },
      "outputs": [
        {
          "data": {
            "text/plain": [
              "(2291.4799533504947, 83.78596595737363)"
            ]
          },
          "execution_count": 113,
          "metadata": {},
          "output_type": "execute_result"
        }
      ],
      "source": [
        "# Melihat perbedaan nilai variasi pendapatan antara plan ultimate dan surf\n",
        "np.var(df_surf['revenue']), np.var(df_ultimate['revenue'])"
      ]
    },
    {
      "cell_type": "code",
      "execution_count": null,
      "metadata": {
        "id": "0Uwqjp0DZwxz",
        "outputId": "74deda0b-a910-44e4-a015-adca6b17e5c2"
      },
      "outputs": [
        {
          "name": "stdout",
          "output_type": "stream",
          "text": [
            "p-value: 8.421768951752138e-130\n",
            "Kita menolak hipotesis nol\n"
          ]
        }
      ],
      "source": [
        "# Melakukan pengujian hipotesis\n",
        "alpha = 0.05\n",
        "\n",
        "results_usr = st.ttest_ind(df_surf['revenue'], df_ultimate['revenue'], equal_var = False)\n",
        "\n",
        "print('p-value:', results_usr.pvalue)\n",
        "\n",
        "if (results_usr.pvalue < alpha):\n",
        "    print(\"Kita menolak hipotesis nol\")\n",
        "else:\n",
        "    print(\"Kita tidak dapat menolak hipotesis nol\")"
      ]
    },
    {
      "cell_type": "markdown",
      "metadata": {
        "id": "gjXzQky4Zwxz"
      },
      "source": [
        "### Rata-rata pendapatan dari pengguna di wilayah NY-NJ berbeda dengan pendapatan pengguna dari wilayah lain. <a id='ny_nj_revenue'></a>"
      ]
    },
    {
      "cell_type": "markdown",
      "metadata": {
        "id": "AUwm7z4SZwxz"
      },
      "source": [
        "Hipotesis nol umumnya adalah hipotesis yang menyatakan sesuatu yang akan diuji adalah sama, sehingga nilai \n",
        "\n",
        "H0: Rata-rata pendapatan dari pengguna di wilayah NY-NJ dengan pendapatan pengguna dari wilayah lain adalah **sama**\n",
        "\n",
        "H1: Rata-rata pendapatan dari pengguna di wilayah NY-NJ dengan pendapatan pengguna dari wilayah lain adalah **tidak sama**\n",
        "\n",
        "Kriteria pengujian hipoetesis yang saya gunakan adalah pengujian rata-rata untuk 2 populasi karena samplenya merupakan 2 populasi yang berbeda "
      ]
    },
    {
      "cell_type": "code",
      "execution_count": null,
      "metadata": {
        "id": "7_Fx4C3LZwxz"
      },
      "outputs": [],
      "source": [
        "# #filter pengguna berdasarkan daerah\n",
        "df_ny_nj = df_clean[df_clean['is_ny_nj'] == 'NY-NJ']\n",
        "df_others = df_clean[df_clean['is_ny_nj'] == 'others']"
      ]
    },
    {
      "cell_type": "code",
      "execution_count": null,
      "metadata": {
        "id": "Lr1NHjPwZwx0",
        "outputId": "7acde104-47a9-441f-abe5-8512c35d9c2b"
      },
      "outputs": [
        {
          "data": {
            "text/plain": [
              "(1514.9094869991204, 1769.6640225970048)"
            ]
          },
          "execution_count": 116,
          "metadata": {},
          "output_type": "execute_result"
        }
      ],
      "source": [
        "# Melihat perbedaan nilai variasi pendapatan antara daerah ny-nj atau bukan\n",
        "np.var(df_ny_nj['revenue']), np.var(df_others['revenue'])"
      ]
    },
    {
      "cell_type": "code",
      "execution_count": null,
      "metadata": {
        "id": "H-xnhS0jZwx0",
        "outputId": "5578d80c-f71b-4533-dc5a-d32caf244490"
      },
      "outputs": [
        {
          "name": "stdout",
          "output_type": "stream",
          "text": [
            "p-value: 0.004157849388059232\n",
            "Kita menolak hipotesis nol\n"
          ]
        }
      ],
      "source": [
        "# Melakukan pengujian hipotesis\n",
        "alpha = 0.05\n",
        "\n",
        "results_usr = st.ttest_ind(df_ny_nj['revenue'], df_others['revenue'], equal_var = False)\n",
        "\n",
        "print('p-value:', results_usr.pvalue)\n",
        "\n",
        "if (results_usr.pvalue < alpha):\n",
        "    print(\"Kita menolak hipotesis nol\")\n",
        "else:\n",
        "    print(\"Kita tidak dapat menolak hipotesis nol\")"
      ]
    },
    {
      "cell_type": "markdown",
      "metadata": {
        "id": "Bmh0yiwOZwx0"
      },
      "source": [
        "## Kesimpulan <a id='summary'></a>"
      ]
    },
    {
      "cell_type": "markdown",
      "metadata": {
        "id": "TLrktvSQZwx0"
      },
      "source": [
        "Berdasarkan pengamatan didapatkan diketahui hipotesis data benar bahwa terdapat perbedaan diantara jumlah pendapatan antara plan surf dan plan ultimate, serta perbedaan antara jumlah pendapatan dari pengguna yang berasal dari NY-NJ dan daerah lainnya. \n",
        "\n",
        "Berdasarkan visualisasi dapat dilihat bahwa jumlah pengguna paket surf cenderung meningkat tiap bulannya, dapat disimpulkan bahwa sepertinya paket surf memang cukup murah dan lebih sesuai dengan kebutuhan pengguna pada daerah NY-NJ dan daerah lainnya.\n",
        "\n",
        "Jika jumlah pendapatan dihitung berdasarkan biaya tambahan yang dikenakan apabila terdapat kelebihan penggunaan paket surf memang mendatangkan pendapatan yang lebih tinggi pada seluruh daerah, tetapi jika dihitung berdasarkan total pendapatan paket ultimate - la yang mendapatkan pendapatan yang lebih tinggi.\n",
        "\n",
        "Kesimpulannya untuk anggaran iklan lebih baik untuk diset pada paket ultimate karena **paket ultimate mendatangkan pendapatan lebih banyak dari pada paket surf**"
      ]
    },
    {
      "cell_type": "markdown",
      "metadata": {
        "id": "LNC3nvLXZwx0"
      },
      "source": [
        "Based on the analysis, the marketing team can consider the following recommendations:\n",
        "\n",
        "The marketing department focuses their advertising budget on the Ultimate plan. Although the Surf plan has a lower cost and is more popular in NY-NJ and other areas, the revenue from the Ultimate plan is higher when calculated based on total revenue. Additionally, the number of Surf plan users is already increasing every month, suggesting that it does not require as much advertising attention as the Ultimate plan. The marketing department can also consider offering promotions or incentives for customers to switch to the Ultimate plan to further increase revenue.\n"
      ]
    },
    {
      "cell_type": "code",
      "execution_count": null,
      "metadata": {
        "id": "TmMOTrFoZwx0"
      },
      "outputs": [],
      "source": []
    }
  ],
  "metadata": {
    "kernelspec": {
      "display_name": "Python 3 (ipykernel)",
      "language": "python",
      "name": "python3"
    },
    "language_info": {
      "codemirror_mode": {
        "name": "ipython",
        "version": 3
      },
      "file_extension": ".py",
      "mimetype": "text/x-python",
      "name": "python",
      "nbconvert_exporter": "python",
      "pygments_lexer": "ipython3",
      "version": "3.9.5"
    },
    "toc": {
      "base_numbering": 1,
      "nav_menu": {},
      "number_sections": true,
      "sideBar": true,
      "skip_h1_title": true,
      "title_cell": "Table of Contents",
      "title_sidebar": "Contents",
      "toc_cell": false,
      "toc_position": {
        "height": "calc(100% - 180px)",
        "left": "10px",
        "top": "150px",
        "width": "307.925px"
      },
      "toc_section_display": true,
      "toc_window_display": true
    },
    "colab": {
      "provenance": []
    }
  },
  "nbformat": 4,
  "nbformat_minor": 0
}